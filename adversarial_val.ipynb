{
  "nbformat": 4,
  "nbformat_minor": 0,
  "metadata": {
    "colab": {
      "name": "adversarial val.ipynb",
      "provenance": [],
      "machine_shape": "hm",
      "mount_file_id": "1sGKbEymzz-nVwKgFi8KZgro1CuD1tMk3",
      "authorship_tag": "ABX9TyOyUu1EbOaH+yd2aSbJiFPH",
      "include_colab_link": true
    },
    "kernelspec": {
      "name": "python3",
      "display_name": "Python 3"
    },
    "language_info": {
      "name": "python"
    },
    "accelerator": "GPU",
    "gpuClass": "standard"
  },
  "cells": [
    {
      "cell_type": "markdown",
      "metadata": {
        "id": "view-in-github",
        "colab_type": "text"
      },
      "source": [
        "<a href=\"https://colab.research.google.com/github/DONDAJIN/Kaggle_amex/blob/master/adversarial_val.ipynb\" target=\"_parent\"><img src=\"https://colab.research.google.com/assets/colab-badge.svg\" alt=\"Open In Colab\"/></a>"
      ]
    },
    {
      "cell_type": "code",
      "source": [
        "!pip install catboost"
      ],
      "metadata": {
        "colab": {
          "base_uri": "https://localhost:8080/"
        },
        "id": "wAMZIPyKPA7X",
        "outputId": "65820a8a-50af-48f0-e81d-f719edc3fc05"
      },
      "execution_count": 3,
      "outputs": [
        {
          "output_type": "stream",
          "name": "stdout",
          "text": [
            "Looking in indexes: https://pypi.org/simple, https://us-python.pkg.dev/colab-wheels/public/simple/\n",
            "Collecting catboost\n",
            "  Downloading catboost-1.0.6-cp37-none-manylinux1_x86_64.whl (76.6 MB)\n",
            "\u001b[K     |████████████████████████████████| 76.6 MB 166 kB/s \n",
            "\u001b[?25hRequirement already satisfied: matplotlib in /usr/local/lib/python3.7/dist-packages (from catboost) (3.2.2)\n",
            "Requirement already satisfied: plotly in /usr/local/lib/python3.7/dist-packages (from catboost) (5.5.0)\n",
            "Requirement already satisfied: scipy in /usr/local/lib/python3.7/dist-packages (from catboost) (1.7.3)\n",
            "Requirement already satisfied: numpy>=1.16.0 in /usr/local/lib/python3.7/dist-packages (from catboost) (1.21.6)\n",
            "Requirement already satisfied: graphviz in /usr/local/lib/python3.7/dist-packages (from catboost) (0.10.1)\n",
            "Requirement already satisfied: six in /usr/local/lib/python3.7/dist-packages (from catboost) (1.15.0)\n",
            "Requirement already satisfied: pandas>=0.24.0 in /usr/local/lib/python3.7/dist-packages (from catboost) (1.3.5)\n",
            "Requirement already satisfied: pytz>=2017.3 in /usr/local/lib/python3.7/dist-packages (from pandas>=0.24.0->catboost) (2022.1)\n",
            "Requirement already satisfied: python-dateutil>=2.7.3 in /usr/local/lib/python3.7/dist-packages (from pandas>=0.24.0->catboost) (2.8.2)\n",
            "Requirement already satisfied: kiwisolver>=1.0.1 in /usr/local/lib/python3.7/dist-packages (from matplotlib->catboost) (1.4.4)\n",
            "Requirement already satisfied: cycler>=0.10 in /usr/local/lib/python3.7/dist-packages (from matplotlib->catboost) (0.11.0)\n",
            "Requirement already satisfied: pyparsing!=2.0.4,!=2.1.2,!=2.1.6,>=2.0.1 in /usr/local/lib/python3.7/dist-packages (from matplotlib->catboost) (3.0.9)\n",
            "Requirement already satisfied: typing-extensions in /usr/local/lib/python3.7/dist-packages (from kiwisolver>=1.0.1->matplotlib->catboost) (4.1.1)\n",
            "Requirement already satisfied: tenacity>=6.2.0 in /usr/local/lib/python3.7/dist-packages (from plotly->catboost) (8.0.1)\n",
            "Installing collected packages: catboost\n",
            "Successfully installed catboost-1.0.6\n"
          ]
        }
      ]
    },
    {
      "cell_type": "code",
      "execution_count": 54,
      "metadata": {
        "id": "evF8ifX-J9Yr"
      },
      "outputs": [],
      "source": [
        "import cupy\n",
        "import pandas as pd\n",
        "from sklearn.model_selection import KFold\n",
        "from sklearn.metrics import roc_auc_score\n",
        "from catboost import Pool\n",
        "from catboost import CatBoost\n",
        "import numpy as np\n",
        "from tqdm import tqdm\n",
        "import seaborn as sns\n",
        "import matplotlib.pyplot as plt\n",
        "%matplotlib inline\n",
        "from sklearn.model_selection import train_test_split\n",
        "import gc\n",
        "import warnings\n",
        "warnings.simplefilter('ignore')"
      ]
    },
    {
      "cell_type": "code",
      "source": [
        "test = pd.read_parquet('/content/drive/MyDrive/Kaggle/Input/test.parquet')\n",
        "test = test.drop_duplicates(subset=[\"customer_ID\"], keep=\"last\") #subsetで重複している列を指定、keepで最後の行を保つ\n",
        "test['S_2'] = pd.to_datetime(test['S_2'])\n",
        "test['month'] = (test['S_2'].dt.month).astype('int8')\n",
        "\n",
        "train = pd.read_parquet('/content/drive/MyDrive/Kaggle/Input/train.parquet')\n",
        "train = train.drop_duplicates(subset=[\"customer_ID\"], keep=\"last\")\n",
        "train['S_2'] = pd.to_datetime(train['S_2'])\n",
        "train['month'] = (train['S_2'].dt.month).astype('int8')"
      ],
      "metadata": {
        "id": "6i5ke69HLhVb"
      },
      "execution_count": 34,
      "outputs": []
    },
    {
      "cell_type": "code",
      "source": [
        "train['target']=1\n",
        "test['target']=0\n",
        "\n",
        "test_private=test[test['month']==4].reset_index(drop=True) #さっきdropした分のindexを整理する\n",
        "test_public=test[test['month']==10].reset_index(drop=True)\n",
        "del test\n",
        "gc.collect()"
      ],
      "metadata": {
        "colab": {
          "base_uri": "https://localhost:8080/"
        },
        "id": "8Qe6bPbdPwYV",
        "outputId": "d355ceaa-20f4-4aaa-bead-f63cb77e1b6f"
      },
      "execution_count": 35,
      "outputs": [
        {
          "output_type": "execute_result",
          "data": {
            "text/plain": [
              "986"
            ]
          },
          "metadata": {},
          "execution_count": 35
        }
      ]
    },
    {
      "cell_type": "code",
      "source": [
        "test_public.isnull().sum()"
      ],
      "metadata": {
        "colab": {
          "base_uri": "https://localhost:8080/"
        },
        "id": "sksLs4PbcfXh",
        "outputId": "b69542c7-b5ca-4673-cd87-f08445cd53b6"
      },
      "execution_count": 46,
      "outputs": [
        {
          "output_type": "execute_result",
          "data": {
            "text/plain": [
              "customer_ID       0\n",
              "S_2               0\n",
              "P_2            1955\n",
              "D_39              0\n",
              "B_1               0\n",
              "               ... \n",
              "D_143             0\n",
              "D_144             0\n",
              "D_145             0\n",
              "month             0\n",
              "target            0\n",
              "Length: 192, dtype: int64"
            ]
          },
          "metadata": {},
          "execution_count": 46
        }
      ]
    },
    {
      "cell_type": "markdown",
      "source": [
        "Train vs. Public"
      ],
      "metadata": {
        "id": "fAh7L5blQ5i-"
      }
    },
    {
      "cell_type": "code",
      "source": [
        "data=pd.concat([train,test_public]).reset_index(drop=True) #デフォルトでaxis=0"
      ],
      "metadata": {
        "id": "VxoZINJASDqr"
      },
      "execution_count": 47,
      "outputs": []
    },
    {
      "cell_type": "code",
      "source": [
        "TARGET='target'\n",
        "drop_cols=['S_2','month','customer_ID',TARGET]\n",
        "use_cols=[c for c in data.columns if  c not in drop_cols]"
      ],
      "metadata": {
        "id": "6oVFkKgJSfE_"
      },
      "execution_count": 48,
      "outputs": []
    },
    {
      "cell_type": "code",
      "source": [
        "cat_params={\n",
        "        'loss_function' : 'Logloss', #二値分類でtrainとtestの予測を行う\n",
        "        'eval_metric' : 'AUC',\n",
        "        'learning_rate': 0.1,\n",
        "        'num_boost_round': 2500,\n",
        "        'early_stopping_rounds': 50,\n",
        "        'random_state': 127,\n",
        "        'task_type': 'GPU'\n",
        "}"
      ],
      "metadata": {
        "id": "kVkIvrx_SyrM"
      },
      "execution_count": 49,
      "outputs": []
    },
    {
      "cell_type": "code",
      "source": [
        "data"
      ],
      "metadata": {
        "colab": {
          "base_uri": "https://localhost:8080/",
          "height": 661
        },
        "id": "by7B-rWvYM6h",
        "outputId": "cf7a6064-1ea8-459a-c777-a76ff3c15ba5"
      },
      "execution_count": 50,
      "outputs": [
        {
          "output_type": "execute_result",
          "data": {
            "text/plain": [
              "                                              customer_ID        S_2  \\\n",
              "0       0000099d6bd597052cdcda90ffabf56573fe9d7c79be5f... 2018-03-13   \n",
              "1       00000fd6641609c6ece5454664794f0340ad84dddce9a2... 2018-03-25   \n",
              "2       00001b22f846c82c51f6e3958ccd81970162bae8b007e8... 2018-03-12   \n",
              "3       000041bdba6ecadd89a52d11886e8eaaec9325906c9723... 2018-03-29   \n",
              "4       00007889e4fcd2614b6cbe7f8f3d2e5c728eca32d9eb8a... 2018-03-30   \n",
              "...                                                   ...        ...   \n",
              "915563  fffed528456683bc080e85131cdcd4bd1a067fcbeca9d4... 2019-10-12   \n",
              "915564  fffed768c2776427eb09b7665df629f647228c0654017e... 2019-10-19   \n",
              "915565  fffed845116a1a9c7c4b2f0fff839e7aa418e3c0307e8c... 2019-10-08   \n",
              "915566  ffff1cf18b40bacfe82d222c6d214eb8400c5a82b207ff... 2019-10-27   \n",
              "915567  ffffcf5df59e5e0bba2a5ac4578a34e2b5aa64a1546cd3... 2019-10-19   \n",
              "\n",
              "             P_2  D_39       B_1       B_2       R_1       S_3      D_41  \\\n",
              "0       0.934745     0  0.009382  1.007647  0.006104  0.135021  0.000000   \n",
              "1       0.880519     6  0.034684  1.004028  0.006911  0.165509  0.000000   \n",
              "2       0.880875     0  0.004284  0.812649  0.006450       NaN  0.000000   \n",
              "3       0.621776     0  0.012564  1.006183  0.007829  0.287766  0.000000   \n",
              "4       0.871900     0  0.007679  0.815746  0.001247       NaN  0.000000   \n",
              "...          ...   ...       ...       ...       ...       ...       ...   \n",
              "915563  1.003760     1  0.024083  0.814736  0.000000  0.173170  0.000000   \n",
              "915564  0.871654     0  0.178124  0.270553  0.000000  0.138044  0.000000   \n",
              "915565  0.649229     0  0.014754  0.668239  0.000000  0.130658  0.475543   \n",
              "915566 -0.002841     0  0.013448  0.002159  0.000000  0.537104  0.654503   \n",
              "915567  0.471303     0  0.084163  0.082507  0.508855  0.857136  0.000000   \n",
              "\n",
              "             B_3  ...  D_138  D_139  D_140     D_141     D_142  D_143  \\\n",
              "0       0.007174  ...     -1      0      0  0.000000       NaN      0   \n",
              "1       0.005068  ...     -1      0      0  0.000000       NaN      0   \n",
              "2       0.007196  ...     -1      0      0  0.000000       NaN      0   \n",
              "3       0.009937  ...     -1      0      0  0.000000       NaN      0   \n",
              "4       0.005528  ...     -1      0      0  0.000000       NaN      0   \n",
              "...          ...  ...    ...    ...    ...       ...       ...    ...   \n",
              "915563  0.003942  ...     -1      0      0  0.000000       NaN      0   \n",
              "915564  0.302046  ...     -1      0      0  0.000000       NaN      0   \n",
              "915565  0.010700  ...     -1      0      0  0.000000       NaN      0   \n",
              "915566  0.009408  ...     -1      1      0  0.866755  0.020442      1   \n",
              "915567  0.070524  ...     -1      0      0  0.000000       NaN      0   \n",
              "\n",
              "           D_144  D_145  month  target  \n",
              "0       0.002970      0      3       1  \n",
              "1       0.003169      0      3       1  \n",
              "2       0.000834      0      3       1  \n",
              "3       0.005560      0      3       1  \n",
              "4       0.006944      0      3       1  \n",
              "...          ...    ...    ...     ...  \n",
              "915563  0.007206      0     10       0  \n",
              "915564  0.001633      0     10       0  \n",
              "915565  0.003888      0     10       0  \n",
              "915566  0.006395      4     10       0  \n",
              "915567  0.005432      0     10       0  \n",
              "\n",
              "[915568 rows x 192 columns]"
            ],
            "text/html": [
              "\n",
              "  <div id=\"df-a439c55e-7764-42eb-bf61-725798eefa3f\">\n",
              "    <div class=\"colab-df-container\">\n",
              "      <div>\n",
              "<style scoped>\n",
              "    .dataframe tbody tr th:only-of-type {\n",
              "        vertical-align: middle;\n",
              "    }\n",
              "\n",
              "    .dataframe tbody tr th {\n",
              "        vertical-align: top;\n",
              "    }\n",
              "\n",
              "    .dataframe thead th {\n",
              "        text-align: right;\n",
              "    }\n",
              "</style>\n",
              "<table border=\"1\" class=\"dataframe\">\n",
              "  <thead>\n",
              "    <tr style=\"text-align: right;\">\n",
              "      <th></th>\n",
              "      <th>customer_ID</th>\n",
              "      <th>S_2</th>\n",
              "      <th>P_2</th>\n",
              "      <th>D_39</th>\n",
              "      <th>B_1</th>\n",
              "      <th>B_2</th>\n",
              "      <th>R_1</th>\n",
              "      <th>S_3</th>\n",
              "      <th>D_41</th>\n",
              "      <th>B_3</th>\n",
              "      <th>...</th>\n",
              "      <th>D_138</th>\n",
              "      <th>D_139</th>\n",
              "      <th>D_140</th>\n",
              "      <th>D_141</th>\n",
              "      <th>D_142</th>\n",
              "      <th>D_143</th>\n",
              "      <th>D_144</th>\n",
              "      <th>D_145</th>\n",
              "      <th>month</th>\n",
              "      <th>target</th>\n",
              "    </tr>\n",
              "  </thead>\n",
              "  <tbody>\n",
              "    <tr>\n",
              "      <th>0</th>\n",
              "      <td>0000099d6bd597052cdcda90ffabf56573fe9d7c79be5f...</td>\n",
              "      <td>2018-03-13</td>\n",
              "      <td>0.934745</td>\n",
              "      <td>0</td>\n",
              "      <td>0.009382</td>\n",
              "      <td>1.007647</td>\n",
              "      <td>0.006104</td>\n",
              "      <td>0.135021</td>\n",
              "      <td>0.000000</td>\n",
              "      <td>0.007174</td>\n",
              "      <td>...</td>\n",
              "      <td>-1</td>\n",
              "      <td>0</td>\n",
              "      <td>0</td>\n",
              "      <td>0.000000</td>\n",
              "      <td>NaN</td>\n",
              "      <td>0</td>\n",
              "      <td>0.002970</td>\n",
              "      <td>0</td>\n",
              "      <td>3</td>\n",
              "      <td>1</td>\n",
              "    </tr>\n",
              "    <tr>\n",
              "      <th>1</th>\n",
              "      <td>00000fd6641609c6ece5454664794f0340ad84dddce9a2...</td>\n",
              "      <td>2018-03-25</td>\n",
              "      <td>0.880519</td>\n",
              "      <td>6</td>\n",
              "      <td>0.034684</td>\n",
              "      <td>1.004028</td>\n",
              "      <td>0.006911</td>\n",
              "      <td>0.165509</td>\n",
              "      <td>0.000000</td>\n",
              "      <td>0.005068</td>\n",
              "      <td>...</td>\n",
              "      <td>-1</td>\n",
              "      <td>0</td>\n",
              "      <td>0</td>\n",
              "      <td>0.000000</td>\n",
              "      <td>NaN</td>\n",
              "      <td>0</td>\n",
              "      <td>0.003169</td>\n",
              "      <td>0</td>\n",
              "      <td>3</td>\n",
              "      <td>1</td>\n",
              "    </tr>\n",
              "    <tr>\n",
              "      <th>2</th>\n",
              "      <td>00001b22f846c82c51f6e3958ccd81970162bae8b007e8...</td>\n",
              "      <td>2018-03-12</td>\n",
              "      <td>0.880875</td>\n",
              "      <td>0</td>\n",
              "      <td>0.004284</td>\n",
              "      <td>0.812649</td>\n",
              "      <td>0.006450</td>\n",
              "      <td>NaN</td>\n",
              "      <td>0.000000</td>\n",
              "      <td>0.007196</td>\n",
              "      <td>...</td>\n",
              "      <td>-1</td>\n",
              "      <td>0</td>\n",
              "      <td>0</td>\n",
              "      <td>0.000000</td>\n",
              "      <td>NaN</td>\n",
              "      <td>0</td>\n",
              "      <td>0.000834</td>\n",
              "      <td>0</td>\n",
              "      <td>3</td>\n",
              "      <td>1</td>\n",
              "    </tr>\n",
              "    <tr>\n",
              "      <th>3</th>\n",
              "      <td>000041bdba6ecadd89a52d11886e8eaaec9325906c9723...</td>\n",
              "      <td>2018-03-29</td>\n",
              "      <td>0.621776</td>\n",
              "      <td>0</td>\n",
              "      <td>0.012564</td>\n",
              "      <td>1.006183</td>\n",
              "      <td>0.007829</td>\n",
              "      <td>0.287766</td>\n",
              "      <td>0.000000</td>\n",
              "      <td>0.009937</td>\n",
              "      <td>...</td>\n",
              "      <td>-1</td>\n",
              "      <td>0</td>\n",
              "      <td>0</td>\n",
              "      <td>0.000000</td>\n",
              "      <td>NaN</td>\n",
              "      <td>0</td>\n",
              "      <td>0.005560</td>\n",
              "      <td>0</td>\n",
              "      <td>3</td>\n",
              "      <td>1</td>\n",
              "    </tr>\n",
              "    <tr>\n",
              "      <th>4</th>\n",
              "      <td>00007889e4fcd2614b6cbe7f8f3d2e5c728eca32d9eb8a...</td>\n",
              "      <td>2018-03-30</td>\n",
              "      <td>0.871900</td>\n",
              "      <td>0</td>\n",
              "      <td>0.007679</td>\n",
              "      <td>0.815746</td>\n",
              "      <td>0.001247</td>\n",
              "      <td>NaN</td>\n",
              "      <td>0.000000</td>\n",
              "      <td>0.005528</td>\n",
              "      <td>...</td>\n",
              "      <td>-1</td>\n",
              "      <td>0</td>\n",
              "      <td>0</td>\n",
              "      <td>0.000000</td>\n",
              "      <td>NaN</td>\n",
              "      <td>0</td>\n",
              "      <td>0.006944</td>\n",
              "      <td>0</td>\n",
              "      <td>3</td>\n",
              "      <td>1</td>\n",
              "    </tr>\n",
              "    <tr>\n",
              "      <th>...</th>\n",
              "      <td>...</td>\n",
              "      <td>...</td>\n",
              "      <td>...</td>\n",
              "      <td>...</td>\n",
              "      <td>...</td>\n",
              "      <td>...</td>\n",
              "      <td>...</td>\n",
              "      <td>...</td>\n",
              "      <td>...</td>\n",
              "      <td>...</td>\n",
              "      <td>...</td>\n",
              "      <td>...</td>\n",
              "      <td>...</td>\n",
              "      <td>...</td>\n",
              "      <td>...</td>\n",
              "      <td>...</td>\n",
              "      <td>...</td>\n",
              "      <td>...</td>\n",
              "      <td>...</td>\n",
              "      <td>...</td>\n",
              "      <td>...</td>\n",
              "    </tr>\n",
              "    <tr>\n",
              "      <th>915563</th>\n",
              "      <td>fffed528456683bc080e85131cdcd4bd1a067fcbeca9d4...</td>\n",
              "      <td>2019-10-12</td>\n",
              "      <td>1.003760</td>\n",
              "      <td>1</td>\n",
              "      <td>0.024083</td>\n",
              "      <td>0.814736</td>\n",
              "      <td>0.000000</td>\n",
              "      <td>0.173170</td>\n",
              "      <td>0.000000</td>\n",
              "      <td>0.003942</td>\n",
              "      <td>...</td>\n",
              "      <td>-1</td>\n",
              "      <td>0</td>\n",
              "      <td>0</td>\n",
              "      <td>0.000000</td>\n",
              "      <td>NaN</td>\n",
              "      <td>0</td>\n",
              "      <td>0.007206</td>\n",
              "      <td>0</td>\n",
              "      <td>10</td>\n",
              "      <td>0</td>\n",
              "    </tr>\n",
              "    <tr>\n",
              "      <th>915564</th>\n",
              "      <td>fffed768c2776427eb09b7665df629f647228c0654017e...</td>\n",
              "      <td>2019-10-19</td>\n",
              "      <td>0.871654</td>\n",
              "      <td>0</td>\n",
              "      <td>0.178124</td>\n",
              "      <td>0.270553</td>\n",
              "      <td>0.000000</td>\n",
              "      <td>0.138044</td>\n",
              "      <td>0.000000</td>\n",
              "      <td>0.302046</td>\n",
              "      <td>...</td>\n",
              "      <td>-1</td>\n",
              "      <td>0</td>\n",
              "      <td>0</td>\n",
              "      <td>0.000000</td>\n",
              "      <td>NaN</td>\n",
              "      <td>0</td>\n",
              "      <td>0.001633</td>\n",
              "      <td>0</td>\n",
              "      <td>10</td>\n",
              "      <td>0</td>\n",
              "    </tr>\n",
              "    <tr>\n",
              "      <th>915565</th>\n",
              "      <td>fffed845116a1a9c7c4b2f0fff839e7aa418e3c0307e8c...</td>\n",
              "      <td>2019-10-08</td>\n",
              "      <td>0.649229</td>\n",
              "      <td>0</td>\n",
              "      <td>0.014754</td>\n",
              "      <td>0.668239</td>\n",
              "      <td>0.000000</td>\n",
              "      <td>0.130658</td>\n",
              "      <td>0.475543</td>\n",
              "      <td>0.010700</td>\n",
              "      <td>...</td>\n",
              "      <td>-1</td>\n",
              "      <td>0</td>\n",
              "      <td>0</td>\n",
              "      <td>0.000000</td>\n",
              "      <td>NaN</td>\n",
              "      <td>0</td>\n",
              "      <td>0.003888</td>\n",
              "      <td>0</td>\n",
              "      <td>10</td>\n",
              "      <td>0</td>\n",
              "    </tr>\n",
              "    <tr>\n",
              "      <th>915566</th>\n",
              "      <td>ffff1cf18b40bacfe82d222c6d214eb8400c5a82b207ff...</td>\n",
              "      <td>2019-10-27</td>\n",
              "      <td>-0.002841</td>\n",
              "      <td>0</td>\n",
              "      <td>0.013448</td>\n",
              "      <td>0.002159</td>\n",
              "      <td>0.000000</td>\n",
              "      <td>0.537104</td>\n",
              "      <td>0.654503</td>\n",
              "      <td>0.009408</td>\n",
              "      <td>...</td>\n",
              "      <td>-1</td>\n",
              "      <td>1</td>\n",
              "      <td>0</td>\n",
              "      <td>0.866755</td>\n",
              "      <td>0.020442</td>\n",
              "      <td>1</td>\n",
              "      <td>0.006395</td>\n",
              "      <td>4</td>\n",
              "      <td>10</td>\n",
              "      <td>0</td>\n",
              "    </tr>\n",
              "    <tr>\n",
              "      <th>915567</th>\n",
              "      <td>ffffcf5df59e5e0bba2a5ac4578a34e2b5aa64a1546cd3...</td>\n",
              "      <td>2019-10-19</td>\n",
              "      <td>0.471303</td>\n",
              "      <td>0</td>\n",
              "      <td>0.084163</td>\n",
              "      <td>0.082507</td>\n",
              "      <td>0.508855</td>\n",
              "      <td>0.857136</td>\n",
              "      <td>0.000000</td>\n",
              "      <td>0.070524</td>\n",
              "      <td>...</td>\n",
              "      <td>-1</td>\n",
              "      <td>0</td>\n",
              "      <td>0</td>\n",
              "      <td>0.000000</td>\n",
              "      <td>NaN</td>\n",
              "      <td>0</td>\n",
              "      <td>0.005432</td>\n",
              "      <td>0</td>\n",
              "      <td>10</td>\n",
              "      <td>0</td>\n",
              "    </tr>\n",
              "  </tbody>\n",
              "</table>\n",
              "<p>915568 rows × 192 columns</p>\n",
              "</div>\n",
              "      <button class=\"colab-df-convert\" onclick=\"convertToInteractive('df-a439c55e-7764-42eb-bf61-725798eefa3f')\"\n",
              "              title=\"Convert this dataframe to an interactive table.\"\n",
              "              style=\"display:none;\">\n",
              "        \n",
              "  <svg xmlns=\"http://www.w3.org/2000/svg\" height=\"24px\"viewBox=\"0 0 24 24\"\n",
              "       width=\"24px\">\n",
              "    <path d=\"M0 0h24v24H0V0z\" fill=\"none\"/>\n",
              "    <path d=\"M18.56 5.44l.94 2.06.94-2.06 2.06-.94-2.06-.94-.94-2.06-.94 2.06-2.06.94zm-11 1L8.5 8.5l.94-2.06 2.06-.94-2.06-.94L8.5 2.5l-.94 2.06-2.06.94zm10 10l.94 2.06.94-2.06 2.06-.94-2.06-.94-.94-2.06-.94 2.06-2.06.94z\"/><path d=\"M17.41 7.96l-1.37-1.37c-.4-.4-.92-.59-1.43-.59-.52 0-1.04.2-1.43.59L10.3 9.45l-7.72 7.72c-.78.78-.78 2.05 0 2.83L4 21.41c.39.39.9.59 1.41.59.51 0 1.02-.2 1.41-.59l7.78-7.78 2.81-2.81c.8-.78.8-2.07 0-2.86zM5.41 20L4 18.59l7.72-7.72 1.47 1.35L5.41 20z\"/>\n",
              "  </svg>\n",
              "      </button>\n",
              "      \n",
              "  <style>\n",
              "    .colab-df-container {\n",
              "      display:flex;\n",
              "      flex-wrap:wrap;\n",
              "      gap: 12px;\n",
              "    }\n",
              "\n",
              "    .colab-df-convert {\n",
              "      background-color: #E8F0FE;\n",
              "      border: none;\n",
              "      border-radius: 50%;\n",
              "      cursor: pointer;\n",
              "      display: none;\n",
              "      fill: #1967D2;\n",
              "      height: 32px;\n",
              "      padding: 0 0 0 0;\n",
              "      width: 32px;\n",
              "    }\n",
              "\n",
              "    .colab-df-convert:hover {\n",
              "      background-color: #E2EBFA;\n",
              "      box-shadow: 0px 1px 2px rgba(60, 64, 67, 0.3), 0px 1px 3px 1px rgba(60, 64, 67, 0.15);\n",
              "      fill: #174EA6;\n",
              "    }\n",
              "\n",
              "    [theme=dark] .colab-df-convert {\n",
              "      background-color: #3B4455;\n",
              "      fill: #D2E3FC;\n",
              "    }\n",
              "\n",
              "    [theme=dark] .colab-df-convert:hover {\n",
              "      background-color: #434B5C;\n",
              "      box-shadow: 0px 1px 3px 1px rgba(0, 0, 0, 0.15);\n",
              "      filter: drop-shadow(0px 1px 2px rgba(0, 0, 0, 0.3));\n",
              "      fill: #FFFFFF;\n",
              "    }\n",
              "  </style>\n",
              "\n",
              "      <script>\n",
              "        const buttonEl =\n",
              "          document.querySelector('#df-a439c55e-7764-42eb-bf61-725798eefa3f button.colab-df-convert');\n",
              "        buttonEl.style.display =\n",
              "          google.colab.kernel.accessAllowed ? 'block' : 'none';\n",
              "\n",
              "        async function convertToInteractive(key) {\n",
              "          const element = document.querySelector('#df-a439c55e-7764-42eb-bf61-725798eefa3f');\n",
              "          const dataTable =\n",
              "            await google.colab.kernel.invokeFunction('convertToInteractive',\n",
              "                                                     [key], {});\n",
              "          if (!dataTable) return;\n",
              "\n",
              "          const docLinkHtml = 'Like what you see? Visit the ' +\n",
              "            '<a target=\"_blank\" href=https://colab.research.google.com/notebooks/data_table.ipynb>data table notebook</a>'\n",
              "            + ' to learn more about interactive tables.';\n",
              "          element.innerHTML = '';\n",
              "          dataTable['output_type'] = 'display_data';\n",
              "          await google.colab.output.renderOutput(dataTable, element);\n",
              "          const docLink = document.createElement('div');\n",
              "          docLink.innerHTML = docLinkHtml;\n",
              "          element.appendChild(docLink);\n",
              "        }\n",
              "      </script>\n",
              "    </div>\n",
              "  </div>\n",
              "  "
            ]
          },
          "metadata": {},
          "execution_count": 50
        }
      ]
    },
    {
      "cell_type": "code",
      "source": [
        "drop_feats=[]\n",
        "fi_df_all=[]\n",
        "while True:\n",
        "  train_x,valid_x,train_y,valid_y=train_test_split(data[use_cols],data[TARGET],test_size=0.33,random_state=42)\n",
        "  \n",
        "  trn_data=Pool(train_x,label=train_y)\n",
        "  val_data=Pool(valid_x,label=valid_y)\n",
        "\n",
        "  model=CatBoost(cat_params)\n",
        "  model.fit(trn_data,\n",
        "            eval_set=val_data,\n",
        "            verbose_eval=500,\n",
        "            use_best_model=True)\n",
        "  pred=model.predict(val_data)\n",
        "  auc_score=roc_auc_score(valid_y,pred)\n",
        "  print(f'AUC Score: {auc_score}')\n",
        "\n",
        "  if auc_score<0.65:\n",
        "    break\n",
        "  else:\n",
        "    fi_df=pd.DataFrame()\n",
        "    fi_df['importance']=model.get_feature_importance(Pool(train_x,train_y))\n",
        "    fi_df['features']=use_cols\n",
        "    fi_df=fi_df.sort_values(by='importance',ascending=False)#降順でsort\n",
        "    fi_df_all.append(fi_df)\n",
        "    drop_feats+=fi_df['features'].to_list()[:5] #5個重要度が高いものを落とす\n",
        "    use_cols=[c for c in use_cols if c not in drop_feats]\n",
        "    print(f'Drop Features: {drop_feats}')"
      ],
      "metadata": {
        "colab": {
          "base_uri": "https://localhost:8080/"
        },
        "id": "Puq82wcITgM8",
        "outputId": "f207d335-aab4-4a28-829d-9c037087f47e"
      },
      "execution_count": 51,
      "outputs": [
        {
          "output_type": "stream",
          "name": "stderr",
          "text": [
            "Default metric period is 5 because AUC is/are not implemented for GPU\n"
          ]
        },
        {
          "output_type": "stream",
          "name": "stdout",
          "text": [
            "0:\ttest: 0.9994538\tbest: 0.9994538 (0)\ttotal: 17.1ms\tremaining: 42.8s\n",
            "500:\ttest: 0.9999622\tbest: 0.9999622 (489)\ttotal: 6.79s\tremaining: 27.1s\n",
            "bestTest = 0.9999650717\n",
            "bestIteration = 838\n",
            "Shrink model to first 839 iterations.\n",
            "AUC Score: 0.9999650415639555\n",
            "Drop Features: ['B_29', 'R_1', 'D_59', 'S_11', 'S_15']\n"
          ]
        },
        {
          "output_type": "stream",
          "name": "stderr",
          "text": [
            "Default metric period is 5 because AUC is/are not implemented for GPU\n"
          ]
        },
        {
          "output_type": "stream",
          "name": "stdout",
          "text": [
            "0:\ttest: 0.7515687\tbest: 0.7515687 (0)\ttotal: 15ms\tremaining: 37.6s\n",
            "500:\ttest: 0.9322056\tbest: 0.9322056 (500)\ttotal: 6.79s\tremaining: 27.1s\n",
            "1000:\ttest: 0.9381778\tbest: 0.9381778 (1000)\ttotal: 13.5s\tremaining: 20.2s\n",
            "1500:\ttest: 0.9405165\tbest: 0.9405165 (1500)\ttotal: 20.2s\tremaining: 13.5s\n",
            "2000:\ttest: 0.9418837\tbest: 0.9418837 (2000)\ttotal: 27.1s\tremaining: 6.75s\n",
            "2499:\ttest: 0.9426577\tbest: 0.9426577 (2499)\ttotal: 33.7s\tremaining: 0us\n",
            "bestTest = 0.9426577091\n",
            "bestIteration = 2499\n",
            "AUC Score: 0.942657786646393\n",
            "Drop Features: ['B_29', 'R_1', 'D_59', 'S_11', 'S_15', 'S_9', 'S_24', 'D_121', 'S_27', 'S_22']\n"
          ]
        },
        {
          "output_type": "stream",
          "name": "stderr",
          "text": [
            "Default metric period is 5 because AUC is/are not implemented for GPU\n"
          ]
        },
        {
          "output_type": "stream",
          "name": "stdout",
          "text": [
            "0:\ttest: 0.6466283\tbest: 0.6466283 (0)\ttotal: 15.6ms\tremaining: 39.1s\n",
            "500:\ttest: 0.8261817\tbest: 0.8261817 (500)\ttotal: 7.13s\tremaining: 28.5s\n",
            "1000:\ttest: 0.8390698\tbest: 0.8390698 (1000)\ttotal: 14.2s\tremaining: 21.2s\n",
            "1500:\ttest: 0.8438531\tbest: 0.8438531 (1500)\ttotal: 21.3s\tremaining: 14.2s\n",
            "2000:\ttest: 0.8464584\tbest: 0.8464584 (2000)\ttotal: 28.3s\tremaining: 7.06s\n",
            "2499:\ttest: 0.8481983\tbest: 0.8481983 (2499)\ttotal: 35.3s\tremaining: 0us\n",
            "bestTest = 0.8481982946\n",
            "bestIteration = 2499\n",
            "AUC Score: 0.8481983056964693\n",
            "Drop Features: ['B_29', 'R_1', 'D_59', 'S_11', 'S_15', 'S_9', 'S_24', 'D_121', 'S_27', 'S_22', 'D_45', 'R_27', 'D_62', 'S_13', 'D_91']\n"
          ]
        },
        {
          "output_type": "stream",
          "name": "stderr",
          "text": [
            "Default metric period is 5 because AUC is/are not implemented for GPU\n"
          ]
        },
        {
          "output_type": "stream",
          "name": "stdout",
          "text": [
            "0:\ttest: 0.5808138\tbest: 0.5808138 (0)\ttotal: 17.5ms\tremaining: 43.7s\n",
            "500:\ttest: 0.7679199\tbest: 0.7679199 (500)\ttotal: 7s\tremaining: 27.9s\n",
            "1000:\ttest: 0.7814249\tbest: 0.7814249 (1000)\ttotal: 13.8s\tremaining: 20.6s\n",
            "1500:\ttest: 0.7866672\tbest: 0.7866672 (1500)\ttotal: 20.7s\tremaining: 13.8s\n",
            "2000:\ttest: 0.7895491\tbest: 0.7895598 (1992)\ttotal: 27.7s\tremaining: 6.92s\n",
            "2499:\ttest: 0.7911677\tbest: 0.7911768 (2472)\ttotal: 34.7s\tremaining: 0us\n",
            "bestTest = 0.791176796\n",
            "bestIteration = 2472\n",
            "Shrink model to first 2473 iterations.\n",
            "AUC Score: 0.7911768274732045\n",
            "Drop Features: ['B_29', 'R_1', 'D_59', 'S_11', 'S_15', 'S_9', 'S_24', 'D_121', 'S_27', 'S_22', 'D_45', 'R_27', 'D_62', 'S_13', 'D_91', 'D_39', 'D_77', 'D_42', 'B_8', 'D_142']\n"
          ]
        },
        {
          "output_type": "stream",
          "name": "stderr",
          "text": [
            "Default metric period is 5 because AUC is/are not implemented for GPU\n"
          ]
        },
        {
          "output_type": "stream",
          "name": "stdout",
          "text": [
            "0:\ttest: 0.5888371\tbest: 0.5888371 (0)\ttotal: 16.9ms\tremaining: 42.2s\n",
            "500:\ttest: 0.7426760\tbest: 0.7426760 (500)\ttotal: 6.96s\tremaining: 27.8s\n",
            "1000:\ttest: 0.7533013\tbest: 0.7533013 (1000)\ttotal: 13.9s\tremaining: 20.8s\n",
            "1500:\ttest: 0.7576022\tbest: 0.7576022 (1500)\ttotal: 20.7s\tremaining: 13.8s\n",
            "2000:\ttest: 0.7600340\tbest: 0.7600340 (2000)\ttotal: 28s\tremaining: 6.99s\n",
            "2499:\ttest: 0.7614182\tbest: 0.7614221 (2498)\ttotal: 35s\tremaining: 0us\n",
            "bestTest = 0.7614220977\n",
            "bestIteration = 2498\n",
            "Shrink model to first 2499 iterations.\n",
            "AUC Score: 0.7614220915249872\n",
            "Drop Features: ['B_29', 'R_1', 'D_59', 'S_11', 'S_15', 'S_9', 'S_24', 'D_121', 'S_27', 'S_22', 'D_45', 'R_27', 'D_62', 'S_13', 'D_91', 'D_39', 'D_77', 'D_42', 'B_8', 'D_142', 'P_4', 'B_17', 'P_3', 'D_120', 'S_17']\n"
          ]
        },
        {
          "output_type": "stream",
          "name": "stderr",
          "text": [
            "Default metric period is 5 because AUC is/are not implemented for GPU\n"
          ]
        },
        {
          "output_type": "stream",
          "name": "stdout",
          "text": [
            "0:\ttest: 0.5747339\tbest: 0.5747339 (0)\ttotal: 16.8ms\tremaining: 42s\n",
            "500:\ttest: 0.7095236\tbest: 0.7095236 (500)\ttotal: 6.76s\tremaining: 27s\n",
            "1000:\ttest: 0.7212387\tbest: 0.7212387 (1000)\ttotal: 13.6s\tremaining: 20.4s\n",
            "1500:\ttest: 0.7251765\tbest: 0.7251801 (1498)\ttotal: 20.5s\tremaining: 13.6s\n",
            "2000:\ttest: 0.7274221\tbest: 0.7274266 (1999)\ttotal: 27.5s\tremaining: 6.85s\n",
            "2499:\ttest: 0.7286041\tbest: 0.7286104 (2496)\ttotal: 34.3s\tremaining: 0us\n",
            "bestTest = 0.7286103964\n",
            "bestIteration = 2496\n",
            "Shrink model to first 2497 iterations.\n",
            "AUC Score: 0.7286103376332825\n",
            "Drop Features: ['B_29', 'R_1', 'D_59', 'S_11', 'S_15', 'S_9', 'S_24', 'D_121', 'S_27', 'S_22', 'D_45', 'R_27', 'D_62', 'S_13', 'D_91', 'D_39', 'D_77', 'D_42', 'B_8', 'D_142', 'P_4', 'B_17', 'P_3', 'D_120', 'S_17', 'D_115', 'D_118', 'D_47', 'S_18', 'D_61']\n"
          ]
        },
        {
          "output_type": "stream",
          "name": "stderr",
          "text": [
            "Default metric period is 5 because AUC is/are not implemented for GPU\n"
          ]
        },
        {
          "output_type": "stream",
          "name": "stdout",
          "text": [
            "0:\ttest: 0.5708870\tbest: 0.5708870 (0)\ttotal: 16.2ms\tremaining: 40.4s\n",
            "500:\ttest: 0.6887499\tbest: 0.6887499 (500)\ttotal: 6.63s\tremaining: 26.4s\n",
            "1000:\ttest: 0.6986818\tbest: 0.6986830 (996)\ttotal: 13.4s\tremaining: 20.1s\n",
            "1500:\ttest: 0.7020647\tbest: 0.7020647 (1500)\ttotal: 20.1s\tremaining: 13.4s\n",
            "2000:\ttest: 0.7039825\tbest: 0.7039825 (2000)\ttotal: 27s\tremaining: 6.73s\n",
            "2499:\ttest: 0.7048224\tbest: 0.7048224 (2499)\ttotal: 33.8s\tremaining: 0us\n",
            "bestTest = 0.7048224211\n",
            "bestIteration = 2499\n",
            "AUC Score: 0.7048224126013964\n",
            "Drop Features: ['B_29', 'R_1', 'D_59', 'S_11', 'S_15', 'S_9', 'S_24', 'D_121', 'S_27', 'S_22', 'D_45', 'R_27', 'D_62', 'S_13', 'D_91', 'D_39', 'D_77', 'D_42', 'B_8', 'D_142', 'P_4', 'B_17', 'P_3', 'D_120', 'S_17', 'D_115', 'D_118', 'D_47', 'S_18', 'D_61', 'D_119', 'S_7', 'R_26', 'S_3', 'D_52']\n"
          ]
        },
        {
          "output_type": "stream",
          "name": "stderr",
          "text": [
            "Default metric period is 5 because AUC is/are not implemented for GPU\n"
          ]
        },
        {
          "output_type": "stream",
          "name": "stdout",
          "text": [
            "0:\ttest: 0.5630664\tbest: 0.5630664 (0)\ttotal: 15.1ms\tremaining: 37.7s\n",
            "500:\ttest: 0.6620642\tbest: 0.6620642 (500)\ttotal: 6.83s\tremaining: 27.3s\n",
            "1000:\ttest: 0.6698340\tbest: 0.6698340 (1000)\ttotal: 13.5s\tremaining: 20.3s\n",
            "1500:\ttest: 0.6722227\tbest: 0.6722493 (1469)\ttotal: 20.3s\tremaining: 13.5s\n",
            "2000:\ttest: 0.6735265\tbest: 0.6735519 (1995)\ttotal: 26.9s\tremaining: 6.71s\n",
            "bestTest = 0.6737357974\n",
            "bestIteration = 2170\n",
            "Shrink model to first 2171 iterations.\n",
            "AUC Score: 0.6737358525376468\n",
            "Drop Features: ['B_29', 'R_1', 'D_59', 'S_11', 'S_15', 'S_9', 'S_24', 'D_121', 'S_27', 'S_22', 'D_45', 'R_27', 'D_62', 'S_13', 'D_91', 'D_39', 'D_77', 'D_42', 'B_8', 'D_142', 'P_4', 'B_17', 'P_3', 'D_120', 'S_17', 'D_115', 'D_118', 'D_47', 'S_18', 'D_61', 'D_119', 'S_7', 'R_26', 'S_3', 'D_52', 'D_46', 'S_6', 'B_9', 'D_43', 'D_64']\n"
          ]
        },
        {
          "output_type": "stream",
          "name": "stderr",
          "text": [
            "Default metric period is 5 because AUC is/are not implemented for GPU\n"
          ]
        },
        {
          "output_type": "stream",
          "name": "stdout",
          "text": [
            "0:\ttest: 0.5605444\tbest: 0.5605444 (0)\ttotal: 17.4ms\tremaining: 43.5s\n",
            "500:\ttest: 0.6498894\tbest: 0.6498894 (500)\ttotal: 6.41s\tremaining: 25.6s\n",
            "1000:\ttest: 0.6565822\tbest: 0.6565822 (1000)\ttotal: 12.8s\tremaining: 19.2s\n",
            "1500:\ttest: 0.6588548\tbest: 0.6588714 (1495)\ttotal: 19.8s\tremaining: 13.1s\n",
            "bestTest = 0.659254849\n",
            "bestIteration = 1582\n",
            "Shrink model to first 1583 iterations.\n",
            "AUC Score: 0.6592548289333965\n",
            "Drop Features: ['B_29', 'R_1', 'D_59', 'S_11', 'S_15', 'S_9', 'S_24', 'D_121', 'S_27', 'S_22', 'D_45', 'R_27', 'D_62', 'S_13', 'D_91', 'D_39', 'D_77', 'D_42', 'B_8', 'D_142', 'P_4', 'B_17', 'P_3', 'D_120', 'S_17', 'D_115', 'D_118', 'D_47', 'S_18', 'D_61', 'D_119', 'S_7', 'R_26', 'S_3', 'D_52', 'D_46', 'S_6', 'B_9', 'D_43', 'D_64', 'B_16', 'B_38', 'D_73', 'P_2', 'D_56']\n"
          ]
        },
        {
          "output_type": "stream",
          "name": "stderr",
          "text": [
            "Default metric period is 5 because AUC is/are not implemented for GPU\n"
          ]
        },
        {
          "output_type": "stream",
          "name": "stdout",
          "text": [
            "0:\ttest: 0.5583659\tbest: 0.5583659 (0)\ttotal: 14.6ms\tremaining: 36.5s\n",
            "500:\ttest: 0.6412795\tbest: 0.6412795 (500)\ttotal: 6.43s\tremaining: 25.7s\n",
            "1000:\ttest: 0.6473435\tbest: 0.6473506 (999)\ttotal: 13s\tremaining: 19.4s\n",
            "1500:\ttest: 0.6492456\tbest: 0.6492698 (1487)\ttotal: 19.7s\tremaining: 13.1s\n",
            "2000:\ttest: 0.6502200\tbest: 0.6502419 (1989)\ttotal: 26.3s\tremaining: 6.55s\n",
            "bestTest = 0.6503839493\n",
            "bestIteration = 2126\n",
            "Shrink model to first 2127 iterations.\n",
            "AUC Score: 0.6503839674515495\n",
            "Drop Features: ['B_29', 'R_1', 'D_59', 'S_11', 'S_15', 'S_9', 'S_24', 'D_121', 'S_27', 'S_22', 'D_45', 'R_27', 'D_62', 'S_13', 'D_91', 'D_39', 'D_77', 'D_42', 'B_8', 'D_142', 'P_4', 'B_17', 'P_3', 'D_120', 'S_17', 'D_115', 'D_118', 'D_47', 'S_18', 'D_61', 'D_119', 'S_7', 'R_26', 'S_3', 'D_52', 'D_46', 'S_6', 'B_9', 'D_43', 'D_64', 'B_16', 'B_38', 'D_73', 'P_2', 'D_56', 'B_20', 'B_12', 'D_141', 'D_48', 'B_3']\n"
          ]
        },
        {
          "output_type": "stream",
          "name": "stderr",
          "text": [
            "Default metric period is 5 because AUC is/are not implemented for GPU\n"
          ]
        },
        {
          "output_type": "stream",
          "name": "stdout",
          "text": [
            "0:\ttest: 0.5521728\tbest: 0.5521728 (0)\ttotal: 13.9ms\tremaining: 34.7s\n",
            "500:\ttest: 0.6326305\tbest: 0.6326305 (500)\ttotal: 6.15s\tremaining: 24.5s\n",
            "1000:\ttest: 0.6370685\tbest: 0.6370685 (1000)\ttotal: 12.3s\tremaining: 18.5s\n",
            "1500:\ttest: 0.6387317\tbest: 0.6387627 (1488)\ttotal: 18.6s\tremaining: 12.4s\n",
            "bestTest = 0.6389982402\n",
            "bestIteration = 1657\n",
            "Shrink model to first 1658 iterations.\n",
            "AUC Score: 0.6389982642681281\n"
          ]
        }
      ]
    },
    {
      "cell_type": "code",
      "source": [
        "print(f'Result of Drop Features: {drop_feats}')\n",
        "print(f'num of Drop Features: {len(drop_feats)}')"
      ],
      "metadata": {
        "colab": {
          "base_uri": "https://localhost:8080/"
        },
        "id": "y0EqBy9gXAt3",
        "outputId": "f30a47e4-a2fb-4426-9bb7-7234fca4a70d"
      },
      "execution_count": 52,
      "outputs": [
        {
          "output_type": "stream",
          "name": "stdout",
          "text": [
            "Result of Drop Features: ['B_29', 'R_1', 'D_59', 'S_11', 'S_15', 'S_9', 'S_24', 'D_121', 'S_27', 'S_22', 'D_45', 'R_27', 'D_62', 'S_13', 'D_91', 'D_39', 'D_77', 'D_42', 'B_8', 'D_142', 'P_4', 'B_17', 'P_3', 'D_120', 'S_17', 'D_115', 'D_118', 'D_47', 'S_18', 'D_61', 'D_119', 'S_7', 'R_26', 'S_3', 'D_52', 'D_46', 'S_6', 'B_9', 'D_43', 'D_64', 'B_16', 'B_38', 'D_73', 'P_2', 'D_56', 'B_20', 'B_12', 'D_141', 'D_48', 'B_3']\n",
            "num of Drop Features: 50\n"
          ]
        }
      ]
    },
    {
      "cell_type": "code",
      "source": [
        "fi_df"
      ],
      "metadata": {
        "colab": {
          "base_uri": "https://localhost:8080/",
          "height": 424
        },
        "id": "DdUdSNQHk6TO",
        "outputId": "4bf5fcf8-66aa-4c76-aab5-7a3b7719a1ed"
      },
      "execution_count": 57,
      "outputs": [
        {
          "output_type": "execute_result",
          "data": {
            "text/plain": [
              "     importance features\n",
              "35     2.460794     B_20\n",
              "21     2.328765     B_12\n",
              "139    2.297328    D_141\n",
              "8      2.289092     D_48\n",
              "3      2.249872      B_3\n",
              "..          ...      ...\n",
              "92     0.007268     R_24\n",
              "80     0.005439     R_19\n",
              "99     0.003902    D_103\n",
              "76     0.000000     R_18\n",
              "93     0.000000     R_25\n",
              "\n",
              "[143 rows x 2 columns]"
            ],
            "text/html": [
              "\n",
              "  <div id=\"df-ba251038-6bce-4893-99a5-2f3653245eaa\">\n",
              "    <div class=\"colab-df-container\">\n",
              "      <div>\n",
              "<style scoped>\n",
              "    .dataframe tbody tr th:only-of-type {\n",
              "        vertical-align: middle;\n",
              "    }\n",
              "\n",
              "    .dataframe tbody tr th {\n",
              "        vertical-align: top;\n",
              "    }\n",
              "\n",
              "    .dataframe thead th {\n",
              "        text-align: right;\n",
              "    }\n",
              "</style>\n",
              "<table border=\"1\" class=\"dataframe\">\n",
              "  <thead>\n",
              "    <tr style=\"text-align: right;\">\n",
              "      <th></th>\n",
              "      <th>importance</th>\n",
              "      <th>features</th>\n",
              "    </tr>\n",
              "  </thead>\n",
              "  <tbody>\n",
              "    <tr>\n",
              "      <th>35</th>\n",
              "      <td>2.460794</td>\n",
              "      <td>B_20</td>\n",
              "    </tr>\n",
              "    <tr>\n",
              "      <th>21</th>\n",
              "      <td>2.328765</td>\n",
              "      <td>B_12</td>\n",
              "    </tr>\n",
              "    <tr>\n",
              "      <th>139</th>\n",
              "      <td>2.297328</td>\n",
              "      <td>D_141</td>\n",
              "    </tr>\n",
              "    <tr>\n",
              "      <th>8</th>\n",
              "      <td>2.289092</td>\n",
              "      <td>D_48</td>\n",
              "    </tr>\n",
              "    <tr>\n",
              "      <th>3</th>\n",
              "      <td>2.249872</td>\n",
              "      <td>B_3</td>\n",
              "    </tr>\n",
              "    <tr>\n",
              "      <th>...</th>\n",
              "      <td>...</td>\n",
              "      <td>...</td>\n",
              "    </tr>\n",
              "    <tr>\n",
              "      <th>92</th>\n",
              "      <td>0.007268</td>\n",
              "      <td>R_24</td>\n",
              "    </tr>\n",
              "    <tr>\n",
              "      <th>80</th>\n",
              "      <td>0.005439</td>\n",
              "      <td>R_19</td>\n",
              "    </tr>\n",
              "    <tr>\n",
              "      <th>99</th>\n",
              "      <td>0.003902</td>\n",
              "      <td>D_103</td>\n",
              "    </tr>\n",
              "    <tr>\n",
              "      <th>76</th>\n",
              "      <td>0.000000</td>\n",
              "      <td>R_18</td>\n",
              "    </tr>\n",
              "    <tr>\n",
              "      <th>93</th>\n",
              "      <td>0.000000</td>\n",
              "      <td>R_25</td>\n",
              "    </tr>\n",
              "  </tbody>\n",
              "</table>\n",
              "<p>143 rows × 2 columns</p>\n",
              "</div>\n",
              "      <button class=\"colab-df-convert\" onclick=\"convertToInteractive('df-ba251038-6bce-4893-99a5-2f3653245eaa')\"\n",
              "              title=\"Convert this dataframe to an interactive table.\"\n",
              "              style=\"display:none;\">\n",
              "        \n",
              "  <svg xmlns=\"http://www.w3.org/2000/svg\" height=\"24px\"viewBox=\"0 0 24 24\"\n",
              "       width=\"24px\">\n",
              "    <path d=\"M0 0h24v24H0V0z\" fill=\"none\"/>\n",
              "    <path d=\"M18.56 5.44l.94 2.06.94-2.06 2.06-.94-2.06-.94-.94-2.06-.94 2.06-2.06.94zm-11 1L8.5 8.5l.94-2.06 2.06-.94-2.06-.94L8.5 2.5l-.94 2.06-2.06.94zm10 10l.94 2.06.94-2.06 2.06-.94-2.06-.94-.94-2.06-.94 2.06-2.06.94z\"/><path d=\"M17.41 7.96l-1.37-1.37c-.4-.4-.92-.59-1.43-.59-.52 0-1.04.2-1.43.59L10.3 9.45l-7.72 7.72c-.78.78-.78 2.05 0 2.83L4 21.41c.39.39.9.59 1.41.59.51 0 1.02-.2 1.41-.59l7.78-7.78 2.81-2.81c.8-.78.8-2.07 0-2.86zM5.41 20L4 18.59l7.72-7.72 1.47 1.35L5.41 20z\"/>\n",
              "  </svg>\n",
              "      </button>\n",
              "      \n",
              "  <style>\n",
              "    .colab-df-container {\n",
              "      display:flex;\n",
              "      flex-wrap:wrap;\n",
              "      gap: 12px;\n",
              "    }\n",
              "\n",
              "    .colab-df-convert {\n",
              "      background-color: #E8F0FE;\n",
              "      border: none;\n",
              "      border-radius: 50%;\n",
              "      cursor: pointer;\n",
              "      display: none;\n",
              "      fill: #1967D2;\n",
              "      height: 32px;\n",
              "      padding: 0 0 0 0;\n",
              "      width: 32px;\n",
              "    }\n",
              "\n",
              "    .colab-df-convert:hover {\n",
              "      background-color: #E2EBFA;\n",
              "      box-shadow: 0px 1px 2px rgba(60, 64, 67, 0.3), 0px 1px 3px 1px rgba(60, 64, 67, 0.15);\n",
              "      fill: #174EA6;\n",
              "    }\n",
              "\n",
              "    [theme=dark] .colab-df-convert {\n",
              "      background-color: #3B4455;\n",
              "      fill: #D2E3FC;\n",
              "    }\n",
              "\n",
              "    [theme=dark] .colab-df-convert:hover {\n",
              "      background-color: #434B5C;\n",
              "      box-shadow: 0px 1px 3px 1px rgba(0, 0, 0, 0.15);\n",
              "      filter: drop-shadow(0px 1px 2px rgba(0, 0, 0, 0.3));\n",
              "      fill: #FFFFFF;\n",
              "    }\n",
              "  </style>\n",
              "\n",
              "      <script>\n",
              "        const buttonEl =\n",
              "          document.querySelector('#df-ba251038-6bce-4893-99a5-2f3653245eaa button.colab-df-convert');\n",
              "        buttonEl.style.display =\n",
              "          google.colab.kernel.accessAllowed ? 'block' : 'none';\n",
              "\n",
              "        async function convertToInteractive(key) {\n",
              "          const element = document.querySelector('#df-ba251038-6bce-4893-99a5-2f3653245eaa');\n",
              "          const dataTable =\n",
              "            await google.colab.kernel.invokeFunction('convertToInteractive',\n",
              "                                                     [key], {});\n",
              "          if (!dataTable) return;\n",
              "\n",
              "          const docLinkHtml = 'Like what you see? Visit the ' +\n",
              "            '<a target=\"_blank\" href=https://colab.research.google.com/notebooks/data_table.ipynb>data table notebook</a>'\n",
              "            + ' to learn more about interactive tables.';\n",
              "          element.innerHTML = '';\n",
              "          dataTable['output_type'] = 'display_data';\n",
              "          await google.colab.output.renderOutput(dataTable, element);\n",
              "          const docLink = document.createElement('div');\n",
              "          docLink.innerHTML = docLinkHtml;\n",
              "          element.appendChild(docLink);\n",
              "        }\n",
              "      </script>\n",
              "    </div>\n",
              "  </div>\n",
              "  "
            ]
          },
          "metadata": {},
          "execution_count": 57
        }
      ]
    },
    {
      "cell_type": "markdown",
      "source": [
        "## Check Featuers"
      ],
      "metadata": {
        "id": "szM5Q58BbT5c"
      }
    },
    {
      "cell_type": "code",
      "source": [
        "plt.figure(figsize=(20,15))\n",
        "for i,feat in enumerate(drop_feats):\n",
        "  plt.subplot(5,10,i+1)\n",
        "  sns.displot(train[feat],label='Train')\n",
        "  sns.displot(test_public[feat],label='Test')\n",
        "  plt.legend()\n",
        "  #遅すぎた"
      ],
      "metadata": {
        "id": "Z3XObzxLnRAp"
      },
      "execution_count": null,
      "outputs": []
    },
    {
      "cell_type": "code",
      "source": [
        "public_drop_feats=['B_29', 'R_1', 'D_59', 'S_11', 'S_15', 'S_9', 'S_24', 'D_121', 'S_27', 'S_22', 'D_45', 'R_27', 'D_62', 'S_13', 'D_91', 'D_39', 'D_77', 'D_42', 'B_8', 'D_142', 'P_4', 'B_17', 'P_3', 'D_120', 'S_17', 'D_115', 'D_118', 'D_47', 'S_18', 'D_61', 'D_119', 'S_7', 'R_26', 'S_3', 'D_52', 'D_46', 'S_6', 'B_9', 'D_43', 'D_64', 'B_16', 'B_38', 'D_73', 'P_2', 'D_56', 'B_20', 'B_12', 'D_141', 'D_48', 'B_3']"
      ],
      "metadata": {
        "id": "cwCm2UgUnYCH"
      },
      "execution_count": 68,
      "outputs": []
    },
    {
      "cell_type": "code",
      "source": [
        "for feat in public_drop_feats:\n",
        "  print(f'=========------------{feat}=====================')\n",
        "  print(f'Train NaN Ratio: {train[feat].isnull().sum()/len(train)}')\n",
        "  print(f'Public NaN Ratio: {test_public[feat].isnull().sum()/len(test_public)}')"
      ],
      "metadata": {
        "colab": {
          "base_uri": "https://localhost:8080/"
        },
        "id": "H_rotKLAgYwR",
        "outputId": "bb6056c7-0ae9-43b9-ae21-9427aac01c61"
      },
      "execution_count": 69,
      "outputs": [
        {
          "output_type": "stream",
          "name": "stdout",
          "text": [
            "=========------------B_29=====================\n",
            "Train NaN Ratio: 0.9404593027436573\n",
            "Public NaN Ratio: 2.6278043599654006e-05\n",
            "=========------------R_1=====================\n",
            "Train NaN Ratio: 0.0\n",
            "Public NaN Ratio: 0.0\n",
            "=========------------D_59=====================\n",
            "Train NaN Ratio: 0.0\n",
            "Public NaN Ratio: 0.0\n",
            "=========------------S_11=====================\n",
            "Train NaN Ratio: 0.0\n",
            "Public NaN Ratio: 0.0\n",
            "=========------------S_15=====================\n",
            "Train NaN Ratio: 0.0\n",
            "Public NaN Ratio: 0.0\n",
            "=========------------S_9=====================\n",
            "Train NaN Ratio: 0.40063802943041493\n",
            "Public NaN Ratio: 0.20101389451555332\n",
            "=========------------S_24=====================\n",
            "Train NaN Ratio: 0.003778493962908002\n",
            "Public NaN Ratio: 0.0025117430007335954\n",
            "=========------------D_121=====================\n",
            "Train NaN Ratio: 0.013111417632536015\n",
            "Public NaN Ratio: 0.01545805914749647\n",
            "=========------------S_27=====================\n",
            "Train NaN Ratio: 0.25531200903003404\n",
            "Public NaN Ratio: 0.21478139952480538\n",
            "=========------------S_22=====================\n",
            "Train NaN Ratio: 0.003850403017565421\n",
            "Public NaN Ratio: 0.0026124755011989356\n",
            "=========------------D_45=====================\n",
            "Train NaN Ratio: 6.755093013272669e-05\n",
            "Public NaN Ratio: 8.759347866551335e-06\n",
            "=========------------R_27=====================\n",
            "Train NaN Ratio: 0.06261753317077529\n",
            "Public NaN Ratio: 0.10540123287821222\n",
            "=========------------D_62=====================\n",
            "Train NaN Ratio: 0.12846225755208504\n",
            "Public NaN Ratio: 0.17015471198169296\n",
            "=========------------S_13=====================\n",
            "Train NaN Ratio: 0.0\n",
            "Public NaN Ratio: 0.0\n",
            "=========------------D_91=====================\n",
            "Train NaN Ratio: 0.0\n",
            "Public NaN Ratio: 0.0\n",
            "=========------------D_39=====================\n",
            "Train NaN Ratio: 0.0\n",
            "Public NaN Ratio: 0.0\n",
            "=========------------D_77=====================\n",
            "Train NaN Ratio: 0.4659641369932863\n",
            "Public NaN Ratio: 0.5020836298737559\n",
            "=========------------D_42=====================\n",
            "Train NaN Ratio: 0.8694523798628498\n",
            "Public NaN Ratio: 0.904634789939889\n",
            "=========------------B_8=====================\n",
            "Train NaN Ratio: 0.008914543715257576\n",
            "Public NaN Ratio: 0.018734055249586667\n",
            "=========------------D_142=====================\n",
            "Train NaN Ratio: 0.8249886143996792\n",
            "Public NaN Ratio: 0.8285226264904578\n",
            "=========------------P_4=====================\n",
            "Train NaN Ratio: 0.0\n",
            "Public NaN Ratio: 0.0\n",
            "=========------------B_17=====================\n",
            "Train NaN Ratio: 0.5327175303379943\n",
            "Public NaN Ratio: 0.5206293591442117\n",
            "=========------------P_3=====================\n",
            "Train NaN Ratio: 0.04841876346932861\n",
            "Public NaN Ratio: 0.027804359965400576\n",
            "=========------------D_120=====================\n",
            "Train NaN Ratio: 0.0\n",
            "Public NaN Ratio: 0.0\n",
            "=========------------S_17=====================\n",
            "Train NaN Ratio: 0.0\n",
            "Public NaN Ratio: 0.0\n",
            "=========------------D_115=====================\n",
            "Train NaN Ratio: 0.013111417632536015\n",
            "Public NaN Ratio: 0.01545805914749647\n",
            "=========------------D_118=====================\n",
            "Train NaN Ratio: 0.013111417632536015\n",
            "Public NaN Ratio: 0.01545805914749647\n",
            "=========------------D_47=====================\n",
            "Train NaN Ratio: 0.0\n",
            "Public NaN Ratio: 0.0\n",
            "=========------------S_18=====================\n",
            "Train NaN Ratio: 0.0\n",
            "Public NaN Ratio: 0.0\n",
            "=========------------D_61=====================\n",
            "Train NaN Ratio: 0.10535330225990547\n",
            "Public NaN Ratio: 0.11018821648728253\n",
            "=========------------D_119=====================\n",
            "Train NaN Ratio: 0.013111417632536015\n",
            "Public NaN Ratio: 0.01545805914749647\n",
            "=========------------S_7=====================\n",
            "Train NaN Ratio: 0.1851549204315415\n",
            "Public NaN Ratio: 0.1476826050300555\n",
            "=========------------R_26=====================\n",
            "Train NaN Ratio: 0.0\n",
            "Public NaN Ratio: 0.0\n",
            "=========------------S_3=====================\n",
            "Train NaN Ratio: 0.1851549204315415\n",
            "Public NaN Ratio: 0.1476826050300555\n",
            "=========------------D_52=====================\n",
            "Train NaN Ratio: 0.0027020372053090675\n",
            "Public NaN Ratio: 0.001791286638709748\n",
            "=========------------D_46=====================\n",
            "Train NaN Ratio: 0.20727893958114066\n",
            "Public NaN Ratio: 0.19213191577887026\n",
            "=========------------S_6=====================\n",
            "Train NaN Ratio: 0.0\n",
            "Public NaN Ratio: 0.0\n",
            "=========------------B_9=====================\n",
            "Train NaN Ratio: 0.0\n",
            "Public NaN Ratio: 0.0\n",
            "=========------------D_43=====================\n",
            "Train NaN Ratio: 0.2926960012028424\n",
            "Public NaN Ratio: 0.29231695700255117\n",
            "=========------------D_64=====================\n",
            "Train NaN Ratio: 0.0\n",
            "Public NaN Ratio: 0.0\n",
            "=========------------B_16=====================\n",
            "Train NaN Ratio: 0.0\n",
            "Public NaN Ratio: 0.0\n",
            "=========------------B_38=====================\n",
            "Train NaN Ratio: 0.0\n",
            "Public NaN Ratio: 0.0\n",
            "=========------------D_73=====================\n",
            "Train NaN Ratio: 0.9907629550699152\n",
            "Public NaN Ratio: 0.985034654169997\n",
            "=========------------P_2=====================\n",
            "Train NaN Ratio: 0.00646963585690534\n",
            "Public NaN Ratio: 0.004281131269776965\n",
            "=========------------D_56=====================\n",
            "Train NaN Ratio: 0.5332906237129913\n",
            "Public NaN Ratio: 0.49712802881825446\n",
            "=========------------B_20=====================\n",
            "Train NaN Ratio: 0.0\n",
            "Public NaN Ratio: 0.0\n",
            "=========------------B_12=====================\n",
            "Train NaN Ratio: 0.0\n",
            "Public NaN Ratio: 0.0\n",
            "=========------------D_141=====================\n",
            "Train NaN Ratio: 0.006166746202439242\n",
            "Public NaN Ratio: 0.0038431638764493984\n",
            "=========------------D_48=====================\n",
            "Train NaN Ratio: 0.12636817871797051\n",
            "Public NaN Ratio: 0.12512728427368583\n",
            "=========------------B_3=====================\n",
            "Train NaN Ratio: 6.755093013272669e-05\n",
            "Public NaN Ratio: 8.759347866551335e-06\n"
          ]
        }
      ]
    },
    {
      "cell_type": "code",
      "source": [
        "#trainとprivateの場合も同様にして"
      ],
      "metadata": {
        "id": "y7u0_L0jhdnM"
      },
      "execution_count": null,
      "outputs": []
    },
    {
      "cell_type": "code",
      "source": [
        "data=pd.concat([train,test_private]).reset_index(drop=True)"
      ],
      "metadata": {
        "id": "BM2kBL5BmLxr"
      },
      "execution_count": 59,
      "outputs": []
    },
    {
      "cell_type": "code",
      "source": [
        "TARGET='target'\n",
        "drop_cols=['S_2','month','customer_ID',TARGET]\n",
        "use_cols=[c for c in data.columns if c not in drop_cols]"
      ],
      "metadata": {
        "id": "-nXLdDUWmSmR"
      },
      "execution_count": 60,
      "outputs": []
    },
    {
      "cell_type": "code",
      "source": [
        "cat_params = {\n",
        "        'loss_function' : 'Logloss',\n",
        "        'eval_metric' : 'AUC',\n",
        "        'learning_rate': 0.1,\n",
        "        'num_boost_round': 2500,\n",
        "        'early_stopping_rounds': 50,\n",
        "        'random_state': 127,\n",
        "        'task_type': 'GPU'\n",
        "    }"
      ],
      "metadata": {
        "id": "EG0b9W50mlne"
      },
      "execution_count": 61,
      "outputs": []
    },
    {
      "cell_type": "code",
      "source": [
        "drop_feats=[]\n",
        "fi_df_all=[]\n",
        "while True:\n",
        "  train_x,valid_x,train_y,valid_y=train_test_split(data[use_cols],data[TARGET],test_size=0.33,random_state=42)\n",
        "\n",
        "  trn_data=Pool(train_x,label=train_y)\n",
        "  val_data=Pool(valid_x,label=valid_y)\n",
        "\n",
        "  model=CatBoost(cat_params)\n",
        "  model.fit(trn_data,\n",
        "            eval_set=val_data,\n",
        "            verbose_eval=500,\n",
        "            use_best_model=True\n",
        "            )\n",
        "  pred=model.predict(val_data)\n",
        "  auc_score=roc_auc_score(valid_y,pred)\n",
        "  print(f'AUC Score: {auc_score}')\n",
        "\n",
        "  if auc_score<0.65:\n",
        "    break\n",
        "\n",
        "  else:\n",
        "    fi_df=pd.DataFrame()\n",
        "    fi_df['importance']=model.get_feature_importance(Pool(train_x,train_y))\n",
        "    fi_df['features']=use_cols\n",
        "    fi_df=fi_df.sort_values(by='importance',ascending=False)\n",
        "    fi_df_all.append(fi_df)\n",
        "    drop_feats+=fi_df['features'].to_list()[:5]\n",
        "    use_cols=[c for c in use_cols if c not in drop_feats]\n",
        "    print(f'Drop Features: {drop_feats}')\n",
        "  \n",
        "  "
      ],
      "metadata": {
        "colab": {
          "base_uri": "https://localhost:8080/"
        },
        "id": "J-A0-7qmi92b",
        "outputId": "24d47807-a13e-493e-f6e5-36d25e0bcd30"
      },
      "execution_count": 63,
      "outputs": [
        {
          "output_type": "stream",
          "name": "stderr",
          "text": [
            "Default metric period is 5 because AUC is/are not implemented for GPU\n"
          ]
        },
        {
          "output_type": "stream",
          "name": "stdout",
          "text": [
            "0:\ttest: 0.9976612\tbest: 0.9976612 (0)\ttotal: 15.8ms\tremaining: 39.4s\n",
            "500:\ttest: 0.9997217\tbest: 0.9997217 (500)\ttotal: 6.93s\tremaining: 27.7s\n",
            "1000:\ttest: 0.9997486\tbest: 0.9997488 (984)\ttotal: 13.9s\tremaining: 20.8s\n",
            "bestTest = 0.9997587204\n",
            "bestIteration = 1334\n",
            "Shrink model to first 1335 iterations.\n",
            "AUC Score: 0.9997587053769127\n",
            "Drop Features: ['R_1', 'D_59', 'S_11', 'S_9', 'S_27']\n"
          ]
        },
        {
          "output_type": "stream",
          "name": "stderr",
          "text": [
            "Default metric period is 5 because AUC is/are not implemented for GPU\n"
          ]
        },
        {
          "output_type": "stream",
          "name": "stdout",
          "text": [
            "0:\ttest: 0.6639886\tbest: 0.6639886 (0)\ttotal: 16ms\tremaining: 39.9s\n",
            "500:\ttest: 0.8684637\tbest: 0.8684637 (500)\ttotal: 6.79s\tremaining: 27.1s\n",
            "1000:\ttest: 0.8754429\tbest: 0.8754429 (1000)\ttotal: 13.6s\tremaining: 20.4s\n",
            "1500:\ttest: 0.8781965\tbest: 0.8781965 (1500)\ttotal: 20.6s\tremaining: 13.7s\n",
            "2000:\ttest: 0.8793626\tbest: 0.8793626 (2000)\ttotal: 28s\tremaining: 6.97s\n",
            "2499:\ttest: 0.8802210\tbest: 0.8802267 (2496)\ttotal: 35s\tremaining: 0us\n",
            "bestTest = 0.8802266717\n",
            "bestIteration = 2496\n",
            "Shrink model to first 2497 iterations.\n",
            "AUC Score: 0.8802266419784869\n",
            "Drop Features: ['R_1', 'D_59', 'S_11', 'S_9', 'S_27', 'D_121', 'R_27', 'S_15', 'S_24', 'S_22']\n"
          ]
        },
        {
          "output_type": "stream",
          "name": "stderr",
          "text": [
            "Default metric period is 5 because AUC is/are not implemented for GPU\n"
          ]
        },
        {
          "output_type": "stream",
          "name": "stdout",
          "text": [
            "0:\ttest: 0.6180234\tbest: 0.6180234 (0)\ttotal: 17.3ms\tremaining: 43.2s\n",
            "500:\ttest: 0.7861828\tbest: 0.7861828 (500)\ttotal: 7.34s\tremaining: 29.3s\n",
            "1000:\ttest: 0.7962326\tbest: 0.7962329 (997)\ttotal: 14.4s\tremaining: 21.5s\n",
            "1500:\ttest: 0.7993165\tbest: 0.7993165 (1500)\ttotal: 21.3s\tremaining: 14.2s\n",
            "2000:\ttest: 0.8010440\tbest: 0.8010489 (1998)\ttotal: 28.1s\tremaining: 7.02s\n",
            "2499:\ttest: 0.8020515\tbest: 0.8020515 (2499)\ttotal: 34.9s\tremaining: 0us\n",
            "bestTest = 0.8020515442\n",
            "bestIteration = 2499\n",
            "AUC Score: 0.8020515569316395\n",
            "Drop Features: ['R_1', 'D_59', 'S_11', 'S_9', 'S_27', 'D_121', 'R_27', 'S_15', 'S_24', 'S_22', 'D_39', 'D_62', 'D_45', 'B_17', 'D_60']\n"
          ]
        },
        {
          "output_type": "stream",
          "name": "stderr",
          "text": [
            "Default metric period is 5 because AUC is/are not implemented for GPU\n"
          ]
        },
        {
          "output_type": "stream",
          "name": "stdout",
          "text": [
            "0:\ttest: 0.5986709\tbest: 0.5986709 (0)\ttotal: 15.6ms\tremaining: 39s\n",
            "500:\ttest: 0.7344731\tbest: 0.7344731 (500)\ttotal: 6.89s\tremaining: 27.5s\n",
            "1000:\ttest: 0.7429615\tbest: 0.7429675 (997)\ttotal: 13.9s\tremaining: 20.8s\n",
            "1500:\ttest: 0.7458156\tbest: 0.7458156 (1500)\ttotal: 21.8s\tremaining: 14.5s\n",
            "2000:\ttest: 0.7474030\tbest: 0.7474030 (2000)\ttotal: 28.6s\tremaining: 7.12s\n",
            "2499:\ttest: 0.7482615\tbest: 0.7482763 (2479)\ttotal: 35.5s\tremaining: 0us\n",
            "bestTest = 0.7482762933\n",
            "bestIteration = 2479\n",
            "Shrink model to first 2480 iterations.\n",
            "AUC Score: 0.7482763613133455\n",
            "Drop Features: ['R_1', 'D_59', 'S_11', 'S_9', 'S_27', 'D_121', 'R_27', 'S_15', 'S_24', 'S_22', 'D_39', 'D_62', 'D_45', 'B_17', 'D_60', 'D_77', 'S_17', 'S_13', 'B_40', 'R_26']\n"
          ]
        },
        {
          "output_type": "stream",
          "name": "stderr",
          "text": [
            "Default metric period is 5 because AUC is/are not implemented for GPU\n"
          ]
        },
        {
          "output_type": "stream",
          "name": "stdout",
          "text": [
            "0:\ttest: 0.5552460\tbest: 0.5552460 (0)\ttotal: 17.2ms\tremaining: 42.9s\n",
            "500:\ttest: 0.6951118\tbest: 0.6951118 (500)\ttotal: 8.21s\tremaining: 32.8s\n",
            "1000:\ttest: 0.7027003\tbest: 0.7027003 (1000)\ttotal: 15.5s\tremaining: 23.3s\n",
            "1500:\ttest: 0.7054712\tbest: 0.7054800 (1496)\ttotal: 22.6s\tremaining: 15.1s\n",
            "bestTest = 0.7069219351\n",
            "bestIteration = 1848\n",
            "Shrink model to first 1849 iterations.\n",
            "AUC Score: 0.7069219313368729\n",
            "Drop Features: ['R_1', 'D_59', 'S_11', 'S_9', 'S_27', 'D_121', 'R_27', 'S_15', 'S_24', 'S_22', 'D_39', 'D_62', 'D_45', 'B_17', 'D_60', 'D_77', 'S_17', 'S_13', 'B_40', 'R_26', 'D_91', 'P_3', 'S_18', 'D_120', 'D_115']\n"
          ]
        },
        {
          "output_type": "stream",
          "name": "stderr",
          "text": [
            "Default metric period is 5 because AUC is/are not implemented for GPU\n"
          ]
        },
        {
          "output_type": "stream",
          "name": "stdout",
          "text": [
            "0:\ttest: 0.5499744\tbest: 0.5499744 (0)\ttotal: 16.4ms\tremaining: 41.1s\n",
            "500:\ttest: 0.6749360\tbest: 0.6749360 (500)\ttotal: 6.85s\tremaining: 27.3s\n",
            "1000:\ttest: 0.6825574\tbest: 0.6825703 (998)\ttotal: 13.8s\tremaining: 20.7s\n",
            "1500:\ttest: 0.6853094\tbest: 0.6853094 (1491)\ttotal: 20.6s\tremaining: 13.7s\n",
            "bestTest = 0.6864766479\n",
            "bestIteration = 1820\n",
            "Shrink model to first 1821 iterations.\n",
            "AUC Score: 0.686476669260057\n",
            "Drop Features: ['R_1', 'D_59', 'S_11', 'S_9', 'S_27', 'D_121', 'R_27', 'S_15', 'S_24', 'S_22', 'D_39', 'D_62', 'D_45', 'B_17', 'D_60', 'D_77', 'S_17', 'S_13', 'B_40', 'R_26', 'D_91', 'P_3', 'S_18', 'D_120', 'D_115', 'P_4', 'D_61', 'D_118', 'S_3', 'D_119']\n"
          ]
        },
        {
          "output_type": "stream",
          "name": "stderr",
          "text": [
            "Default metric period is 5 because AUC is/are not implemented for GPU\n"
          ]
        },
        {
          "output_type": "stream",
          "name": "stdout",
          "text": [
            "0:\ttest: 0.5420743\tbest: 0.5420743 (0)\ttotal: 14.3ms\tremaining: 35.6s\n",
            "500:\ttest: 0.6485435\tbest: 0.6485435 (500)\ttotal: 6.81s\tremaining: 27.2s\n",
            "1000:\ttest: 0.6544394\tbest: 0.6544455 (996)\ttotal: 13.5s\tremaining: 20.3s\n",
            "1500:\ttest: 0.6565936\tbest: 0.6566077 (1469)\ttotal: 20.4s\tremaining: 13.6s\n",
            "bestTest = 0.6566077471\n",
            "bestIteration = 1469\n",
            "Shrink model to first 1470 iterations.\n",
            "AUC Score: 0.6566077798248706\n",
            "Drop Features: ['R_1', 'D_59', 'S_11', 'S_9', 'S_27', 'D_121', 'R_27', 'S_15', 'S_24', 'S_22', 'D_39', 'D_62', 'D_45', 'B_17', 'D_60', 'D_77', 'S_17', 'S_13', 'B_40', 'R_26', 'D_91', 'P_3', 'S_18', 'D_120', 'D_115', 'P_4', 'D_61', 'D_118', 'S_3', 'D_119', 'D_42', 'D_73', 'B_8', 'S_7', 'D_47']\n"
          ]
        },
        {
          "output_type": "stream",
          "name": "stderr",
          "text": [
            "Default metric period is 5 because AUC is/are not implemented for GPU\n"
          ]
        },
        {
          "output_type": "stream",
          "name": "stdout",
          "text": [
            "0:\ttest: 0.5366656\tbest: 0.5366656 (0)\ttotal: 13.4ms\tremaining: 33.5s\n",
            "500:\ttest: 0.6330339\tbest: 0.6330553 (499)\ttotal: 6.71s\tremaining: 26.8s\n",
            "1000:\ttest: 0.6380767\tbest: 0.6380918 (996)\ttotal: 13.5s\tremaining: 20.2s\n",
            "1500:\ttest: 0.6395527\tbest: 0.6395527 (1500)\ttotal: 20.4s\tremaining: 13.6s\n",
            "bestTest = 0.6399492621\n",
            "bestIteration = 1674\n",
            "Shrink model to first 1675 iterations.\n",
            "AUC Score: 0.639949260937448\n"
          ]
        }
      ]
    },
    {
      "cell_type": "code",
      "source": [
        "for feat in drop_feats:\n",
        "    print(f'========================= {feat} =========================')\n",
        "    print('Train Nan Ratio:',train[feat].isnull().sum()/len(train))\n",
        "    print('Privat Nan Ratio:',test_private[feat].isnull().sum()/len(test_private))"
      ],
      "metadata": {
        "colab": {
          "base_uri": "https://localhost:8080/"
        },
        "id": "XujN788Rmoks",
        "outputId": "4d62f166-3e77-493e-b0a4-4f4f12c7f42e"
      },
      "execution_count": 64,
      "outputs": [
        {
          "output_type": "stream",
          "name": "stdout",
          "text": [
            "========================= R_1 =========================\n",
            "Train Nan Ratio: 0.0\n",
            "Privat Nan Ratio: 0.0\n",
            "========================= D_59 =========================\n",
            "Train Nan Ratio: 0.0\n",
            "Privat Nan Ratio: 0.0\n",
            "========================= S_11 =========================\n",
            "Train Nan Ratio: 0.0\n",
            "Privat Nan Ratio: 0.0\n",
            "========================= S_9 =========================\n",
            "Train Nan Ratio: 0.40063802943041493\n",
            "Privat Nan Ratio: 0.2325254398823846\n",
            "========================= S_27 =========================\n",
            "Train Nan Ratio: 0.25531200903003404\n",
            "Privat Nan Ratio: 0.23636118863336225\n",
            "========================= D_121 =========================\n",
            "Train Nan Ratio: 0.013111417632536015\n",
            "Privat Nan Ratio: 0.021281460618933854\n",
            "========================= R_27 =========================\n",
            "Train Nan Ratio: 0.06261753317077529\n",
            "Privat Nan Ratio: 0.00696418115846023\n",
            "========================= S_15 =========================\n",
            "Train Nan Ratio: 0.0\n",
            "Privat Nan Ratio: 0.0\n",
            "========================= S_24 =========================\n",
            "Train Nan Ratio: 0.003778493962908002\n",
            "Privat Nan Ratio: 0.007451396041592766\n",
            "========================= S_22 =========================\n",
            "Train Nan Ratio: 0.003850403017565421\n",
            "Privat Nan Ratio: 0.007524050892586213\n",
            "========================= D_39 =========================\n",
            "Train Nan Ratio: 0.0\n",
            "Privat Nan Ratio: 0.0\n",
            "========================= D_62 =========================\n",
            "Train Nan Ratio: 0.12846225755208504\n",
            "Privat Nan Ratio: 0.16456537440754243\n",
            "========================= D_45 =========================\n",
            "Train Nan Ratio: 6.755093013272669e-05\n",
            "Privat Nan Ratio: 8.761320266856994e-05\n",
            "========================= B_17 =========================\n",
            "Train Nan Ratio: 0.5327175303379943\n",
            "Privat Nan Ratio: 0.5220208305731613\n",
            "========================= D_60 =========================\n",
            "Train Nan Ratio: 0.0\n",
            "Privat Nan Ratio: 0.0\n",
            "========================= D_77 =========================\n",
            "Train Nan Ratio: 0.4659641369932863\n",
            "Privat Nan Ratio: 0.5027224200048721\n",
            "========================= S_17 =========================\n",
            "Train Nan Ratio: 0.0\n",
            "Privat Nan Ratio: 0.0030109025014637817\n",
            "========================= S_13 =========================\n",
            "Train Nan Ratio: 0.0\n",
            "Privat Nan Ratio: 0.0\n",
            "========================= B_40 =========================\n",
            "Train Nan Ratio: 0.0\n",
            "Privat Nan Ratio: 0.0017821807567216421\n",
            "========================= R_26 =========================\n",
            "Train Nan Ratio: 0.0\n",
            "Privat Nan Ratio: 0.0\n",
            "========================= D_91 =========================\n",
            "Train Nan Ratio: 0.0\n",
            "Privat Nan Ratio: 0.0\n",
            "========================= P_3 =========================\n",
            "Train Nan Ratio: 0.04841876346932861\n",
            "Privat Nan Ratio: 0.037957885829312386\n",
            "========================= S_18 =========================\n",
            "Train Nan Ratio: 0.0\n",
            "Privat Nan Ratio: 0.0\n",
            "========================= D_120 =========================\n",
            "Train Nan Ratio: 0.0\n",
            "Privat Nan Ratio: 0.0\n",
            "========================= D_115 =========================\n",
            "Train Nan Ratio: 0.013111417632536015\n",
            "Privat Nan Ratio: 0.021281460618933854\n",
            "========================= P_4 =========================\n",
            "Train Nan Ratio: 0.0\n",
            "Privat Nan Ratio: 0.0\n",
            "========================= D_61 =========================\n",
            "Train Nan Ratio: 0.10535330225990547\n",
            "Privat Nan Ratio: 0.10955283076120914\n",
            "========================= D_118 =========================\n",
            "Train Nan Ratio: 0.013111417632536015\n",
            "Privat Nan Ratio: 0.021281460618933854\n",
            "========================= S_3 =========================\n",
            "Train Nan Ratio: 0.1851549204315415\n",
            "Privat Nan Ratio: 0.16419996324519304\n",
            "========================= D_119 =========================\n",
            "Train Nan Ratio: 0.013111417632536015\n",
            "Privat Nan Ratio: 0.021281460618933854\n",
            "========================= D_42 =========================\n",
            "Train Nan Ratio: 0.8694523798628498\n",
            "Privat Nan Ratio: 0.88568827649872\n",
            "========================= D_73 =========================\n",
            "Train Nan Ratio: 0.9907629550699152\n",
            "Privat Nan Ratio: 0.9854198809315207\n",
            "========================= B_8 =========================\n",
            "Train Nan Ratio: 0.008914543715257576\n",
            "Privat Nan Ratio: 0.008182218366291568\n",
            "========================= S_7 =========================\n",
            "Train Nan Ratio: 0.1851549204315415\n",
            "Privat Nan Ratio: 0.16419996324519304\n",
            "========================= D_47 =========================\n",
            "Train Nan Ratio: 0.0\n",
            "Privat Nan Ratio: 0.0\n"
          ]
        }
      ]
    },
    {
      "cell_type": "code",
      "source": [
        "public_drop_feats=['B_29', 'R_1', 'D_59', 'S_11', 'S_15', 'S_9', 'S_24', 'D_121', 'S_27', 'S_22', 'D_45', 'R_27', 'D_62', 'S_13', 'D_91', 'D_39', 'D_77', 'D_42', 'B_8', 'D_142', 'P_4', 'B_17', 'P_3', 'D_120', 'S_17', 'D_115', 'D_118', 'D_47', 'S_18', 'D_61', 'D_119', 'S_7', 'R_26', 'S_3', 'D_52', 'D_46', 'S_6', 'B_9', 'D_43', 'D_64', 'B_16', 'B_38', 'D_73', 'P_2', 'D_56', 'B_20', 'B_12', 'D_141', 'D_48', 'B_3']\n",
        "private_drop_feats=['R_1', 'D_59', 'S_11', 'S_9', 'S_27', 'D_121', 'R_27', 'S_15', 'S_24', 'S_22', 'D_39', 'D_62', 'D_45', 'B_17', 'D_60', 'D_77', 'S_17', 'S_13', 'B_40', 'R_26', 'D_91', 'P_3', 'S_18', 'D_120', 'D_115', 'P_4', 'D_61', 'D_118', 'S_3', 'D_119', 'D_42', 'D_73', 'B_8', 'S_7', 'D_47']\n",
        "only_private_drop_feats=[f for f in private_drop_feats if f not in public_drop_feats]\n",
        "only_private_drop_feats"
      ],
      "metadata": {
        "colab": {
          "base_uri": "https://localhost:8080/"
        },
        "id": "DWoPjvl5oahF",
        "outputId": "f4942a38-4236-491a-8fb4-4e84266db3cb"
      },
      "execution_count": 66,
      "outputs": [
        {
          "output_type": "execute_result",
          "data": {
            "text/plain": [
              "['D_60', 'B_40']"
            ]
          },
          "metadata": {},
          "execution_count": 66
        }
      ]
    },
    {
      "cell_type": "code",
      "source": [
        "only_public_feats=[f for f in public_drop_feats if f not in private_drop_feats]\n",
        "only_public_feats"
      ],
      "metadata": {
        "colab": {
          "base_uri": "https://localhost:8080/"
        },
        "id": "gRxvWbPKpxR7",
        "outputId": "050284c3-35c4-4e29-e72e-e74b30e03b44"
      },
      "execution_count": 67,
      "outputs": [
        {
          "output_type": "execute_result",
          "data": {
            "text/plain": [
              "['B_29',\n",
              " 'D_142',\n",
              " 'D_52',\n",
              " 'D_46',\n",
              " 'S_6',\n",
              " 'B_9',\n",
              " 'D_43',\n",
              " 'D_64',\n",
              " 'B_16',\n",
              " 'B_38',\n",
              " 'P_2',\n",
              " 'D_56',\n",
              " 'B_20',\n",
              " 'B_12',\n",
              " 'D_141',\n",
              " 'D_48',\n",
              " 'B_3']"
            ]
          },
          "metadata": {},
          "execution_count": 67
        }
      ]
    },
    {
      "cell_type": "markdown",
      "source": [
        "# Result\n",
        "* public_drop_featsだけに入っていてそれが予測の基準になっているものは危ない\n",
        "* only_private_drop_featsはmodelの特徴量に入れてあげるとよりprivateの予測が上手くできそう\n",
        "* B_29はnull率も大きくtrainと違うからそれが特徴量に入るとpublicを上手く予測出来てもprivateを上手く予測できるとは限らなくなる"
      ],
      "metadata": {
        "id": "j3H8ZQpkpFEG"
      }
    },
    {
      "cell_type": "code",
      "source": [
        ""
      ],
      "metadata": {
        "id": "U-ZtyrZRqSzz"
      },
      "execution_count": null,
      "outputs": []
    }
  ]
}