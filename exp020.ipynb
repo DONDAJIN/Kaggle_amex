{
  "nbformat": 4,
  "nbformat_minor": 0,
  "metadata": {
    "colab": {
      "name": "exp020.ipynb",
      "provenance": [],
      "machine_shape": "hm",
      "mount_file_id": "1Lj2rw2eqmYo5FC2esAkfX5YCGROdGmmr",
      "authorship_tag": "ABX9TyOenfAJppvq3oi/5tIeuz7w",
      "include_colab_link": true
    },
    "kernelspec": {
      "name": "python3",
      "display_name": "Python 3"
    },
    "language_info": {
      "name": "python"
    },
    "gpuClass": "standard"
  },
  "cells": [
    {
      "cell_type": "markdown",
      "metadata": {
        "id": "view-in-github",
        "colab_type": "text"
      },
      "source": [
        "<a href=\"https://colab.research.google.com/github/DONDAJIN/Kaggle_amex/blob/master/exp020.ipynb\" target=\"_parent\"><img src=\"https://colab.research.google.com/assets/colab-badge.svg\" alt=\"Open In Colab\"/></a>"
      ]
    },
    {
      "cell_type": "code",
      "execution_count": 10,
      "metadata": {
        "id": "ApU19Pgi9yQz"
      },
      "outputs": [],
      "source": [
        "import gc\n",
        "import os\n",
        "import joblib\n",
        "import random\n",
        "import warnings\n",
        "import itertools\n",
        "import scipy as sp\n",
        "import numpy as np\n",
        "import pandas as pd\n",
        "from tqdm import tqdm\n",
        "import lightgbm as lgb\n",
        "from itertools import combinations\n",
        "pd.set_option('display.width', 1000)\n",
        "pd.set_option('display.max_rows', 500)\n",
        "pd.set_option('display.max_columns', 500)\n",
        "from sklearn.preprocessing import LabelEncoder\n",
        "import warnings; warnings.filterwarnings('ignore')\n",
        "from sklearn.model_selection import StratifiedKFold, train_test_split,KFold"
      ]
    },
    {
      "cell_type": "code",
      "source": [
        "Pred_92=pd.read_csv('/content/drive/MyDrive/Kaggle/exp/exp018/pred/test_lgbm_baseline_5fold_seed92.csv')\n",
        "oof_92=0.7974417132114643\n",
        "Pred_55=pd.read_csv('/content/drive/MyDrive/Kaggle/exp/exp019/pred/Target-encoding_seed55.csv')\n",
        "oof_55=0.7973354873715778 #Targetencoding\n",
        "Pred_42=pd.read_csv('/content/drive/MyDrive/Kaggle/exp/exp012/pred/test_lgbm_baseline_5fold_seed42.csv')\n",
        "oof_42=0.7973811264999406\n",
        "best_df=pd.read_csv('submission3.csv')\n",
        "best_2df=pd.read_csv('submission2.csv')\n",
        "best_3df=pd.read_csv('/content/drive/MyDrive/Kaggle/exp/exp020/pred/test_lgbm_baseline_5fold_seed17.csv')"
      ],
      "metadata": {
        "id": "W62uBTR-96DO"
      },
      "execution_count": 23,
      "outputs": []
    },
    {
      "cell_type": "code",
      "source": [
        "dfs=[Pred_92,Pred_55,Pred_42,best_df,best_2df]\n",
        "weights=[0.08,0.05,0.06,0.48,0.33]"
      ],
      "metadata": {
        "id": "11ZZ6UCqDiXF"
      },
      "execution_count": null,
      "outputs": []
    },
    {
      "cell_type": "code",
      "source": [
        "for df in dfs:\n",
        "  df['prediction']=df['prediction'].clip(0,1)"
      ],
      "metadata": {
        "id": "QT6b7iM1GAXl"
      },
      "execution_count": 33,
      "outputs": []
    },
    {
      "cell_type": "code",
      "source": [
        "submission_df=pd.DataFrame()\n",
        "submission_df['customer_ID']=best_df['customer_ID']\n",
        "submission_df['prediction']=0\n",
        "for df,weight in zip(dfs,weights):\n",
        "  submission_df['prediction']+=df['prediction']*weight"
      ],
      "metadata": {
        "id": "TA4zW12JGLso"
      },
      "execution_count": 38,
      "outputs": []
    },
    {
      "cell_type": "code",
      "source": [
        "submission_df"
      ],
      "metadata": {
        "colab": {
          "base_uri": "https://localhost:8080/",
          "height": 424
        },
        "id": "DON7zy3GG0gT",
        "outputId": "ded1e93f-eebf-4a5f-d635-d257d00cfb54"
      },
      "execution_count": 39,
      "outputs": [
        {
          "output_type": "execute_result",
          "data": {
            "text/plain": [
              "                                              customer_ID  prediction\n",
              "0       00000469ba478561f23a92a868bd366de6f6527a684c9a...    0.163887\n",
              "1       00001bf2e77ff879fab36aa4fac689b9ba411dae63ae39...    0.030008\n",
              "2       0000210045da4f81e5f122c6bde5c2a617d03eef67f82c...    0.166634\n",
              "3       00003b41e58ede33b8daf61ab56d9952f17c9ad1c3976c...    0.285795\n",
              "4       00004b22eaeeeb0ec976890c1d9bfc14fd9427e98c4ee9...    0.698235\n",
              "...                                                   ...         ...\n",
              "924616  ffff952c631f2c911b8a2a8ca56ea6e656309a83d2f64c...    0.135848\n",
              "924617  ffffcf5df59e5e0bba2a5ac4578a34e2b5aa64a1546cd3...    0.679695\n",
              "924618  ffffd61f098cc056dbd7d2a21380c4804bbfe60856f475...    0.453953\n",
              "924619  ffffddef1fc3643ea179c93245b68dca0f36941cd83977...    0.323701\n",
              "924620  fffffa7cf7e453e1acc6a1426475d5cb9400859f82ff61...    0.194719\n",
              "\n",
              "[924621 rows x 2 columns]"
            ],
            "text/html": [
              "\n",
              "  <div id=\"df-ef7a39e5-0bdd-4a6d-aaf3-be74a0e36d22\">\n",
              "    <div class=\"colab-df-container\">\n",
              "      <div>\n",
              "<style scoped>\n",
              "    .dataframe tbody tr th:only-of-type {\n",
              "        vertical-align: middle;\n",
              "    }\n",
              "\n",
              "    .dataframe tbody tr th {\n",
              "        vertical-align: top;\n",
              "    }\n",
              "\n",
              "    .dataframe thead th {\n",
              "        text-align: right;\n",
              "    }\n",
              "</style>\n",
              "<table border=\"1\" class=\"dataframe\">\n",
              "  <thead>\n",
              "    <tr style=\"text-align: right;\">\n",
              "      <th></th>\n",
              "      <th>customer_ID</th>\n",
              "      <th>prediction</th>\n",
              "    </tr>\n",
              "  </thead>\n",
              "  <tbody>\n",
              "    <tr>\n",
              "      <th>0</th>\n",
              "      <td>00000469ba478561f23a92a868bd366de6f6527a684c9a...</td>\n",
              "      <td>0.163887</td>\n",
              "    </tr>\n",
              "    <tr>\n",
              "      <th>1</th>\n",
              "      <td>00001bf2e77ff879fab36aa4fac689b9ba411dae63ae39...</td>\n",
              "      <td>0.030008</td>\n",
              "    </tr>\n",
              "    <tr>\n",
              "      <th>2</th>\n",
              "      <td>0000210045da4f81e5f122c6bde5c2a617d03eef67f82c...</td>\n",
              "      <td>0.166634</td>\n",
              "    </tr>\n",
              "    <tr>\n",
              "      <th>3</th>\n",
              "      <td>00003b41e58ede33b8daf61ab56d9952f17c9ad1c3976c...</td>\n",
              "      <td>0.285795</td>\n",
              "    </tr>\n",
              "    <tr>\n",
              "      <th>4</th>\n",
              "      <td>00004b22eaeeeb0ec976890c1d9bfc14fd9427e98c4ee9...</td>\n",
              "      <td>0.698235</td>\n",
              "    </tr>\n",
              "    <tr>\n",
              "      <th>...</th>\n",
              "      <td>...</td>\n",
              "      <td>...</td>\n",
              "    </tr>\n",
              "    <tr>\n",
              "      <th>924616</th>\n",
              "      <td>ffff952c631f2c911b8a2a8ca56ea6e656309a83d2f64c...</td>\n",
              "      <td>0.135848</td>\n",
              "    </tr>\n",
              "    <tr>\n",
              "      <th>924617</th>\n",
              "      <td>ffffcf5df59e5e0bba2a5ac4578a34e2b5aa64a1546cd3...</td>\n",
              "      <td>0.679695</td>\n",
              "    </tr>\n",
              "    <tr>\n",
              "      <th>924618</th>\n",
              "      <td>ffffd61f098cc056dbd7d2a21380c4804bbfe60856f475...</td>\n",
              "      <td>0.453953</td>\n",
              "    </tr>\n",
              "    <tr>\n",
              "      <th>924619</th>\n",
              "      <td>ffffddef1fc3643ea179c93245b68dca0f36941cd83977...</td>\n",
              "      <td>0.323701</td>\n",
              "    </tr>\n",
              "    <tr>\n",
              "      <th>924620</th>\n",
              "      <td>fffffa7cf7e453e1acc6a1426475d5cb9400859f82ff61...</td>\n",
              "      <td>0.194719</td>\n",
              "    </tr>\n",
              "  </tbody>\n",
              "</table>\n",
              "<p>924621 rows × 2 columns</p>\n",
              "</div>\n",
              "      <button class=\"colab-df-convert\" onclick=\"convertToInteractive('df-ef7a39e5-0bdd-4a6d-aaf3-be74a0e36d22')\"\n",
              "              title=\"Convert this dataframe to an interactive table.\"\n",
              "              style=\"display:none;\">\n",
              "        \n",
              "  <svg xmlns=\"http://www.w3.org/2000/svg\" height=\"24px\"viewBox=\"0 0 24 24\"\n",
              "       width=\"24px\">\n",
              "    <path d=\"M0 0h24v24H0V0z\" fill=\"none\"/>\n",
              "    <path d=\"M18.56 5.44l.94 2.06.94-2.06 2.06-.94-2.06-.94-.94-2.06-.94 2.06-2.06.94zm-11 1L8.5 8.5l.94-2.06 2.06-.94-2.06-.94L8.5 2.5l-.94 2.06-2.06.94zm10 10l.94 2.06.94-2.06 2.06-.94-2.06-.94-.94-2.06-.94 2.06-2.06.94z\"/><path d=\"M17.41 7.96l-1.37-1.37c-.4-.4-.92-.59-1.43-.59-.52 0-1.04.2-1.43.59L10.3 9.45l-7.72 7.72c-.78.78-.78 2.05 0 2.83L4 21.41c.39.39.9.59 1.41.59.51 0 1.02-.2 1.41-.59l7.78-7.78 2.81-2.81c.8-.78.8-2.07 0-2.86zM5.41 20L4 18.59l7.72-7.72 1.47 1.35L5.41 20z\"/>\n",
              "  </svg>\n",
              "      </button>\n",
              "      \n",
              "  <style>\n",
              "    .colab-df-container {\n",
              "      display:flex;\n",
              "      flex-wrap:wrap;\n",
              "      gap: 12px;\n",
              "    }\n",
              "\n",
              "    .colab-df-convert {\n",
              "      background-color: #E8F0FE;\n",
              "      border: none;\n",
              "      border-radius: 50%;\n",
              "      cursor: pointer;\n",
              "      display: none;\n",
              "      fill: #1967D2;\n",
              "      height: 32px;\n",
              "      padding: 0 0 0 0;\n",
              "      width: 32px;\n",
              "    }\n",
              "\n",
              "    .colab-df-convert:hover {\n",
              "      background-color: #E2EBFA;\n",
              "      box-shadow: 0px 1px 2px rgba(60, 64, 67, 0.3), 0px 1px 3px 1px rgba(60, 64, 67, 0.15);\n",
              "      fill: #174EA6;\n",
              "    }\n",
              "\n",
              "    [theme=dark] .colab-df-convert {\n",
              "      background-color: #3B4455;\n",
              "      fill: #D2E3FC;\n",
              "    }\n",
              "\n",
              "    [theme=dark] .colab-df-convert:hover {\n",
              "      background-color: #434B5C;\n",
              "      box-shadow: 0px 1px 3px 1px rgba(0, 0, 0, 0.15);\n",
              "      filter: drop-shadow(0px 1px 2px rgba(0, 0, 0, 0.3));\n",
              "      fill: #FFFFFF;\n",
              "    }\n",
              "  </style>\n",
              "\n",
              "      <script>\n",
              "        const buttonEl =\n",
              "          document.querySelector('#df-ef7a39e5-0bdd-4a6d-aaf3-be74a0e36d22 button.colab-df-convert');\n",
              "        buttonEl.style.display =\n",
              "          google.colab.kernel.accessAllowed ? 'block' : 'none';\n",
              "\n",
              "        async function convertToInteractive(key) {\n",
              "          const element = document.querySelector('#df-ef7a39e5-0bdd-4a6d-aaf3-be74a0e36d22');\n",
              "          const dataTable =\n",
              "            await google.colab.kernel.invokeFunction('convertToInteractive',\n",
              "                                                     [key], {});\n",
              "          if (!dataTable) return;\n",
              "\n",
              "          const docLinkHtml = 'Like what you see? Visit the ' +\n",
              "            '<a target=\"_blank\" href=https://colab.research.google.com/notebooks/data_table.ipynb>data table notebook</a>'\n",
              "            + ' to learn more about interactive tables.';\n",
              "          element.innerHTML = '';\n",
              "          dataTable['output_type'] = 'display_data';\n",
              "          await google.colab.output.renderOutput(dataTable, element);\n",
              "          const docLink = document.createElement('div');\n",
              "          docLink.innerHTML = docLinkHtml;\n",
              "          element.appendChild(docLink);\n",
              "        }\n",
              "      </script>\n",
              "    </div>\n",
              "  </div>\n",
              "  "
            ]
          },
          "metadata": {},
          "execution_count": 39
        }
      ]
    },
    {
      "cell_type": "code",
      "source": [
        "submission_df.to_csv(os.path.join('/content/drive/MyDrive/Kaggle/exp/exp020/pred','sub_ensem1.csv'),index=False)"
      ],
      "metadata": {
        "id": "K4BtNf9jJWyi"
      },
      "execution_count": 40,
      "outputs": []
    },
    {
      "cell_type": "code",
      "source": [
        "diff=best_df['prediction']-best_2df['prediction']"
      ],
      "metadata": {
        "id": "CldHq7RcHdGP"
      },
      "execution_count": 23,
      "outputs": []
    },
    {
      "cell_type": "code",
      "source": [
        "Pred_cat=pd.read_csv('/content/drive/MyDrive/Kaggle/exp/exp017/pred/test_lgbm_baseline_5fold_seed64.csv')"
      ],
      "metadata": {
        "id": "f4L14__vItnu"
      },
      "execution_count": 42,
      "outputs": []
    },
    {
      "cell_type": "code",
      "source": [
        "dfs=[Pred_92,Pred_55,Pred_42,best_df,best_2df,Pred_cat]\n",
        "weights=[0.08,0.08,0.08,0.4,0.32,0.04]"
      ],
      "metadata": {
        "id": "t_UjBSaFLtPB"
      },
      "execution_count": 43,
      "outputs": []
    },
    {
      "cell_type": "code",
      "source": [
        "for df in dfs:\n",
        "  df['prediction']=df['prediction'].clip(0,1)"
      ],
      "metadata": {
        "id": "9_h9MA3fMIok"
      },
      "execution_count": 44,
      "outputs": []
    },
    {
      "cell_type": "code",
      "source": [
        "submission_df=pd.DataFrame()\n",
        "submission_df['customer_ID']=best_df['customer_ID']\n",
        "submission_df['prediction']=0\n",
        "for df,weight in zip(dfs,weights):\n",
        "  submission_df['prediction']+=df['prediction']*weight"
      ],
      "metadata": {
        "id": "fQiH1YaMMRUd"
      },
      "execution_count": 45,
      "outputs": []
    },
    {
      "cell_type": "code",
      "source": [
        "submission_df.to_csv(os.path.join('/content/drive/MyDrive/Kaggle/exp/exp020/pred','sub_ensem2.csv'),index=False)"
      ],
      "metadata": {
        "id": "2orIP-uqMdqU"
      },
      "execution_count": 46,
      "outputs": []
    },
    {
      "cell_type": "code",
      "source": [
        "submission_df"
      ],
      "metadata": {
        "colab": {
          "base_uri": "https://localhost:8080/",
          "height": 424
        },
        "id": "CEju4cSsMnMC",
        "outputId": "e8d1ad4a-4632-4f47-e570-16fe2c2a114f"
      },
      "execution_count": 47,
      "outputs": [
        {
          "output_type": "execute_result",
          "data": {
            "text/plain": [
              "                                              customer_ID  prediction\n",
              "0       00000469ba478561f23a92a868bd366de6f6527a684c9a...    0.140466\n",
              "1       00001bf2e77ff879fab36aa4fac689b9ba411dae63ae39...    0.025167\n",
              "2       0000210045da4f81e5f122c6bde5c2a617d03eef67f82c...    0.143477\n",
              "3       00003b41e58ede33b8daf61ab56d9952f17c9ad1c3976c...    0.272047\n",
              "4       00004b22eaeeeb0ec976890c1d9bfc14fd9427e98c4ee9...    0.726663\n",
              "...                                                   ...         ...\n",
              "924616  ffff952c631f2c911b8a2a8ca56ea6e656309a83d2f64c...    0.115309\n",
              "924617  ffffcf5df59e5e0bba2a5ac4578a34e2b5aa64a1546cd3...    0.707892\n",
              "924618  ffffd61f098cc056dbd7d2a21380c4804bbfe60856f475...    0.459000\n",
              "924619  ffffddef1fc3643ea179c93245b68dca0f36941cd83977...    0.312970\n",
              "924620  fffffa7cf7e453e1acc6a1426475d5cb9400859f82ff61...    0.172104\n",
              "\n",
              "[924621 rows x 2 columns]"
            ],
            "text/html": [
              "\n",
              "  <div id=\"df-f1e5e857-3d5d-45b7-9f0c-1532fec73d18\">\n",
              "    <div class=\"colab-df-container\">\n",
              "      <div>\n",
              "<style scoped>\n",
              "    .dataframe tbody tr th:only-of-type {\n",
              "        vertical-align: middle;\n",
              "    }\n",
              "\n",
              "    .dataframe tbody tr th {\n",
              "        vertical-align: top;\n",
              "    }\n",
              "\n",
              "    .dataframe thead th {\n",
              "        text-align: right;\n",
              "    }\n",
              "</style>\n",
              "<table border=\"1\" class=\"dataframe\">\n",
              "  <thead>\n",
              "    <tr style=\"text-align: right;\">\n",
              "      <th></th>\n",
              "      <th>customer_ID</th>\n",
              "      <th>prediction</th>\n",
              "    </tr>\n",
              "  </thead>\n",
              "  <tbody>\n",
              "    <tr>\n",
              "      <th>0</th>\n",
              "      <td>00000469ba478561f23a92a868bd366de6f6527a684c9a...</td>\n",
              "      <td>0.140466</td>\n",
              "    </tr>\n",
              "    <tr>\n",
              "      <th>1</th>\n",
              "      <td>00001bf2e77ff879fab36aa4fac689b9ba411dae63ae39...</td>\n",
              "      <td>0.025167</td>\n",
              "    </tr>\n",
              "    <tr>\n",
              "      <th>2</th>\n",
              "      <td>0000210045da4f81e5f122c6bde5c2a617d03eef67f82c...</td>\n",
              "      <td>0.143477</td>\n",
              "    </tr>\n",
              "    <tr>\n",
              "      <th>3</th>\n",
              "      <td>00003b41e58ede33b8daf61ab56d9952f17c9ad1c3976c...</td>\n",
              "      <td>0.272047</td>\n",
              "    </tr>\n",
              "    <tr>\n",
              "      <th>4</th>\n",
              "      <td>00004b22eaeeeb0ec976890c1d9bfc14fd9427e98c4ee9...</td>\n",
              "      <td>0.726663</td>\n",
              "    </tr>\n",
              "    <tr>\n",
              "      <th>...</th>\n",
              "      <td>...</td>\n",
              "      <td>...</td>\n",
              "    </tr>\n",
              "    <tr>\n",
              "      <th>924616</th>\n",
              "      <td>ffff952c631f2c911b8a2a8ca56ea6e656309a83d2f64c...</td>\n",
              "      <td>0.115309</td>\n",
              "    </tr>\n",
              "    <tr>\n",
              "      <th>924617</th>\n",
              "      <td>ffffcf5df59e5e0bba2a5ac4578a34e2b5aa64a1546cd3...</td>\n",
              "      <td>0.707892</td>\n",
              "    </tr>\n",
              "    <tr>\n",
              "      <th>924618</th>\n",
              "      <td>ffffd61f098cc056dbd7d2a21380c4804bbfe60856f475...</td>\n",
              "      <td>0.459000</td>\n",
              "    </tr>\n",
              "    <tr>\n",
              "      <th>924619</th>\n",
              "      <td>ffffddef1fc3643ea179c93245b68dca0f36941cd83977...</td>\n",
              "      <td>0.312970</td>\n",
              "    </tr>\n",
              "    <tr>\n",
              "      <th>924620</th>\n",
              "      <td>fffffa7cf7e453e1acc6a1426475d5cb9400859f82ff61...</td>\n",
              "      <td>0.172104</td>\n",
              "    </tr>\n",
              "  </tbody>\n",
              "</table>\n",
              "<p>924621 rows × 2 columns</p>\n",
              "</div>\n",
              "      <button class=\"colab-df-convert\" onclick=\"convertToInteractive('df-f1e5e857-3d5d-45b7-9f0c-1532fec73d18')\"\n",
              "              title=\"Convert this dataframe to an interactive table.\"\n",
              "              style=\"display:none;\">\n",
              "        \n",
              "  <svg xmlns=\"http://www.w3.org/2000/svg\" height=\"24px\"viewBox=\"0 0 24 24\"\n",
              "       width=\"24px\">\n",
              "    <path d=\"M0 0h24v24H0V0z\" fill=\"none\"/>\n",
              "    <path d=\"M18.56 5.44l.94 2.06.94-2.06 2.06-.94-2.06-.94-.94-2.06-.94 2.06-2.06.94zm-11 1L8.5 8.5l.94-2.06 2.06-.94-2.06-.94L8.5 2.5l-.94 2.06-2.06.94zm10 10l.94 2.06.94-2.06 2.06-.94-2.06-.94-.94-2.06-.94 2.06-2.06.94z\"/><path d=\"M17.41 7.96l-1.37-1.37c-.4-.4-.92-.59-1.43-.59-.52 0-1.04.2-1.43.59L10.3 9.45l-7.72 7.72c-.78.78-.78 2.05 0 2.83L4 21.41c.39.39.9.59 1.41.59.51 0 1.02-.2 1.41-.59l7.78-7.78 2.81-2.81c.8-.78.8-2.07 0-2.86zM5.41 20L4 18.59l7.72-7.72 1.47 1.35L5.41 20z\"/>\n",
              "  </svg>\n",
              "      </button>\n",
              "      \n",
              "  <style>\n",
              "    .colab-df-container {\n",
              "      display:flex;\n",
              "      flex-wrap:wrap;\n",
              "      gap: 12px;\n",
              "    }\n",
              "\n",
              "    .colab-df-convert {\n",
              "      background-color: #E8F0FE;\n",
              "      border: none;\n",
              "      border-radius: 50%;\n",
              "      cursor: pointer;\n",
              "      display: none;\n",
              "      fill: #1967D2;\n",
              "      height: 32px;\n",
              "      padding: 0 0 0 0;\n",
              "      width: 32px;\n",
              "    }\n",
              "\n",
              "    .colab-df-convert:hover {\n",
              "      background-color: #E2EBFA;\n",
              "      box-shadow: 0px 1px 2px rgba(60, 64, 67, 0.3), 0px 1px 3px 1px rgba(60, 64, 67, 0.15);\n",
              "      fill: #174EA6;\n",
              "    }\n",
              "\n",
              "    [theme=dark] .colab-df-convert {\n",
              "      background-color: #3B4455;\n",
              "      fill: #D2E3FC;\n",
              "    }\n",
              "\n",
              "    [theme=dark] .colab-df-convert:hover {\n",
              "      background-color: #434B5C;\n",
              "      box-shadow: 0px 1px 3px 1px rgba(0, 0, 0, 0.15);\n",
              "      filter: drop-shadow(0px 1px 2px rgba(0, 0, 0, 0.3));\n",
              "      fill: #FFFFFF;\n",
              "    }\n",
              "  </style>\n",
              "\n",
              "      <script>\n",
              "        const buttonEl =\n",
              "          document.querySelector('#df-f1e5e857-3d5d-45b7-9f0c-1532fec73d18 button.colab-df-convert');\n",
              "        buttonEl.style.display =\n",
              "          google.colab.kernel.accessAllowed ? 'block' : 'none';\n",
              "\n",
              "        async function convertToInteractive(key) {\n",
              "          const element = document.querySelector('#df-f1e5e857-3d5d-45b7-9f0c-1532fec73d18');\n",
              "          const dataTable =\n",
              "            await google.colab.kernel.invokeFunction('convertToInteractive',\n",
              "                                                     [key], {});\n",
              "          if (!dataTable) return;\n",
              "\n",
              "          const docLinkHtml = 'Like what you see? Visit the ' +\n",
              "            '<a target=\"_blank\" href=https://colab.research.google.com/notebooks/data_table.ipynb>data table notebook</a>'\n",
              "            + ' to learn more about interactive tables.';\n",
              "          element.innerHTML = '';\n",
              "          dataTable['output_type'] = 'display_data';\n",
              "          await google.colab.output.renderOutput(dataTable, element);\n",
              "          const docLink = document.createElement('div');\n",
              "          docLink.innerHTML = docLinkHtml;\n",
              "          element.appendChild(docLink);\n",
              "        }\n",
              "      </script>\n",
              "    </div>\n",
              "  </div>\n",
              "  "
            ]
          },
          "metadata": {},
          "execution_count": 47
        }
      ]
    },
    {
      "cell_type": "code",
      "source": [
        "dfs=[Pred_92,Pred_55,Pred_42,best_df,best_2df,Pred_cat]\n",
        "weights=[0.05,0.05,0.05,0.5,0.33,0.02]"
      ],
      "metadata": {
        "id": "JBAsIUEUMp5g"
      },
      "execution_count": 48,
      "outputs": []
    },
    {
      "cell_type": "code",
      "source": [
        "submission3_df=pd.DataFrame()\n",
        "submission3_df['customer_ID']=best_df['customer_ID']\n",
        "submission3_df['prediction']=0\n",
        "for df,weight in zip(dfs,weights):\n",
        "  submission3_df['prediction']+=df['prediction']*weight"
      ],
      "metadata": {
        "id": "CUDsJUnKNlQ1"
      },
      "execution_count": 49,
      "outputs": []
    },
    {
      "cell_type": "code",
      "source": [
        "submission3_df.to_csv(os.path.join('/content/drive/MyDrive/Kaggle/exp/exp020/pred','sub_ensem3.csv'),index=False)"
      ],
      "metadata": {
        "id": "pamdmV8SNvz-"
      },
      "execution_count": 51,
      "outputs": []
    },
    {
      "cell_type": "code",
      "source": [
        "submission3_df"
      ],
      "metadata": {
        "colab": {
          "base_uri": "https://localhost:8080/",
          "height": 424
        },
        "id": "bXmffvQ_POEF",
        "outputId": "a92f288a-249c-42b1-cff8-57a24587e49d"
      },
      "execution_count": 55,
      "outputs": [
        {
          "output_type": "execute_result",
          "data": {
            "text/plain": [
              "                                              customer_ID  prediction\n",
              "0       00000469ba478561f23a92a868bd366de6f6527a684c9a...    0.169650\n",
              "1       00001bf2e77ff879fab36aa4fac689b9ba411dae63ae39...    0.031244\n",
              "2       0000210045da4f81e5f122c6bde5c2a617d03eef67f82c...    0.172414\n",
              "3       00003b41e58ede33b8daf61ab56d9952f17c9ad1c3976c...    0.290836\n",
              "4       00004b22eaeeeb0ec976890c1d9bfc14fd9427e98c4ee9...    0.691811\n",
              "...                                                   ...         ...\n",
              "924616  ffff952c631f2c911b8a2a8ca56ea6e656309a83d2f64c...    0.140950\n",
              "924617  ffffcf5df59e5e0bba2a5ac4578a34e2b5aa64a1546cd3...    0.673167\n",
              "924618  ffffd61f098cc056dbd7d2a21380c4804bbfe60856f475...    0.454672\n",
              "924619  ffffddef1fc3643ea179c93245b68dca0f36941cd83977...    0.327280\n",
              "924620  fffffa7cf7e453e1acc6a1426475d5cb9400859f82ff61...    0.200159\n",
              "\n",
              "[924621 rows x 2 columns]"
            ],
            "text/html": [
              "\n",
              "  <div id=\"df-b2957c88-75a4-4a27-a6ff-8a60127ce4e7\">\n",
              "    <div class=\"colab-df-container\">\n",
              "      <div>\n",
              "<style scoped>\n",
              "    .dataframe tbody tr th:only-of-type {\n",
              "        vertical-align: middle;\n",
              "    }\n",
              "\n",
              "    .dataframe tbody tr th {\n",
              "        vertical-align: top;\n",
              "    }\n",
              "\n",
              "    .dataframe thead th {\n",
              "        text-align: right;\n",
              "    }\n",
              "</style>\n",
              "<table border=\"1\" class=\"dataframe\">\n",
              "  <thead>\n",
              "    <tr style=\"text-align: right;\">\n",
              "      <th></th>\n",
              "      <th>customer_ID</th>\n",
              "      <th>prediction</th>\n",
              "    </tr>\n",
              "  </thead>\n",
              "  <tbody>\n",
              "    <tr>\n",
              "      <th>0</th>\n",
              "      <td>00000469ba478561f23a92a868bd366de6f6527a684c9a...</td>\n",
              "      <td>0.169650</td>\n",
              "    </tr>\n",
              "    <tr>\n",
              "      <th>1</th>\n",
              "      <td>00001bf2e77ff879fab36aa4fac689b9ba411dae63ae39...</td>\n",
              "      <td>0.031244</td>\n",
              "    </tr>\n",
              "    <tr>\n",
              "      <th>2</th>\n",
              "      <td>0000210045da4f81e5f122c6bde5c2a617d03eef67f82c...</td>\n",
              "      <td>0.172414</td>\n",
              "    </tr>\n",
              "    <tr>\n",
              "      <th>3</th>\n",
              "      <td>00003b41e58ede33b8daf61ab56d9952f17c9ad1c3976c...</td>\n",
              "      <td>0.290836</td>\n",
              "    </tr>\n",
              "    <tr>\n",
              "      <th>4</th>\n",
              "      <td>00004b22eaeeeb0ec976890c1d9bfc14fd9427e98c4ee9...</td>\n",
              "      <td>0.691811</td>\n",
              "    </tr>\n",
              "    <tr>\n",
              "      <th>...</th>\n",
              "      <td>...</td>\n",
              "      <td>...</td>\n",
              "    </tr>\n",
              "    <tr>\n",
              "      <th>924616</th>\n",
              "      <td>ffff952c631f2c911b8a2a8ca56ea6e656309a83d2f64c...</td>\n",
              "      <td>0.140950</td>\n",
              "    </tr>\n",
              "    <tr>\n",
              "      <th>924617</th>\n",
              "      <td>ffffcf5df59e5e0bba2a5ac4578a34e2b5aa64a1546cd3...</td>\n",
              "      <td>0.673167</td>\n",
              "    </tr>\n",
              "    <tr>\n",
              "      <th>924618</th>\n",
              "      <td>ffffd61f098cc056dbd7d2a21380c4804bbfe60856f475...</td>\n",
              "      <td>0.454672</td>\n",
              "    </tr>\n",
              "    <tr>\n",
              "      <th>924619</th>\n",
              "      <td>ffffddef1fc3643ea179c93245b68dca0f36941cd83977...</td>\n",
              "      <td>0.327280</td>\n",
              "    </tr>\n",
              "    <tr>\n",
              "      <th>924620</th>\n",
              "      <td>fffffa7cf7e453e1acc6a1426475d5cb9400859f82ff61...</td>\n",
              "      <td>0.200159</td>\n",
              "    </tr>\n",
              "  </tbody>\n",
              "</table>\n",
              "<p>924621 rows × 2 columns</p>\n",
              "</div>\n",
              "      <button class=\"colab-df-convert\" onclick=\"convertToInteractive('df-b2957c88-75a4-4a27-a6ff-8a60127ce4e7')\"\n",
              "              title=\"Convert this dataframe to an interactive table.\"\n",
              "              style=\"display:none;\">\n",
              "        \n",
              "  <svg xmlns=\"http://www.w3.org/2000/svg\" height=\"24px\"viewBox=\"0 0 24 24\"\n",
              "       width=\"24px\">\n",
              "    <path d=\"M0 0h24v24H0V0z\" fill=\"none\"/>\n",
              "    <path d=\"M18.56 5.44l.94 2.06.94-2.06 2.06-.94-2.06-.94-.94-2.06-.94 2.06-2.06.94zm-11 1L8.5 8.5l.94-2.06 2.06-.94-2.06-.94L8.5 2.5l-.94 2.06-2.06.94zm10 10l.94 2.06.94-2.06 2.06-.94-2.06-.94-.94-2.06-.94 2.06-2.06.94z\"/><path d=\"M17.41 7.96l-1.37-1.37c-.4-.4-.92-.59-1.43-.59-.52 0-1.04.2-1.43.59L10.3 9.45l-7.72 7.72c-.78.78-.78 2.05 0 2.83L4 21.41c.39.39.9.59 1.41.59.51 0 1.02-.2 1.41-.59l7.78-7.78 2.81-2.81c.8-.78.8-2.07 0-2.86zM5.41 20L4 18.59l7.72-7.72 1.47 1.35L5.41 20z\"/>\n",
              "  </svg>\n",
              "      </button>\n",
              "      \n",
              "  <style>\n",
              "    .colab-df-container {\n",
              "      display:flex;\n",
              "      flex-wrap:wrap;\n",
              "      gap: 12px;\n",
              "    }\n",
              "\n",
              "    .colab-df-convert {\n",
              "      background-color: #E8F0FE;\n",
              "      border: none;\n",
              "      border-radius: 50%;\n",
              "      cursor: pointer;\n",
              "      display: none;\n",
              "      fill: #1967D2;\n",
              "      height: 32px;\n",
              "      padding: 0 0 0 0;\n",
              "      width: 32px;\n",
              "    }\n",
              "\n",
              "    .colab-df-convert:hover {\n",
              "      background-color: #E2EBFA;\n",
              "      box-shadow: 0px 1px 2px rgba(60, 64, 67, 0.3), 0px 1px 3px 1px rgba(60, 64, 67, 0.15);\n",
              "      fill: #174EA6;\n",
              "    }\n",
              "\n",
              "    [theme=dark] .colab-df-convert {\n",
              "      background-color: #3B4455;\n",
              "      fill: #D2E3FC;\n",
              "    }\n",
              "\n",
              "    [theme=dark] .colab-df-convert:hover {\n",
              "      background-color: #434B5C;\n",
              "      box-shadow: 0px 1px 3px 1px rgba(0, 0, 0, 0.15);\n",
              "      filter: drop-shadow(0px 1px 2px rgba(0, 0, 0, 0.3));\n",
              "      fill: #FFFFFF;\n",
              "    }\n",
              "  </style>\n",
              "\n",
              "      <script>\n",
              "        const buttonEl =\n",
              "          document.querySelector('#df-b2957c88-75a4-4a27-a6ff-8a60127ce4e7 button.colab-df-convert');\n",
              "        buttonEl.style.display =\n",
              "          google.colab.kernel.accessAllowed ? 'block' : 'none';\n",
              "\n",
              "        async function convertToInteractive(key) {\n",
              "          const element = document.querySelector('#df-b2957c88-75a4-4a27-a6ff-8a60127ce4e7');\n",
              "          const dataTable =\n",
              "            await google.colab.kernel.invokeFunction('convertToInteractive',\n",
              "                                                     [key], {});\n",
              "          if (!dataTable) return;\n",
              "\n",
              "          const docLinkHtml = 'Like what you see? Visit the ' +\n",
              "            '<a target=\"_blank\" href=https://colab.research.google.com/notebooks/data_table.ipynb>data table notebook</a>'\n",
              "            + ' to learn more about interactive tables.';\n",
              "          element.innerHTML = '';\n",
              "          dataTable['output_type'] = 'display_data';\n",
              "          await google.colab.output.renderOutput(dataTable, element);\n",
              "          const docLink = document.createElement('div');\n",
              "          docLink.innerHTML = docLinkHtml;\n",
              "          element.appendChild(docLink);\n",
              "        }\n",
              "      </script>\n",
              "    </div>\n",
              "  </div>\n",
              "  "
            ]
          },
          "metadata": {},
          "execution_count": 55
        }
      ]
    },
    {
      "cell_type": "code",
      "source": [
        "dfs=[Pred_92,Pred_55,Pred_42,best_df,best_2df]\n",
        "weights=[0.05,0.05,0.05,0.47,0.38]"
      ],
      "metadata": {
        "id": "y_LXSAX0Nylp"
      },
      "execution_count": 52,
      "outputs": []
    },
    {
      "cell_type": "code",
      "source": [
        "submission4_df=pd.DataFrame()\n",
        "submission4_df['customer_ID']=best_df['customer_ID']\n",
        "submission4_df['prediction']=0\n",
        "for df,weight in zip(dfs,weights):\n",
        "  submission4_df['prediction']+=df['prediction']*weight"
      ],
      "metadata": {
        "id": "Cv48Rpl7O_qy"
      },
      "execution_count": 53,
      "outputs": []
    },
    {
      "cell_type": "code",
      "source": [
        "submission4_df"
      ],
      "metadata": {
        "colab": {
          "base_uri": "https://localhost:8080/",
          "height": 424
        },
        "id": "1lvEKEUqPJkp",
        "outputId": "55711531-c54c-4e0e-dc35-0f2b25067578"
      },
      "execution_count": 54,
      "outputs": [
        {
          "output_type": "execute_result",
          "data": {
            "text/plain": [
              "                                              customer_ID  prediction\n",
              "0       00000469ba478561f23a92a868bd366de6f6527a684c9a...    0.161465\n",
              "1       00001bf2e77ff879fab36aa4fac689b9ba411dae63ae39...    0.029396\n",
              "2       0000210045da4f81e5f122c6bde5c2a617d03eef67f82c...    0.163847\n",
              "3       00003b41e58ede33b8daf61ab56d9952f17c9ad1c3976c...    0.284303\n",
              "4       00004b22eaeeeb0ec976890c1d9bfc14fd9427e98c4ee9...    0.702626\n",
              "...                                                   ...         ...\n",
              "924616  ffff952c631f2c911b8a2a8ca56ea6e656309a83d2f64c...    0.133301\n",
              "924617  ffffcf5df59e5e0bba2a5ac4578a34e2b5aa64a1546cd3...    0.682566\n",
              "924618  ffffd61f098cc056dbd7d2a21380c4804bbfe60856f475...    0.455139\n",
              "924619  ffffddef1fc3643ea179c93245b68dca0f36941cd83977...    0.321909\n",
              "924620  fffffa7cf7e453e1acc6a1426475d5cb9400859f82ff61...    0.191652\n",
              "\n",
              "[924621 rows x 2 columns]"
            ],
            "text/html": [
              "\n",
              "  <div id=\"df-cb4d12ac-fa24-4047-9c56-6b1531c6fe32\">\n",
              "    <div class=\"colab-df-container\">\n",
              "      <div>\n",
              "<style scoped>\n",
              "    .dataframe tbody tr th:only-of-type {\n",
              "        vertical-align: middle;\n",
              "    }\n",
              "\n",
              "    .dataframe tbody tr th {\n",
              "        vertical-align: top;\n",
              "    }\n",
              "\n",
              "    .dataframe thead th {\n",
              "        text-align: right;\n",
              "    }\n",
              "</style>\n",
              "<table border=\"1\" class=\"dataframe\">\n",
              "  <thead>\n",
              "    <tr style=\"text-align: right;\">\n",
              "      <th></th>\n",
              "      <th>customer_ID</th>\n",
              "      <th>prediction</th>\n",
              "    </tr>\n",
              "  </thead>\n",
              "  <tbody>\n",
              "    <tr>\n",
              "      <th>0</th>\n",
              "      <td>00000469ba478561f23a92a868bd366de6f6527a684c9a...</td>\n",
              "      <td>0.161465</td>\n",
              "    </tr>\n",
              "    <tr>\n",
              "      <th>1</th>\n",
              "      <td>00001bf2e77ff879fab36aa4fac689b9ba411dae63ae39...</td>\n",
              "      <td>0.029396</td>\n",
              "    </tr>\n",
              "    <tr>\n",
              "      <th>2</th>\n",
              "      <td>0000210045da4f81e5f122c6bde5c2a617d03eef67f82c...</td>\n",
              "      <td>0.163847</td>\n",
              "    </tr>\n",
              "    <tr>\n",
              "      <th>3</th>\n",
              "      <td>00003b41e58ede33b8daf61ab56d9952f17c9ad1c3976c...</td>\n",
              "      <td>0.284303</td>\n",
              "    </tr>\n",
              "    <tr>\n",
              "      <th>4</th>\n",
              "      <td>00004b22eaeeeb0ec976890c1d9bfc14fd9427e98c4ee9...</td>\n",
              "      <td>0.702626</td>\n",
              "    </tr>\n",
              "    <tr>\n",
              "      <th>...</th>\n",
              "      <td>...</td>\n",
              "      <td>...</td>\n",
              "    </tr>\n",
              "    <tr>\n",
              "      <th>924616</th>\n",
              "      <td>ffff952c631f2c911b8a2a8ca56ea6e656309a83d2f64c...</td>\n",
              "      <td>0.133301</td>\n",
              "    </tr>\n",
              "    <tr>\n",
              "      <th>924617</th>\n",
              "      <td>ffffcf5df59e5e0bba2a5ac4578a34e2b5aa64a1546cd3...</td>\n",
              "      <td>0.682566</td>\n",
              "    </tr>\n",
              "    <tr>\n",
              "      <th>924618</th>\n",
              "      <td>ffffd61f098cc056dbd7d2a21380c4804bbfe60856f475...</td>\n",
              "      <td>0.455139</td>\n",
              "    </tr>\n",
              "    <tr>\n",
              "      <th>924619</th>\n",
              "      <td>ffffddef1fc3643ea179c93245b68dca0f36941cd83977...</td>\n",
              "      <td>0.321909</td>\n",
              "    </tr>\n",
              "    <tr>\n",
              "      <th>924620</th>\n",
              "      <td>fffffa7cf7e453e1acc6a1426475d5cb9400859f82ff61...</td>\n",
              "      <td>0.191652</td>\n",
              "    </tr>\n",
              "  </tbody>\n",
              "</table>\n",
              "<p>924621 rows × 2 columns</p>\n",
              "</div>\n",
              "      <button class=\"colab-df-convert\" onclick=\"convertToInteractive('df-cb4d12ac-fa24-4047-9c56-6b1531c6fe32')\"\n",
              "              title=\"Convert this dataframe to an interactive table.\"\n",
              "              style=\"display:none;\">\n",
              "        \n",
              "  <svg xmlns=\"http://www.w3.org/2000/svg\" height=\"24px\"viewBox=\"0 0 24 24\"\n",
              "       width=\"24px\">\n",
              "    <path d=\"M0 0h24v24H0V0z\" fill=\"none\"/>\n",
              "    <path d=\"M18.56 5.44l.94 2.06.94-2.06 2.06-.94-2.06-.94-.94-2.06-.94 2.06-2.06.94zm-11 1L8.5 8.5l.94-2.06 2.06-.94-2.06-.94L8.5 2.5l-.94 2.06-2.06.94zm10 10l.94 2.06.94-2.06 2.06-.94-2.06-.94-.94-2.06-.94 2.06-2.06.94z\"/><path d=\"M17.41 7.96l-1.37-1.37c-.4-.4-.92-.59-1.43-.59-.52 0-1.04.2-1.43.59L10.3 9.45l-7.72 7.72c-.78.78-.78 2.05 0 2.83L4 21.41c.39.39.9.59 1.41.59.51 0 1.02-.2 1.41-.59l7.78-7.78 2.81-2.81c.8-.78.8-2.07 0-2.86zM5.41 20L4 18.59l7.72-7.72 1.47 1.35L5.41 20z\"/>\n",
              "  </svg>\n",
              "      </button>\n",
              "      \n",
              "  <style>\n",
              "    .colab-df-container {\n",
              "      display:flex;\n",
              "      flex-wrap:wrap;\n",
              "      gap: 12px;\n",
              "    }\n",
              "\n",
              "    .colab-df-convert {\n",
              "      background-color: #E8F0FE;\n",
              "      border: none;\n",
              "      border-radius: 50%;\n",
              "      cursor: pointer;\n",
              "      display: none;\n",
              "      fill: #1967D2;\n",
              "      height: 32px;\n",
              "      padding: 0 0 0 0;\n",
              "      width: 32px;\n",
              "    }\n",
              "\n",
              "    .colab-df-convert:hover {\n",
              "      background-color: #E2EBFA;\n",
              "      box-shadow: 0px 1px 2px rgba(60, 64, 67, 0.3), 0px 1px 3px 1px rgba(60, 64, 67, 0.15);\n",
              "      fill: #174EA6;\n",
              "    }\n",
              "\n",
              "    [theme=dark] .colab-df-convert {\n",
              "      background-color: #3B4455;\n",
              "      fill: #D2E3FC;\n",
              "    }\n",
              "\n",
              "    [theme=dark] .colab-df-convert:hover {\n",
              "      background-color: #434B5C;\n",
              "      box-shadow: 0px 1px 3px 1px rgba(0, 0, 0, 0.15);\n",
              "      filter: drop-shadow(0px 1px 2px rgba(0, 0, 0, 0.3));\n",
              "      fill: #FFFFFF;\n",
              "    }\n",
              "  </style>\n",
              "\n",
              "      <script>\n",
              "        const buttonEl =\n",
              "          document.querySelector('#df-cb4d12ac-fa24-4047-9c56-6b1531c6fe32 button.colab-df-convert');\n",
              "        buttonEl.style.display =\n",
              "          google.colab.kernel.accessAllowed ? 'block' : 'none';\n",
              "\n",
              "        async function convertToInteractive(key) {\n",
              "          const element = document.querySelector('#df-cb4d12ac-fa24-4047-9c56-6b1531c6fe32');\n",
              "          const dataTable =\n",
              "            await google.colab.kernel.invokeFunction('convertToInteractive',\n",
              "                                                     [key], {});\n",
              "          if (!dataTable) return;\n",
              "\n",
              "          const docLinkHtml = 'Like what you see? Visit the ' +\n",
              "            '<a target=\"_blank\" href=https://colab.research.google.com/notebooks/data_table.ipynb>data table notebook</a>'\n",
              "            + ' to learn more about interactive tables.';\n",
              "          element.innerHTML = '';\n",
              "          dataTable['output_type'] = 'display_data';\n",
              "          await google.colab.output.renderOutput(dataTable, element);\n",
              "          const docLink = document.createElement('div');\n",
              "          docLink.innerHTML = docLinkHtml;\n",
              "          element.appendChild(docLink);\n",
              "        }\n",
              "      </script>\n",
              "    </div>\n",
              "  </div>\n",
              "  "
            ]
          },
          "metadata": {},
          "execution_count": 54
        }
      ]
    },
    {
      "cell_type": "code",
      "source": [
        "submission4_df.to_csv(os.path.join('/content/drive/MyDrive/Kaggle/exp/exp020/pred','sub_ensem4.csv'),index=False)"
      ],
      "metadata": {
        "id": "xxU6NAboPLJ8"
      },
      "execution_count": 56,
      "outputs": []
    },
    {
      "cell_type": "code",
      "source": [
        "dfs=[Pred_92,Pred_55,Pred_42,best_df,best_2df,best_3df]\n",
        "weights=[0.05,0.03,0.05,0.52,0.3,0.05]"
      ],
      "metadata": {
        "id": "ZLedyqc0PaUY"
      },
      "execution_count": 32,
      "outputs": []
    },
    {
      "cell_type": "code",
      "source": [
        "for df in dfs:\n",
        "  df['prediction']=df['prediction'].clip(0,1)"
      ],
      "metadata": {
        "id": "e571DZamj_E3"
      },
      "execution_count": 33,
      "outputs": []
    },
    {
      "cell_type": "code",
      "source": [
        "submission_df=pd.DataFrame()\n",
        "submission_df['customer_ID']=best_df['customer_ID']\n",
        "submission_df['prediction']=0\n",
        "for df,weight in zip(dfs,weights):\n",
        "  submission_df['prediction']+=df['prediction']*weight\n",
        "submission_df.to_csv('/content/drive/MyDrive/Kaggle/exp/exp020/pred/sub_ensem5.csv',index=False)"
      ],
      "metadata": {
        "id": "6-xjHUz_klxU"
      },
      "execution_count": 45,
      "outputs": []
    },
    {
      "cell_type": "code",
      "source": [
        "(submission_df['prediction']-best_df['prediction']).sum()"
      ],
      "metadata": {
        "colab": {
          "base_uri": "https://localhost:8080/"
        },
        "id": "XTfi3ouCmbno",
        "outputId": "ac409945-9cd0-459d-c59d-55c876e857f2"
      },
      "execution_count": 53,
      "outputs": [
        {
          "output_type": "execute_result",
          "data": {
            "text/plain": [
              "-4605.473214832023"
            ]
          },
          "metadata": {},
          "execution_count": 53
        }
      ]
    },
    {
      "cell_type": "code",
      "source": [
        "dfs=[Pred_92,Pred_55,Pred_42,best_df,best_2df,best_3df]\n",
        "weights=[0.04,0.03,0.05,0.45,0.4,0.03]"
      ],
      "metadata": {
        "id": "sUT1H9c5nulJ"
      },
      "execution_count": 54,
      "outputs": []
    },
    {
      "cell_type": "code",
      "source": [
        "submission_df=pd.DataFrame()\n",
        "submission_df['customer_ID']=best_df['customer_ID']\n",
        "submission_df['prediction']=0\n",
        "for df,weight in zip(dfs,weights):\n",
        "  submission_df['prediction']+=df['prediction']*weight\n",
        "submission_df.to_csv('/content/drive/MyDrive/Kaggle/exp/exp020/pred/sub_ensem6.csv',index=False)"
      ],
      "metadata": {
        "id": "g3nCtPpWrTrg"
      },
      "execution_count": 55,
      "outputs": []
    },
    {
      "cell_type": "code",
      "source": [
        "(submission_df['prediction']-best_df['prediction']).sum()"
      ],
      "metadata": {
        "colab": {
          "base_uri": "https://localhost:8080/"
        },
        "id": "SvRzto4ErXnX",
        "outputId": "4dd1fdbd-5bb8-4d65-fafb-155ac1902007"
      },
      "execution_count": 58,
      "outputs": [
        {
          "output_type": "execute_result",
          "data": {
            "text/plain": [
              "-2671.287710606431"
            ]
          },
          "metadata": {},
          "execution_count": 58
        }
      ]
    },
    {
      "cell_type": "code",
      "source": [
        "dfs=[Pred_92,Pred_55,Pred_42,best_df,best_2df,best_3df]\n",
        "weights=[0.05,0.05,0.05,0.7,0.1,0.05]"
      ],
      "metadata": {
        "id": "SONe8ikTrafC"
      },
      "execution_count": 60,
      "outputs": []
    },
    {
      "cell_type": "code",
      "source": [
        "submission_df=pd.DataFrame()\n",
        "submission_df['customer_ID']=best_df['customer_ID']\n",
        "submission_df['prediction']=0\n",
        "for df,weight in zip(dfs,weights):\n",
        "  submission_df['prediction']+=df['prediction']*weight\n",
        "submission_df.to_csv('/content/drive/MyDrive/Kaggle/exp/exp020/pred/sub_ensem7.csv',index=False)"
      ],
      "metadata": {
        "id": "Kw4aejwer1yj"
      },
      "execution_count": 65,
      "outputs": []
    },
    {
      "cell_type": "code",
      "source": [
        "submission_df"
      ],
      "metadata": {
        "colab": {
          "base_uri": "https://localhost:8080/",
          "height": 424
        },
        "id": "93DzzA2WsM1S",
        "outputId": "8124c288-1ea4-4201-a75d-745c85044067"
      },
      "execution_count": 66,
      "outputs": [
        {
          "output_type": "execute_result",
          "data": {
            "text/plain": [
              "                                              customer_ID  prediction\n",
              "0       00000469ba478561f23a92a868bd366de6f6527a684c9a...    0.170759\n",
              "1       00001bf2e77ff879fab36aa4fac689b9ba411dae63ae39...    0.043862\n",
              "2       0000210045da4f81e5f122c6bde5c2a617d03eef67f82c...    0.174911\n",
              "3       00003b41e58ede33b8daf61ab56d9952f17c9ad1c3976c...    0.299215\n",
              "4       00004b22eaeeeb0ec976890c1d9bfc14fd9427e98c4ee9...    0.715196\n",
              "...                                                   ...         ...\n",
              "924616  ffff952c631f2c911b8a2a8ca56ea6e656309a83d2f64c...    0.120995\n",
              "924617  ffffcf5df59e5e0bba2a5ac4578a34e2b5aa64a1546cd3...    0.697302\n",
              "924618  ffffd61f098cc056dbd7d2a21380c4804bbfe60856f475...    0.466064\n",
              "924619  ffffddef1fc3643ea179c93245b68dca0f36941cd83977...    0.338052\n",
              "924620  fffffa7cf7e453e1acc6a1426475d5cb9400859f82ff61...    0.204310\n",
              "\n",
              "[924621 rows x 2 columns]"
            ],
            "text/html": [
              "\n",
              "  <div id=\"df-e89fcbb6-a42f-41fb-9a96-eea7f76b5e9d\">\n",
              "    <div class=\"colab-df-container\">\n",
              "      <div>\n",
              "<style scoped>\n",
              "    .dataframe tbody tr th:only-of-type {\n",
              "        vertical-align: middle;\n",
              "    }\n",
              "\n",
              "    .dataframe tbody tr th {\n",
              "        vertical-align: top;\n",
              "    }\n",
              "\n",
              "    .dataframe thead th {\n",
              "        text-align: right;\n",
              "    }\n",
              "</style>\n",
              "<table border=\"1\" class=\"dataframe\">\n",
              "  <thead>\n",
              "    <tr style=\"text-align: right;\">\n",
              "      <th></th>\n",
              "      <th>customer_ID</th>\n",
              "      <th>prediction</th>\n",
              "    </tr>\n",
              "  </thead>\n",
              "  <tbody>\n",
              "    <tr>\n",
              "      <th>0</th>\n",
              "      <td>00000469ba478561f23a92a868bd366de6f6527a684c9a...</td>\n",
              "      <td>0.170759</td>\n",
              "    </tr>\n",
              "    <tr>\n",
              "      <th>1</th>\n",
              "      <td>00001bf2e77ff879fab36aa4fac689b9ba411dae63ae39...</td>\n",
              "      <td>0.043862</td>\n",
              "    </tr>\n",
              "    <tr>\n",
              "      <th>2</th>\n",
              "      <td>0000210045da4f81e5f122c6bde5c2a617d03eef67f82c...</td>\n",
              "      <td>0.174911</td>\n",
              "    </tr>\n",
              "    <tr>\n",
              "      <th>3</th>\n",
              "      <td>00003b41e58ede33b8daf61ab56d9952f17c9ad1c3976c...</td>\n",
              "      <td>0.299215</td>\n",
              "    </tr>\n",
              "    <tr>\n",
              "      <th>4</th>\n",
              "      <td>00004b22eaeeeb0ec976890c1d9bfc14fd9427e98c4ee9...</td>\n",
              "      <td>0.715196</td>\n",
              "    </tr>\n",
              "    <tr>\n",
              "      <th>...</th>\n",
              "      <td>...</td>\n",
              "      <td>...</td>\n",
              "    </tr>\n",
              "    <tr>\n",
              "      <th>924616</th>\n",
              "      <td>ffff952c631f2c911b8a2a8ca56ea6e656309a83d2f64c...</td>\n",
              "      <td>0.120995</td>\n",
              "    </tr>\n",
              "    <tr>\n",
              "      <th>924617</th>\n",
              "      <td>ffffcf5df59e5e0bba2a5ac4578a34e2b5aa64a1546cd3...</td>\n",
              "      <td>0.697302</td>\n",
              "    </tr>\n",
              "    <tr>\n",
              "      <th>924618</th>\n",
              "      <td>ffffd61f098cc056dbd7d2a21380c4804bbfe60856f475...</td>\n",
              "      <td>0.466064</td>\n",
              "    </tr>\n",
              "    <tr>\n",
              "      <th>924619</th>\n",
              "      <td>ffffddef1fc3643ea179c93245b68dca0f36941cd83977...</td>\n",
              "      <td>0.338052</td>\n",
              "    </tr>\n",
              "    <tr>\n",
              "      <th>924620</th>\n",
              "      <td>fffffa7cf7e453e1acc6a1426475d5cb9400859f82ff61...</td>\n",
              "      <td>0.204310</td>\n",
              "    </tr>\n",
              "  </tbody>\n",
              "</table>\n",
              "<p>924621 rows × 2 columns</p>\n",
              "</div>\n",
              "      <button class=\"colab-df-convert\" onclick=\"convertToInteractive('df-e89fcbb6-a42f-41fb-9a96-eea7f76b5e9d')\"\n",
              "              title=\"Convert this dataframe to an interactive table.\"\n",
              "              style=\"display:none;\">\n",
              "        \n",
              "  <svg xmlns=\"http://www.w3.org/2000/svg\" height=\"24px\"viewBox=\"0 0 24 24\"\n",
              "       width=\"24px\">\n",
              "    <path d=\"M0 0h24v24H0V0z\" fill=\"none\"/>\n",
              "    <path d=\"M18.56 5.44l.94 2.06.94-2.06 2.06-.94-2.06-.94-.94-2.06-.94 2.06-2.06.94zm-11 1L8.5 8.5l.94-2.06 2.06-.94-2.06-.94L8.5 2.5l-.94 2.06-2.06.94zm10 10l.94 2.06.94-2.06 2.06-.94-2.06-.94-.94-2.06-.94 2.06-2.06.94z\"/><path d=\"M17.41 7.96l-1.37-1.37c-.4-.4-.92-.59-1.43-.59-.52 0-1.04.2-1.43.59L10.3 9.45l-7.72 7.72c-.78.78-.78 2.05 0 2.83L4 21.41c.39.39.9.59 1.41.59.51 0 1.02-.2 1.41-.59l7.78-7.78 2.81-2.81c.8-.78.8-2.07 0-2.86zM5.41 20L4 18.59l7.72-7.72 1.47 1.35L5.41 20z\"/>\n",
              "  </svg>\n",
              "      </button>\n",
              "      \n",
              "  <style>\n",
              "    .colab-df-container {\n",
              "      display:flex;\n",
              "      flex-wrap:wrap;\n",
              "      gap: 12px;\n",
              "    }\n",
              "\n",
              "    .colab-df-convert {\n",
              "      background-color: #E8F0FE;\n",
              "      border: none;\n",
              "      border-radius: 50%;\n",
              "      cursor: pointer;\n",
              "      display: none;\n",
              "      fill: #1967D2;\n",
              "      height: 32px;\n",
              "      padding: 0 0 0 0;\n",
              "      width: 32px;\n",
              "    }\n",
              "\n",
              "    .colab-df-convert:hover {\n",
              "      background-color: #E2EBFA;\n",
              "      box-shadow: 0px 1px 2px rgba(60, 64, 67, 0.3), 0px 1px 3px 1px rgba(60, 64, 67, 0.15);\n",
              "      fill: #174EA6;\n",
              "    }\n",
              "\n",
              "    [theme=dark] .colab-df-convert {\n",
              "      background-color: #3B4455;\n",
              "      fill: #D2E3FC;\n",
              "    }\n",
              "\n",
              "    [theme=dark] .colab-df-convert:hover {\n",
              "      background-color: #434B5C;\n",
              "      box-shadow: 0px 1px 3px 1px rgba(0, 0, 0, 0.15);\n",
              "      filter: drop-shadow(0px 1px 2px rgba(0, 0, 0, 0.3));\n",
              "      fill: #FFFFFF;\n",
              "    }\n",
              "  </style>\n",
              "\n",
              "      <script>\n",
              "        const buttonEl =\n",
              "          document.querySelector('#df-e89fcbb6-a42f-41fb-9a96-eea7f76b5e9d button.colab-df-convert');\n",
              "        buttonEl.style.display =\n",
              "          google.colab.kernel.accessAllowed ? 'block' : 'none';\n",
              "\n",
              "        async function convertToInteractive(key) {\n",
              "          const element = document.querySelector('#df-e89fcbb6-a42f-41fb-9a96-eea7f76b5e9d');\n",
              "          const dataTable =\n",
              "            await google.colab.kernel.invokeFunction('convertToInteractive',\n",
              "                                                     [key], {});\n",
              "          if (!dataTable) return;\n",
              "\n",
              "          const docLinkHtml = 'Like what you see? Visit the ' +\n",
              "            '<a target=\"_blank\" href=https://colab.research.google.com/notebooks/data_table.ipynb>data table notebook</a>'\n",
              "            + ' to learn more about interactive tables.';\n",
              "          element.innerHTML = '';\n",
              "          dataTable['output_type'] = 'display_data';\n",
              "          await google.colab.output.renderOutput(dataTable, element);\n",
              "          const docLink = document.createElement('div');\n",
              "          docLink.innerHTML = docLinkHtml;\n",
              "          element.appendChild(docLink);\n",
              "        }\n",
              "      </script>\n",
              "    </div>\n",
              "  </div>\n",
              "  "
            ]
          },
          "metadata": {},
          "execution_count": 66
        }
      ]
    },
    {
      "cell_type": "code",
      "source": [
        "(submission_df['prediction']-best_df['prediction']).sum()"
      ],
      "metadata": {
        "colab": {
          "base_uri": "https://localhost:8080/"
        },
        "id": "iLGmeK17sPUV",
        "outputId": "6ceebf72-3328-457b-8310-8541d0c73537"
      },
      "execution_count": 68,
      "outputs": [
        {
          "output_type": "execute_result",
          "data": {
            "text/plain": [
              "-7017.770822593451"
            ]
          },
          "metadata": {},
          "execution_count": 68
        }
      ]
    },
    {
      "cell_type": "code",
      "source": [
        ""
      ],
      "metadata": {
        "id": "D3z6znfDsVyH"
      },
      "execution_count": null,
      "outputs": []
    }
  ]
}