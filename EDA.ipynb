{
  "nbformat": 4,
  "nbformat_minor": 0,
  "metadata": {
    "colab": {
      "name": "EDA.ipynb",
      "provenance": [],
      "collapsed_sections": [],
      "machine_shape": "hm",
      "mount_file_id": "1SOuUS5Jh2MsdTAIfzj5ndI1WU6QxE4LL",
      "authorship_tag": "ABX9TyN/sGObD+oqUL8z+cUwZ7cJ",
      "include_colab_link": true
    },
    "kernelspec": {
      "name": "python3",
      "display_name": "Python 3"
    },
    "language_info": {
      "name": "python"
    },
    "gpuClass": "standard",
    "accelerator": "GPU"
  },
  "cells": [
    {
      "cell_type": "markdown",
      "metadata": {
        "id": "view-in-github",
        "colab_type": "text"
      },
      "source": [
        "<a href=\"https://colab.research.google.com/github/DONDAJIN/Kaggle_amex/blob/master/EDA.ipynb\" target=\"_parent\"><img src=\"https://colab.research.google.com/assets/colab-badge.svg\" alt=\"Open In Colab\"/></a>"
      ]
    },
    {
      "cell_type": "code",
      "execution_count": 2,
      "metadata": {
        "colab": {
          "base_uri": "https://localhost:8080/"
        },
        "id": "I3zD2uZiemh4",
        "outputId": "08aec0af-a1ff-402f-dd76-55bacce8fa79"
      },
      "outputs": [
        {
          "output_type": "stream",
          "name": "stdout",
          "text": [
            "Drive already mounted at /content/drive; to attempt to forcibly remount, call drive.mount(\"/content/drive\", force_remount=True).\n"
          ]
        }
      ],
      "source": [
        "from google.colab import drive\n",
        "drive.mount('/content/drive')"
      ]
    },
    {
      "cell_type": "code",
      "source": [
        "import cupy\n",
        "import pandas as pd\n",
        "from sklearn.model_selection import KFold\n",
        "from sklearn.metrics import roc_auc_score\n",
        "import numpy as np\n",
        "from tqdm import tqdm\n",
        "import seaborn as sns\n",
        "import matplotlib.pyplot as plt\n",
        "from sklearn.model_selection import train_test_split\n",
        "import gc\n",
        "import warnings\n",
        "warnings.simplefilter('ignore')\n",
        "import os"
      ],
      "metadata": {
        "id": "ahrdM8MWjVJ1"
      },
      "execution_count": 3,
      "outputs": []
    },
    {
      "cell_type": "code",
      "source": [
        "DIR='/content/drive/MyDrive'\n",
        "Kaggle=os.path.join(DIR,'Kaggle')\n",
        "os.makedirs(Kaggle, exist_ok=True)"
      ],
      "metadata": {
        "id": "uHaj4GeWgPX9"
      },
      "execution_count": 5,
      "outputs": []
    },
    {
      "cell_type": "code",
      "source": [
        "INPUT=os.path.join(Kaggle,'Input')\n",
        "OUTPUT=os.path.join(Kaggle,'Output')\n",
        "os.makedirs(INPUT,exist_ok=True)\n",
        "os.makedirs(OUTPUT,exist_ok=True)"
      ],
      "metadata": {
        "id": "a96w8quOgw9_"
      },
      "execution_count": 6,
      "outputs": []
    },
    {
      "cell_type": "code",
      "source": [
        "train_df=pd.read_parquet(os.path.join(INPUT,'train.parquet'))#ランタイムの設定をハイメモリにして読み込む\n",
        "test_df=pd.read_parquet(os.path.join(INPUT,'test.parquet'))"
      ],
      "metadata": {
        "id": "QTTHq7CUj7B1"
      },
      "execution_count": 7,
      "outputs": []
    },
    {
      "cell_type": "code",
      "source": [
        "train_df.head()"
      ],
      "metadata": {
        "colab": {
          "base_uri": "https://localhost:8080/",
          "height": 386
        },
        "id": "0Jrk1Crukk2q",
        "outputId": "dedf47cd-517b-487f-afec-3d02278d7018"
      },
      "execution_count": null,
      "outputs": [
        {
          "output_type": "execute_result",
          "data": {
            "text/plain": [
              "                                         customer_ID         S_2       P_2  \\\n",
              "0  0000099d6bd597052cdcda90ffabf56573fe9d7c79be5f...  2017-03-09  0.938469   \n",
              "1  0000099d6bd597052cdcda90ffabf56573fe9d7c79be5f...  2017-04-07  0.936665   \n",
              "2  0000099d6bd597052cdcda90ffabf56573fe9d7c79be5f...  2017-05-28  0.954180   \n",
              "3  0000099d6bd597052cdcda90ffabf56573fe9d7c79be5f...  2017-06-13  0.960384   \n",
              "4  0000099d6bd597052cdcda90ffabf56573fe9d7c79be5f...  2017-07-16  0.947248   \n",
              "\n",
              "   D_39       B_1       B_2       R_1       S_3  D_41       B_3  ...  D_136  \\\n",
              "0     0  0.008724  1.006838  0.009228  0.124035   0.0  0.004709  ...     -1   \n",
              "1     0  0.004923  1.000653  0.006151  0.126750   0.0  0.002714  ...     -1   \n",
              "2     3  0.021655  1.009672  0.006815  0.123977   0.0  0.009423  ...     -1   \n",
              "3     0  0.013683  1.002700  0.001373  0.117169   0.0  0.005531  ...     -1   \n",
              "4     0  0.015193  1.000727  0.007605  0.117325   0.0  0.009312  ...     -1   \n",
              "\n",
              "   D_137  D_138  D_139  D_140  D_141  D_142  D_143     D_144  D_145  \n",
              "0     -1     -1      0      0    0.0    NaN      0  0.000610      0  \n",
              "1     -1     -1      0      0    0.0    NaN      0  0.005492      0  \n",
              "2     -1     -1      0      0    0.0    NaN      0  0.006986      0  \n",
              "3     -1     -1      0      0    0.0    NaN      0  0.006527      0  \n",
              "4     -1     -1      0      0    0.0    NaN      0  0.008126      0  \n",
              "\n",
              "[5 rows x 190 columns]"
            ],
            "text/html": [
              "\n",
              "  <div id=\"df-4097f731-e161-4c25-a840-707cff60d693\">\n",
              "    <div class=\"colab-df-container\">\n",
              "      <div>\n",
              "<style scoped>\n",
              "    .dataframe tbody tr th:only-of-type {\n",
              "        vertical-align: middle;\n",
              "    }\n",
              "\n",
              "    .dataframe tbody tr th {\n",
              "        vertical-align: top;\n",
              "    }\n",
              "\n",
              "    .dataframe thead th {\n",
              "        text-align: right;\n",
              "    }\n",
              "</style>\n",
              "<table border=\"1\" class=\"dataframe\">\n",
              "  <thead>\n",
              "    <tr style=\"text-align: right;\">\n",
              "      <th></th>\n",
              "      <th>customer_ID</th>\n",
              "      <th>S_2</th>\n",
              "      <th>P_2</th>\n",
              "      <th>D_39</th>\n",
              "      <th>B_1</th>\n",
              "      <th>B_2</th>\n",
              "      <th>R_1</th>\n",
              "      <th>S_3</th>\n",
              "      <th>D_41</th>\n",
              "      <th>B_3</th>\n",
              "      <th>...</th>\n",
              "      <th>D_136</th>\n",
              "      <th>D_137</th>\n",
              "      <th>D_138</th>\n",
              "      <th>D_139</th>\n",
              "      <th>D_140</th>\n",
              "      <th>D_141</th>\n",
              "      <th>D_142</th>\n",
              "      <th>D_143</th>\n",
              "      <th>D_144</th>\n",
              "      <th>D_145</th>\n",
              "    </tr>\n",
              "  </thead>\n",
              "  <tbody>\n",
              "    <tr>\n",
              "      <th>0</th>\n",
              "      <td>0000099d6bd597052cdcda90ffabf56573fe9d7c79be5f...</td>\n",
              "      <td>2017-03-09</td>\n",
              "      <td>0.938469</td>\n",
              "      <td>0</td>\n",
              "      <td>0.008724</td>\n",
              "      <td>1.006838</td>\n",
              "      <td>0.009228</td>\n",
              "      <td>0.124035</td>\n",
              "      <td>0.0</td>\n",
              "      <td>0.004709</td>\n",
              "      <td>...</td>\n",
              "      <td>-1</td>\n",
              "      <td>-1</td>\n",
              "      <td>-1</td>\n",
              "      <td>0</td>\n",
              "      <td>0</td>\n",
              "      <td>0.0</td>\n",
              "      <td>NaN</td>\n",
              "      <td>0</td>\n",
              "      <td>0.000610</td>\n",
              "      <td>0</td>\n",
              "    </tr>\n",
              "    <tr>\n",
              "      <th>1</th>\n",
              "      <td>0000099d6bd597052cdcda90ffabf56573fe9d7c79be5f...</td>\n",
              "      <td>2017-04-07</td>\n",
              "      <td>0.936665</td>\n",
              "      <td>0</td>\n",
              "      <td>0.004923</td>\n",
              "      <td>1.000653</td>\n",
              "      <td>0.006151</td>\n",
              "      <td>0.126750</td>\n",
              "      <td>0.0</td>\n",
              "      <td>0.002714</td>\n",
              "      <td>...</td>\n",
              "      <td>-1</td>\n",
              "      <td>-1</td>\n",
              "      <td>-1</td>\n",
              "      <td>0</td>\n",
              "      <td>0</td>\n",
              "      <td>0.0</td>\n",
              "      <td>NaN</td>\n",
              "      <td>0</td>\n",
              "      <td>0.005492</td>\n",
              "      <td>0</td>\n",
              "    </tr>\n",
              "    <tr>\n",
              "      <th>2</th>\n",
              "      <td>0000099d6bd597052cdcda90ffabf56573fe9d7c79be5f...</td>\n",
              "      <td>2017-05-28</td>\n",
              "      <td>0.954180</td>\n",
              "      <td>3</td>\n",
              "      <td>0.021655</td>\n",
              "      <td>1.009672</td>\n",
              "      <td>0.006815</td>\n",
              "      <td>0.123977</td>\n",
              "      <td>0.0</td>\n",
              "      <td>0.009423</td>\n",
              "      <td>...</td>\n",
              "      <td>-1</td>\n",
              "      <td>-1</td>\n",
              "      <td>-1</td>\n",
              "      <td>0</td>\n",
              "      <td>0</td>\n",
              "      <td>0.0</td>\n",
              "      <td>NaN</td>\n",
              "      <td>0</td>\n",
              "      <td>0.006986</td>\n",
              "      <td>0</td>\n",
              "    </tr>\n",
              "    <tr>\n",
              "      <th>3</th>\n",
              "      <td>0000099d6bd597052cdcda90ffabf56573fe9d7c79be5f...</td>\n",
              "      <td>2017-06-13</td>\n",
              "      <td>0.960384</td>\n",
              "      <td>0</td>\n",
              "      <td>0.013683</td>\n",
              "      <td>1.002700</td>\n",
              "      <td>0.001373</td>\n",
              "      <td>0.117169</td>\n",
              "      <td>0.0</td>\n",
              "      <td>0.005531</td>\n",
              "      <td>...</td>\n",
              "      <td>-1</td>\n",
              "      <td>-1</td>\n",
              "      <td>-1</td>\n",
              "      <td>0</td>\n",
              "      <td>0</td>\n",
              "      <td>0.0</td>\n",
              "      <td>NaN</td>\n",
              "      <td>0</td>\n",
              "      <td>0.006527</td>\n",
              "      <td>0</td>\n",
              "    </tr>\n",
              "    <tr>\n",
              "      <th>4</th>\n",
              "      <td>0000099d6bd597052cdcda90ffabf56573fe9d7c79be5f...</td>\n",
              "      <td>2017-07-16</td>\n",
              "      <td>0.947248</td>\n",
              "      <td>0</td>\n",
              "      <td>0.015193</td>\n",
              "      <td>1.000727</td>\n",
              "      <td>0.007605</td>\n",
              "      <td>0.117325</td>\n",
              "      <td>0.0</td>\n",
              "      <td>0.009312</td>\n",
              "      <td>...</td>\n",
              "      <td>-1</td>\n",
              "      <td>-1</td>\n",
              "      <td>-1</td>\n",
              "      <td>0</td>\n",
              "      <td>0</td>\n",
              "      <td>0.0</td>\n",
              "      <td>NaN</td>\n",
              "      <td>0</td>\n",
              "      <td>0.008126</td>\n",
              "      <td>0</td>\n",
              "    </tr>\n",
              "  </tbody>\n",
              "</table>\n",
              "<p>5 rows × 190 columns</p>\n",
              "</div>\n",
              "      <button class=\"colab-df-convert\" onclick=\"convertToInteractive('df-4097f731-e161-4c25-a840-707cff60d693')\"\n",
              "              title=\"Convert this dataframe to an interactive table.\"\n",
              "              style=\"display:none;\">\n",
              "        \n",
              "  <svg xmlns=\"http://www.w3.org/2000/svg\" height=\"24px\"viewBox=\"0 0 24 24\"\n",
              "       width=\"24px\">\n",
              "    <path d=\"M0 0h24v24H0V0z\" fill=\"none\"/>\n",
              "    <path d=\"M18.56 5.44l.94 2.06.94-2.06 2.06-.94-2.06-.94-.94-2.06-.94 2.06-2.06.94zm-11 1L8.5 8.5l.94-2.06 2.06-.94-2.06-.94L8.5 2.5l-.94 2.06-2.06.94zm10 10l.94 2.06.94-2.06 2.06-.94-2.06-.94-.94-2.06-.94 2.06-2.06.94z\"/><path d=\"M17.41 7.96l-1.37-1.37c-.4-.4-.92-.59-1.43-.59-.52 0-1.04.2-1.43.59L10.3 9.45l-7.72 7.72c-.78.78-.78 2.05 0 2.83L4 21.41c.39.39.9.59 1.41.59.51 0 1.02-.2 1.41-.59l7.78-7.78 2.81-2.81c.8-.78.8-2.07 0-2.86zM5.41 20L4 18.59l7.72-7.72 1.47 1.35L5.41 20z\"/>\n",
              "  </svg>\n",
              "      </button>\n",
              "      \n",
              "  <style>\n",
              "    .colab-df-container {\n",
              "      display:flex;\n",
              "      flex-wrap:wrap;\n",
              "      gap: 12px;\n",
              "    }\n",
              "\n",
              "    .colab-df-convert {\n",
              "      background-color: #E8F0FE;\n",
              "      border: none;\n",
              "      border-radius: 50%;\n",
              "      cursor: pointer;\n",
              "      display: none;\n",
              "      fill: #1967D2;\n",
              "      height: 32px;\n",
              "      padding: 0 0 0 0;\n",
              "      width: 32px;\n",
              "    }\n",
              "\n",
              "    .colab-df-convert:hover {\n",
              "      background-color: #E2EBFA;\n",
              "      box-shadow: 0px 1px 2px rgba(60, 64, 67, 0.3), 0px 1px 3px 1px rgba(60, 64, 67, 0.15);\n",
              "      fill: #174EA6;\n",
              "    }\n",
              "\n",
              "    [theme=dark] .colab-df-convert {\n",
              "      background-color: #3B4455;\n",
              "      fill: #D2E3FC;\n",
              "    }\n",
              "\n",
              "    [theme=dark] .colab-df-convert:hover {\n",
              "      background-color: #434B5C;\n",
              "      box-shadow: 0px 1px 3px 1px rgba(0, 0, 0, 0.15);\n",
              "      filter: drop-shadow(0px 1px 2px rgba(0, 0, 0, 0.3));\n",
              "      fill: #FFFFFF;\n",
              "    }\n",
              "  </style>\n",
              "\n",
              "      <script>\n",
              "        const buttonEl =\n",
              "          document.querySelector('#df-4097f731-e161-4c25-a840-707cff60d693 button.colab-df-convert');\n",
              "        buttonEl.style.display =\n",
              "          google.colab.kernel.accessAllowed ? 'block' : 'none';\n",
              "\n",
              "        async function convertToInteractive(key) {\n",
              "          const element = document.querySelector('#df-4097f731-e161-4c25-a840-707cff60d693');\n",
              "          const dataTable =\n",
              "            await google.colab.kernel.invokeFunction('convertToInteractive',\n",
              "                                                     [key], {});\n",
              "          if (!dataTable) return;\n",
              "\n",
              "          const docLinkHtml = 'Like what you see? Visit the ' +\n",
              "            '<a target=\"_blank\" href=https://colab.research.google.com/notebooks/data_table.ipynb>data table notebook</a>'\n",
              "            + ' to learn more about interactive tables.';\n",
              "          element.innerHTML = '';\n",
              "          dataTable['output_type'] = 'display_data';\n",
              "          await google.colab.output.renderOutput(dataTable, element);\n",
              "          const docLink = document.createElement('div');\n",
              "          docLink.innerHTML = docLinkHtml;\n",
              "          element.appendChild(docLink);\n",
              "        }\n",
              "      </script>\n",
              "    </div>\n",
              "  </div>\n",
              "  "
            ]
          },
          "metadata": {},
          "execution_count": 11
        }
      ]
    },
    {
      "cell_type": "code",
      "source": [
        "train_df.columns"
      ],
      "metadata": {
        "colab": {
          "base_uri": "https://localhost:8080/"
        },
        "id": "jlQcPVRYzA-O",
        "outputId": "e2797854-44cd-4873-fb89-044174034035"
      },
      "execution_count": 8,
      "outputs": [
        {
          "output_type": "execute_result",
          "data": {
            "text/plain": [
              "Index(['customer_ID', 'S_2', 'P_2', 'D_39', 'B_1', 'B_2', 'R_1', 'S_3', 'D_41',\n",
              "       'B_3',\n",
              "       ...\n",
              "       'D_136', 'D_137', 'D_138', 'D_139', 'D_140', 'D_141', 'D_142', 'D_143',\n",
              "       'D_144', 'D_145'],\n",
              "      dtype='object', length=190)"
            ]
          },
          "metadata": {},
          "execution_count": 8
        }
      ]
    },
    {
      "cell_type": "code",
      "source": [
        "#!cp \"/content/drive/My Drive/train_labels.csv.zip\" ."
      ],
      "metadata": {
        "id": "dgZqhuX300Y0"
      },
      "execution_count": null,
      "outputs": []
    },
    {
      "cell_type": "code",
      "source": [
        "#!unzip train_labels.csv.zip"
      ],
      "metadata": {
        "colab": {
          "base_uri": "https://localhost:8080/"
        },
        "id": "clDA_-vD09DT",
        "outputId": "fd37f743-c5e2-46c5-fb25-7a5d9fbeb225"
      },
      "execution_count": null,
      "outputs": [
        {
          "output_type": "stream",
          "name": "stdout",
          "text": [
            "Archive:  train_labels.csv.zip\n",
            "  inflating: train_labels.csv        \n"
          ]
        }
      ]
    },
    {
      "cell_type": "code",
      "source": [
        "y=pd.read_csv(os.path.join(INPUT,'train_labels.csv'))"
      ],
      "metadata": {
        "id": "hzhAkO-xzCfH"
      },
      "execution_count": 9,
      "outputs": []
    },
    {
      "cell_type": "code",
      "source": [
        "train_df.columns[train_df.dtypes=='O']"
      ],
      "metadata": {
        "colab": {
          "base_uri": "https://localhost:8080/"
        },
        "id": "givGDumz1Vxg",
        "outputId": "727310a9-b330-425d-ed2d-12e1a39f4492"
      },
      "execution_count": 10,
      "outputs": [
        {
          "output_type": "execute_result",
          "data": {
            "text/plain": [
              "Index(['customer_ID', 'S_2'], dtype='object')"
            ]
          },
          "metadata": {},
          "execution_count": 10
        }
      ]
    },
    {
      "cell_type": "code",
      "source": [
        "cat_col=['B_30', 'B_38', 'D_114', 'D_116', 'D_117', 'D_120', 'D_126', 'D_63', 'D_64', 'D_66', 'D_68']"
      ],
      "metadata": {
        "id": "nP-BFbu90MBf"
      },
      "execution_count": null,
      "outputs": []
    },
    {
      "cell_type": "code",
      "source": [
        "train_df['D_87'].value_counts()"
      ],
      "metadata": {
        "colab": {
          "base_uri": "https://localhost:8080/"
        },
        "id": "YGQFoDyq1NUN",
        "outputId": "87ba1254-9645-4c16-922f-0bfb1db057ae"
      },
      "execution_count": null,
      "outputs": [
        {
          "output_type": "execute_result",
          "data": {
            "text/plain": [
              "-1    5527586\n",
              " 1       3865\n",
              "Name: D_87, dtype: int64"
            ]
          },
          "metadata": {},
          "execution_count": 36
        }
      ]
    },
    {
      "cell_type": "markdown",
      "source": [
        "匿名化された特徴量が扱いにくすぎる…\n",
        "\n",
        "カテゴリ変数と定義されたものがあるのでそれをうまく使うのが鍵か？\n",
        "\n",
        "CatboostとLGBMは少なくとも試したい\n",
        "それでfeature_importancesを見ていく感じ\n",
        "\n",
        "\n"
      ],
      "metadata": {
        "id": "cGe6N9wlBobi"
      }
    },
    {
      "cell_type": "code",
      "source": [
        "y.isna().any().sum(),y['customer_ID'].duplicated().any()"
      ],
      "metadata": {
        "id": "7DzGiwHoDXc2",
        "colab": {
          "base_uri": "https://localhost:8080/"
        },
        "outputId": "57e051ee-f67d-47ee-e541-3c2eaaf9d7fb"
      },
      "execution_count": 20,
      "outputs": [
        {
          "output_type": "execute_result",
          "data": {
            "text/plain": [
              "(0, False)"
            ]
          },
          "metadata": {},
          "execution_count": 20
        }
      ]
    },
    {
      "cell_type": "code",
      "source": [
        "y.head()"
      ],
      "metadata": {
        "colab": {
          "base_uri": "https://localhost:8080/",
          "height": 206
        },
        "id": "iQIMevAjAIPH",
        "outputId": "44393d69-686c-4416-a267-60adfcc034fd"
      },
      "execution_count": 21,
      "outputs": [
        {
          "output_type": "execute_result",
          "data": {
            "text/plain": [
              "                                         customer_ID  target\n",
              "0  0000099d6bd597052cdcda90ffabf56573fe9d7c79be5f...       0\n",
              "1  00000fd6641609c6ece5454664794f0340ad84dddce9a2...       0\n",
              "2  00001b22f846c82c51f6e3958ccd81970162bae8b007e8...       0\n",
              "3  000041bdba6ecadd89a52d11886e8eaaec9325906c9723...       0\n",
              "4  00007889e4fcd2614b6cbe7f8f3d2e5c728eca32d9eb8a...       0"
            ],
            "text/html": [
              "\n",
              "  <div id=\"df-75308c8c-1055-4c2b-b084-918aeae5b358\">\n",
              "    <div class=\"colab-df-container\">\n",
              "      <div>\n",
              "<style scoped>\n",
              "    .dataframe tbody tr th:only-of-type {\n",
              "        vertical-align: middle;\n",
              "    }\n",
              "\n",
              "    .dataframe tbody tr th {\n",
              "        vertical-align: top;\n",
              "    }\n",
              "\n",
              "    .dataframe thead th {\n",
              "        text-align: right;\n",
              "    }\n",
              "</style>\n",
              "<table border=\"1\" class=\"dataframe\">\n",
              "  <thead>\n",
              "    <tr style=\"text-align: right;\">\n",
              "      <th></th>\n",
              "      <th>customer_ID</th>\n",
              "      <th>target</th>\n",
              "    </tr>\n",
              "  </thead>\n",
              "  <tbody>\n",
              "    <tr>\n",
              "      <th>0</th>\n",
              "      <td>0000099d6bd597052cdcda90ffabf56573fe9d7c79be5f...</td>\n",
              "      <td>0</td>\n",
              "    </tr>\n",
              "    <tr>\n",
              "      <th>1</th>\n",
              "      <td>00000fd6641609c6ece5454664794f0340ad84dddce9a2...</td>\n",
              "      <td>0</td>\n",
              "    </tr>\n",
              "    <tr>\n",
              "      <th>2</th>\n",
              "      <td>00001b22f846c82c51f6e3958ccd81970162bae8b007e8...</td>\n",
              "      <td>0</td>\n",
              "    </tr>\n",
              "    <tr>\n",
              "      <th>3</th>\n",
              "      <td>000041bdba6ecadd89a52d11886e8eaaec9325906c9723...</td>\n",
              "      <td>0</td>\n",
              "    </tr>\n",
              "    <tr>\n",
              "      <th>4</th>\n",
              "      <td>00007889e4fcd2614b6cbe7f8f3d2e5c728eca32d9eb8a...</td>\n",
              "      <td>0</td>\n",
              "    </tr>\n",
              "  </tbody>\n",
              "</table>\n",
              "</div>\n",
              "      <button class=\"colab-df-convert\" onclick=\"convertToInteractive('df-75308c8c-1055-4c2b-b084-918aeae5b358')\"\n",
              "              title=\"Convert this dataframe to an interactive table.\"\n",
              "              style=\"display:none;\">\n",
              "        \n",
              "  <svg xmlns=\"http://www.w3.org/2000/svg\" height=\"24px\"viewBox=\"0 0 24 24\"\n",
              "       width=\"24px\">\n",
              "    <path d=\"M0 0h24v24H0V0z\" fill=\"none\"/>\n",
              "    <path d=\"M18.56 5.44l.94 2.06.94-2.06 2.06-.94-2.06-.94-.94-2.06-.94 2.06-2.06.94zm-11 1L8.5 8.5l.94-2.06 2.06-.94-2.06-.94L8.5 2.5l-.94 2.06-2.06.94zm10 10l.94 2.06.94-2.06 2.06-.94-2.06-.94-.94-2.06-.94 2.06-2.06.94z\"/><path d=\"M17.41 7.96l-1.37-1.37c-.4-.4-.92-.59-1.43-.59-.52 0-1.04.2-1.43.59L10.3 9.45l-7.72 7.72c-.78.78-.78 2.05 0 2.83L4 21.41c.39.39.9.59 1.41.59.51 0 1.02-.2 1.41-.59l7.78-7.78 2.81-2.81c.8-.78.8-2.07 0-2.86zM5.41 20L4 18.59l7.72-7.72 1.47 1.35L5.41 20z\"/>\n",
              "  </svg>\n",
              "      </button>\n",
              "      \n",
              "  <style>\n",
              "    .colab-df-container {\n",
              "      display:flex;\n",
              "      flex-wrap:wrap;\n",
              "      gap: 12px;\n",
              "    }\n",
              "\n",
              "    .colab-df-convert {\n",
              "      background-color: #E8F0FE;\n",
              "      border: none;\n",
              "      border-radius: 50%;\n",
              "      cursor: pointer;\n",
              "      display: none;\n",
              "      fill: #1967D2;\n",
              "      height: 32px;\n",
              "      padding: 0 0 0 0;\n",
              "      width: 32px;\n",
              "    }\n",
              "\n",
              "    .colab-df-convert:hover {\n",
              "      background-color: #E2EBFA;\n",
              "      box-shadow: 0px 1px 2px rgba(60, 64, 67, 0.3), 0px 1px 3px 1px rgba(60, 64, 67, 0.15);\n",
              "      fill: #174EA6;\n",
              "    }\n",
              "\n",
              "    [theme=dark] .colab-df-convert {\n",
              "      background-color: #3B4455;\n",
              "      fill: #D2E3FC;\n",
              "    }\n",
              "\n",
              "    [theme=dark] .colab-df-convert:hover {\n",
              "      background-color: #434B5C;\n",
              "      box-shadow: 0px 1px 3px 1px rgba(0, 0, 0, 0.15);\n",
              "      filter: drop-shadow(0px 1px 2px rgba(0, 0, 0, 0.3));\n",
              "      fill: #FFFFFF;\n",
              "    }\n",
              "  </style>\n",
              "\n",
              "      <script>\n",
              "        const buttonEl =\n",
              "          document.querySelector('#df-75308c8c-1055-4c2b-b084-918aeae5b358 button.colab-df-convert');\n",
              "        buttonEl.style.display =\n",
              "          google.colab.kernel.accessAllowed ? 'block' : 'none';\n",
              "\n",
              "        async function convertToInteractive(key) {\n",
              "          const element = document.querySelector('#df-75308c8c-1055-4c2b-b084-918aeae5b358');\n",
              "          const dataTable =\n",
              "            await google.colab.kernel.invokeFunction('convertToInteractive',\n",
              "                                                     [key], {});\n",
              "          if (!dataTable) return;\n",
              "\n",
              "          const docLinkHtml = 'Like what you see? Visit the ' +\n",
              "            '<a target=\"_blank\" href=https://colab.research.google.com/notebooks/data_table.ipynb>data table notebook</a>'\n",
              "            + ' to learn more about interactive tables.';\n",
              "          element.innerHTML = '';\n",
              "          dataTable['output_type'] = 'display_data';\n",
              "          await google.colab.output.renderOutput(dataTable, element);\n",
              "          const docLink = document.createElement('div');\n",
              "          docLink.innerHTML = docLinkHtml;\n",
              "          element.appendChild(docLink);\n",
              "        }\n",
              "      </script>\n",
              "    </div>\n",
              "  </div>\n",
              "  "
            ]
          },
          "metadata": {},
          "execution_count": 21
        }
      ]
    },
    {
      "cell_type": "code",
      "source": [
        "label_stats=pd.DataFrame({'absolute':y['target'].value_counts(),\n",
        "                          'relative':y['target'].value_counts()/len(y['target'])})\n",
        "label_stats"
      ],
      "metadata": {
        "colab": {
          "base_uri": "https://localhost:8080/",
          "height": 112
        },
        "id": "Qj5JKsNcBelX",
        "outputId": "ec0f785a-bbbd-400a-bee1-d8afe45ad14e"
      },
      "execution_count": 22,
      "outputs": [
        {
          "output_type": "execute_result",
          "data": {
            "text/plain": [
              "   absolute  relative\n",
              "0    340085  0.741066\n",
              "1    118828  0.258934"
            ],
            "text/html": [
              "\n",
              "  <div id=\"df-466eb66f-3cff-4d93-bb71-3183e0067dd1\">\n",
              "    <div class=\"colab-df-container\">\n",
              "      <div>\n",
              "<style scoped>\n",
              "    .dataframe tbody tr th:only-of-type {\n",
              "        vertical-align: middle;\n",
              "    }\n",
              "\n",
              "    .dataframe tbody tr th {\n",
              "        vertical-align: top;\n",
              "    }\n",
              "\n",
              "    .dataframe thead th {\n",
              "        text-align: right;\n",
              "    }\n",
              "</style>\n",
              "<table border=\"1\" class=\"dataframe\">\n",
              "  <thead>\n",
              "    <tr style=\"text-align: right;\">\n",
              "      <th></th>\n",
              "      <th>absolute</th>\n",
              "      <th>relative</th>\n",
              "    </tr>\n",
              "  </thead>\n",
              "  <tbody>\n",
              "    <tr>\n",
              "      <th>0</th>\n",
              "      <td>340085</td>\n",
              "      <td>0.741066</td>\n",
              "    </tr>\n",
              "    <tr>\n",
              "      <th>1</th>\n",
              "      <td>118828</td>\n",
              "      <td>0.258934</td>\n",
              "    </tr>\n",
              "  </tbody>\n",
              "</table>\n",
              "</div>\n",
              "      <button class=\"colab-df-convert\" onclick=\"convertToInteractive('df-466eb66f-3cff-4d93-bb71-3183e0067dd1')\"\n",
              "              title=\"Convert this dataframe to an interactive table.\"\n",
              "              style=\"display:none;\">\n",
              "        \n",
              "  <svg xmlns=\"http://www.w3.org/2000/svg\" height=\"24px\"viewBox=\"0 0 24 24\"\n",
              "       width=\"24px\">\n",
              "    <path d=\"M0 0h24v24H0V0z\" fill=\"none\"/>\n",
              "    <path d=\"M18.56 5.44l.94 2.06.94-2.06 2.06-.94-2.06-.94-.94-2.06-.94 2.06-2.06.94zm-11 1L8.5 8.5l.94-2.06 2.06-.94-2.06-.94L8.5 2.5l-.94 2.06-2.06.94zm10 10l.94 2.06.94-2.06 2.06-.94-2.06-.94-.94-2.06-.94 2.06-2.06.94z\"/><path d=\"M17.41 7.96l-1.37-1.37c-.4-.4-.92-.59-1.43-.59-.52 0-1.04.2-1.43.59L10.3 9.45l-7.72 7.72c-.78.78-.78 2.05 0 2.83L4 21.41c.39.39.9.59 1.41.59.51 0 1.02-.2 1.41-.59l7.78-7.78 2.81-2.81c.8-.78.8-2.07 0-2.86zM5.41 20L4 18.59l7.72-7.72 1.47 1.35L5.41 20z\"/>\n",
              "  </svg>\n",
              "      </button>\n",
              "      \n",
              "  <style>\n",
              "    .colab-df-container {\n",
              "      display:flex;\n",
              "      flex-wrap:wrap;\n",
              "      gap: 12px;\n",
              "    }\n",
              "\n",
              "    .colab-df-convert {\n",
              "      background-color: #E8F0FE;\n",
              "      border: none;\n",
              "      border-radius: 50%;\n",
              "      cursor: pointer;\n",
              "      display: none;\n",
              "      fill: #1967D2;\n",
              "      height: 32px;\n",
              "      padding: 0 0 0 0;\n",
              "      width: 32px;\n",
              "    }\n",
              "\n",
              "    .colab-df-convert:hover {\n",
              "      background-color: #E2EBFA;\n",
              "      box-shadow: 0px 1px 2px rgba(60, 64, 67, 0.3), 0px 1px 3px 1px rgba(60, 64, 67, 0.15);\n",
              "      fill: #174EA6;\n",
              "    }\n",
              "\n",
              "    [theme=dark] .colab-df-convert {\n",
              "      background-color: #3B4455;\n",
              "      fill: #D2E3FC;\n",
              "    }\n",
              "\n",
              "    [theme=dark] .colab-df-convert:hover {\n",
              "      background-color: #434B5C;\n",
              "      box-shadow: 0px 1px 3px 1px rgba(0, 0, 0, 0.15);\n",
              "      filter: drop-shadow(0px 1px 2px rgba(0, 0, 0, 0.3));\n",
              "      fill: #FFFFFF;\n",
              "    }\n",
              "  </style>\n",
              "\n",
              "      <script>\n",
              "        const buttonEl =\n",
              "          document.querySelector('#df-466eb66f-3cff-4d93-bb71-3183e0067dd1 button.colab-df-convert');\n",
              "        buttonEl.style.display =\n",
              "          google.colab.kernel.accessAllowed ? 'block' : 'none';\n",
              "\n",
              "        async function convertToInteractive(key) {\n",
              "          const element = document.querySelector('#df-466eb66f-3cff-4d93-bb71-3183e0067dd1');\n",
              "          const dataTable =\n",
              "            await google.colab.kernel.invokeFunction('convertToInteractive',\n",
              "                                                     [key], {});\n",
              "          if (!dataTable) return;\n",
              "\n",
              "          const docLinkHtml = 'Like what you see? Visit the ' +\n",
              "            '<a target=\"_blank\" href=https://colab.research.google.com/notebooks/data_table.ipynb>data table notebook</a>'\n",
              "            + ' to learn more about interactive tables.';\n",
              "          element.innerHTML = '';\n",
              "          dataTable['output_type'] = 'display_data';\n",
              "          await google.colab.output.renderOutput(dataTable, element);\n",
              "          const docLink = document.createElement('div');\n",
              "          docLink.innerHTML = docLinkHtml;\n",
              "          element.appendChild(docLink);\n",
              "        }\n",
              "      </script>\n",
              "    </div>\n",
              "  </div>\n",
              "  "
            ]
          },
          "metadata": {},
          "execution_count": 22
        }
      ]
    },
    {
      "cell_type": "code",
      "source": [
        "print('Train Statement dates:' ,train_df['S_2'].min(),\n",
        "      train_df['S_2'].max(),train_df['S_2'].isna().any())\n",
        "print('Test Statement dates:',test_df['S_2'].min(),\n",
        "      test_df['S_2'].max(),test_df['S_2'].isna().any())"
      ],
      "metadata": {
        "colab": {
          "base_uri": "https://localhost:8080/"
        },
        "id": "m3a_0H_BCtaP",
        "outputId": "5596b63e-96ba-498e-f342-6de127a443e8"
      },
      "execution_count": 23,
      "outputs": [
        {
          "output_type": "stream",
          "name": "stdout",
          "text": [
            "Train Statement dates: 2017-03-01 2018-03-31 False\n",
            "Test Statement dates: 2018-04-01 2019-10-31 False\n"
          ]
        }
      ]
    },
    {
      "cell_type": "markdown",
      "source": [
        "* trainデータとtestデータで期間が違う\n",
        "(train:3月から次の年の3月\n",
        "test:4月から次の年の10月)\n",
        "### だから時間的な効果をモデルに組み込めない"
      ],
      "metadata": {
        "id": "1o9Y1jDBENfr"
      }
    },
    {
      "cell_type": "code",
      "source": [
        "print(f'train data memory usage:{train_df.memory_usage().sum()/1e9} GBytes')\n",
        "print(f'test data memory usage: {test_df.memory_usage().sum()/1e9} GBytes')"
      ],
      "metadata": {
        "colab": {
          "base_uri": "https://localhost:8080/"
        },
        "id": "dwL_FiKVE69E",
        "outputId": "03606e9a-aede-47ca-be99-7c868e66f436"
      },
      "execution_count": 25,
      "outputs": [
        {
          "output_type": "stream",
          "name": "stdout",
          "text": [
            "train data memory usage:2.72147402 GBytes\n",
            "test data memory usage: 5.602334794 GBytes\n"
          ]
        }
      ]
    },
    {
      "cell_type": "markdown",
      "source": [
        "* データ量が膨大なのでメモリーの効率化が必要、不必要なモデルのコピーも避けるべきだろう\n",
        "* 同時にtrainとtestを持たないために二つのノートブックを使うべきかも(Google colab proならぎりぎりRAMは耐えてる)"
      ],
      "metadata": {
        "id": "_DL_9egbFs_m"
      }
    },
    {
      "cell_type": "code",
      "source": [
        "train_df.info(max_cols=200,show_counts=True) #show_counts:Trueでnull以外のカウントを表示"
      ],
      "metadata": {
        "colab": {
          "base_uri": "https://localhost:8080/"
        },
        "id": "FGuMmn5xHqM1",
        "outputId": "9de02c73-f584-4578-ece1-5d761d6a9adc"
      },
      "execution_count": 30,
      "outputs": [
        {
          "output_type": "stream",
          "name": "stdout",
          "text": [
            "<class 'pandas.core.frame.DataFrame'>\n",
            "RangeIndex: 5531451 entries, 0 to 5531450\n",
            "Data columns (total 190 columns):\n",
            " #    Column       Non-Null Count    Dtype  \n",
            "---   ------       --------------    -----  \n",
            " 0    customer_ID  5531451 non-null  object \n",
            " 1    S_2          5531451 non-null  object \n",
            " 2    P_2          5485466 non-null  float32\n",
            " 3    D_39         5531451 non-null  int16  \n",
            " 4    B_1          5531451 non-null  float32\n",
            " 5    B_2          5529435 non-null  float32\n",
            " 6    R_1          5531451 non-null  float32\n",
            " 7    S_3          4510907 non-null  float32\n",
            " 8    D_41         5529435 non-null  float32\n",
            " 9    B_3          5529435 non-null  float32\n",
            " 10   D_42         791314 non-null   float32\n",
            " 11   D_43         3873055 non-null  float32\n",
            " 12   D_44         5531451 non-null  int8   \n",
            " 13   B_4          5531451 non-null  int16  \n",
            " 14   D_45         5529434 non-null  float32\n",
            " 15   B_5          5531451 non-null  float32\n",
            " 16   R_2          5531451 non-null  int8   \n",
            " 17   D_46         4319752 non-null  float32\n",
            " 18   D_47         5531451 non-null  float32\n",
            " 19   D_48         4812726 non-null  float32\n",
            " 20   D_49         5531451 non-null  int16  \n",
            " 21   B_6          5531218 non-null  float32\n",
            " 22   B_7          5531451 non-null  float32\n",
            " 23   B_8          5509183 non-null  float32\n",
            " 24   D_50         2389049 non-null  float32\n",
            " 25   D_51         5531451 non-null  int8   \n",
            " 26   B_9          5531451 non-null  float32\n",
            " 27   R_3          5531451 non-null  int8   \n",
            " 28   D_52         5501888 non-null  float32\n",
            " 29   P_3          5229959 non-null  float32\n",
            " 30   B_10         5531451 non-null  float32\n",
            " 31   D_53         1446866 non-null  float32\n",
            " 32   S_5          5531451 non-null  float32\n",
            " 33   B_11         5531451 non-null  float32\n",
            " 34   S_6          5531451 non-null  int8   \n",
            " 35   D_54         5529435 non-null  float32\n",
            " 36   R_4          5531451 non-null  int8   \n",
            " 37   S_7          4510907 non-null  float32\n",
            " 38   B_12         5531451 non-null  float32\n",
            " 39   S_8          5531451 non-null  int16  \n",
            " 40   D_55         5346648 non-null  float32\n",
            " 41   D_56         2540508 non-null  float32\n",
            " 42   B_13         5481932 non-null  float32\n",
            " 43   R_5          5531451 non-null  int8   \n",
            " 44   D_58         5531451 non-null  float32\n",
            " 45   S_9          2597808 non-null  float32\n",
            " 46   B_14         5531451 non-null  float32\n",
            " 47   D_59         5531451 non-null  int8   \n",
            " 48   D_60         5531451 non-null  float32\n",
            " 49   D_61         4933399 non-null  float32\n",
            " 50   B_15         5524528 non-null  float32\n",
            " 51   S_11         5531451 non-null  int8   \n",
            " 52   D_62         4773290 non-null  float32\n",
            " 53   D_63         5531451 non-null  int8   \n",
            " 54   D_64         5531451 non-null  int8   \n",
            " 55   D_65         5531451 non-null  int16  \n",
            " 56   B_16         5531451 non-null  int8   \n",
            " 57   B_17         2393853 non-null  float32\n",
            " 58   B_18         5531451 non-null  float32\n",
            " 59   B_19         5531451 non-null  int8   \n",
            " 60   D_66         5531451 non-null  int8   \n",
            " 61   B_20         5531451 non-null  int8   \n",
            " 62   D_68         5531451 non-null  int8   \n",
            " 63   S_12         5531451 non-null  float32\n",
            " 64   R_6          5531451 non-null  float32\n",
            " 65   S_13         5531451 non-null  int16  \n",
            " 66   B_21         5531451 non-null  float32\n",
            " 67   D_69         5336978 non-null  float32\n",
            " 68   B_22         5531451 non-null  int8   \n",
            " 69   D_70         5531451 non-null  int8   \n",
            " 70   D_71         5531451 non-null  float32\n",
            " 71   D_72         5531451 non-null  int8   \n",
            " 72   S_15         5531451 non-null  int8   \n",
            " 73   B_23         5531451 non-null  float32\n",
            " 74   D_73         55856 non-null    float32\n",
            " 75   P_4          5531451 non-null  float32\n",
            " 76   D_74         5531451 non-null  int8   \n",
            " 77   D_75         5531451 non-null  int8   \n",
            " 78   D_76         622497 non-null   float32\n",
            " 79   B_24         5531451 non-null  float32\n",
            " 80   R_7          5531450 non-null  float32\n",
            " 81   D_77         3017539 non-null  float32\n",
            " 82   B_25         5524528 non-null  float32\n",
            " 83   B_26         5529435 non-null  float32\n",
            " 84   D_78         5531451 non-null  int8   \n",
            " 85   D_79         5531451 non-null  int8   \n",
            " 86   R_8          5531451 non-null  int8   \n",
            " 87   R_9          5531451 non-null  int8   \n",
            " 88   S_16         5531451 non-null  float32\n",
            " 89   D_80         5531451 non-null  int8   \n",
            " 90   R_10         5531451 non-null  int8   \n",
            " 91   R_11         5531451 non-null  int8   \n",
            " 92   B_27         5529435 non-null  float32\n",
            " 93   D_81         5531451 non-null  int8   \n",
            " 94   D_82         5531451 non-null  int8   \n",
            " 95   S_17         5531451 non-null  float32\n",
            " 96   R_12         5531395 non-null  float32\n",
            " 97   B_28         5531451 non-null  float32\n",
            " 98   R_13         5531451 non-null  int8   \n",
            " 99   D_83         5531451 non-null  int8   \n",
            " 100  R_14         5531450 non-null  float32\n",
            " 101  R_15         5531451 non-null  int8   \n",
            " 102  D_84         5531451 non-null  int8   \n",
            " 103  R_16         5531451 non-null  int8   \n",
            " 104  B_29         381416 non-null   float32\n",
            " 105  B_30         5531451 non-null  int8   \n",
            " 106  S_18         5531451 non-null  int8   \n",
            " 107  D_86         5531451 non-null  int8   \n",
            " 108  D_87         5531451 non-null  int8   \n",
            " 109  R_17         5531451 non-null  int8   \n",
            " 110  R_18         5531451 non-null  int8   \n",
            " 111  D_88         6004 non-null     float32\n",
            " 112  B_31         5531451 non-null  int8   \n",
            " 113  S_19         5531451 non-null  float32\n",
            " 114  R_19         5531451 non-null  int8   \n",
            " 115  B_32         5531451 non-null  int8   \n",
            " 116  S_20         5531451 non-null  int8   \n",
            " 117  R_20         5531451 non-null  int8   \n",
            " 118  R_21         5531451 non-null  int8   \n",
            " 119  B_33         5531451 non-null  int8   \n",
            " 120  D_89         5531451 non-null  int8   \n",
            " 121  R_22         5531451 non-null  int8   \n",
            " 122  R_23         5531451 non-null  int8   \n",
            " 123  D_91         5531451 non-null  int8   \n",
            " 124  D_92         5531451 non-null  int8   \n",
            " 125  D_93         5531451 non-null  int8   \n",
            " 126  D_94         5531451 non-null  int8   \n",
            " 127  R_24         5531451 non-null  int8   \n",
            " 128  R_25         5531451 non-null  int8   \n",
            " 129  D_96         5531451 non-null  int8   \n",
            " 130  S_22         5512427 non-null  float32\n",
            " 131  S_23         5531006 non-null  float32\n",
            " 132  S_24         5512858 non-null  float32\n",
            " 133  S_25         5518604 non-null  float32\n",
            " 134  S_26         5530817 non-null  float32\n",
            " 135  D_102        5490796 non-null  float32\n",
            " 136  D_103        5531451 non-null  int8   \n",
            " 137  D_104        5429903 non-null  float32\n",
            " 138  D_105        2510020 non-null  float32\n",
            " 139  D_106        5531451 non-null  int16  \n",
            " 140  D_107        5531451 non-null  int8   \n",
            " 141  B_36         5531451 non-null  float32\n",
            " 142  B_37         5531395 non-null  float32\n",
            " 143  R_26         5531451 non-null  int16  \n",
            " 144  R_27         5402748 non-null  float32\n",
            " 145  B_38         5531451 non-null  int8   \n",
            " 146  D_108        5531451 non-null  int8   \n",
            " 147  D_109        5531451 non-null  int8   \n",
            " 148  D_110        31334 non-null    float32\n",
            " 149  D_111        5531451 non-null  int8   \n",
            " 150  B_39         33632 non-null    float32\n",
            " 151  D_112        5528801 non-null  float32\n",
            " 152  B_40         5531398 non-null  float32\n",
            " 153  S_27         4130516 non-null  float32\n",
            " 154  D_113        5531451 non-null  int8   \n",
            " 155  D_114        5531451 non-null  int8   \n",
            " 156  D_115        5354735 non-null  float32\n",
            " 157  D_116        5531451 non-null  int8   \n",
            " 158  D_117        5531451 non-null  int8   \n",
            " 159  D_118        5354735 non-null  float32\n",
            " 160  D_119        5354735 non-null  float32\n",
            " 161  D_120        5531451 non-null  int8   \n",
            " 162  D_121        5354735 non-null  float32\n",
            " 163  D_122        5531451 non-null  int8   \n",
            " 164  D_123        5531451 non-null  int8   \n",
            " 165  D_124        5531451 non-null  int16  \n",
            " 166  D_125        5531451 non-null  int8   \n",
            " 167  D_126        5531451 non-null  int8   \n",
            " 168  D_127        5531451 non-null  int8   \n",
            " 169  D_128        5429903 non-null  float32\n",
            " 170  D_129        5531451 non-null  int8   \n",
            " 171  B_41         5531451 non-null  int8   \n",
            " 172  B_42         71478 non-null    float32\n",
            " 173  D_130        5429903 non-null  float32\n",
            " 174  D_131        5429903 non-null  float32\n",
            " 175  D_132        542577 non-null   float32\n",
            " 176  D_133        5488735 non-null  float32\n",
            " 177  R_28         5531451 non-null  int8   \n",
            " 178  D_134        194699 non-null   float32\n",
            " 179  D_135        5531451 non-null  int8   \n",
            " 180  D_136        5531451 non-null  int8   \n",
            " 181  D_137        5531451 non-null  int8   \n",
            " 182  D_138        5531451 non-null  int8   \n",
            " 183  D_139        5531451 non-null  int8   \n",
            " 184  D_140        5531451 non-null  int8   \n",
            " 185  D_141        5429903 non-null  float32\n",
            " 186  D_142        944408 non-null   float32\n",
            " 187  D_143        5531451 non-null  int8   \n",
            " 188  D_144        5490724 non-null  float32\n",
            " 189  D_145        5531451 non-null  int8   \n",
            "dtypes: float32(93), int16(9), int8(86), object(2)\n",
            "memory usage: 2.5+ GB\n"
          ]
        }
      ]
    },
    {
      "cell_type": "markdown",
      "source": [
        "* 決定木ならnull埋め必要ないがnn使うならやらないといけないな～"
      ],
      "metadata": {
        "id": "FcUXcOYzHtRD"
      }
    },
    {
      "cell_type": "code",
      "source": [
        "train_df['customer_ID'].value_counts()"
      ],
      "metadata": {
        "colab": {
          "base_uri": "https://localhost:8080/"
        },
        "id": "bZDnxE3TJM1C",
        "outputId": "484de74c-87c2-407d-b275-3b24c06a79d7"
      },
      "execution_count": 31,
      "outputs": [
        {
          "output_type": "execute_result",
          "data": {
            "text/plain": [
              "0000099d6bd597052cdcda90ffabf56573fe9d7c79be5fbac11a8ed792feb62a    13\n",
              "a3111280bfa1ed8fafd0b06839eb707f4538497e8087cb62958bb03e1bdde214    13\n",
              "a31376930229162f886c091e5a56a528f81c10a523285828ed05a6e9ccf56722    13\n",
              "a312c595dfaee96c8a597107d2754a49b1acfd127400d98991762d87837b1b65    13\n",
              "a312aff722e7230f9d6a313ff777d6f00166c6bada21a333982426758a2e2a9d    13\n",
              "                                                                    ..\n",
              "a84839802f1f37a86a7fe34ddba4791d33d878df3937b509841def0a9e252748     1\n",
              "01f4f7b14d83b6a8f88e4355279224615da083b19e3e5f15b98f274ced8cf752     1\n",
              "eef07ea56302cebcd57374c6565bb3e5c7af856796d9cbc31ed42aa0fc73b7fc     1\n",
              "d192480082e86e3b4da68f014b284f2a2624b45956eed279416c796de043b7ce     1\n",
              "d9ea3cffff889b522a69bde89aee382dcff8bffe32c9a38653bdaa2ff4330041     1\n",
              "Name: customer_ID, Length: 458913, dtype: int64"
            ]
          },
          "metadata": {},
          "execution_count": 31
        }
      ]
    },
    {
      "cell_type": "code",
      "source": [
        "#fig,(ax1,ax2)=plt.subplots(1,2,figsize=(8,5))\n",
        "#train_vc=train_df['customer_ID'].value_counts().sort_index(ascending=False).rename('Trainstatements per customer')\n",
        "#ax1.pie(train_vc,labels=train_vc.index) #.value_counts()でindexがユニークな要素の値、その出現個数がdataとなってその降順になる。\n",
        "#ax1.set_title(train_vc.name)\n",
        "#test_vc=test_df['customer'].value_counts().sort_index(ascending=False).rename('Test statements per customer')\n",
        "#ax2.pie(test_vc,labels=test_vc.index)\n",
        "#ax2.set_title(test_vc.name)\n",
        "#plt.show()\n",
        "#重すぎて実行できない"
      ],
      "metadata": {
        "id": "YP54KBoGMwaO"
      },
      "execution_count": 41,
      "outputs": []
    },
    {
      "cell_type": "markdown",
      "source": [
        "* 一人のcustomer当たり大体13個のstatementがあり、(1か月に1つ)他はそれ以下の数"
      ],
      "metadata": {
        "id": "ytzOAnRHKR9o"
      }
    },
    {
      "cell_type": "code",
      "source": [
        "temp=train_df['S_2'].groupby(train_df['customer_ID']).max()\n",
        "#train_df['customer_ID']のuniqueな値に対してtrain_dfの['S_2']のindexがそれぞれ対応し、そのmaxのindexが出される。"
      ],
      "metadata": {
        "colab": {
          "base_uri": "https://localhost:8080/"
        },
        "id": "mAnh00PoR8-C",
        "outputId": "11a37486-7e0d-44c9-d8a5-cd8e9d055229"
      },
      "execution_count": 45,
      "outputs": [
        {
          "output_type": "execute_result",
          "data": {
            "text/plain": [
              "customer_ID\n",
              "0000099d6bd597052cdcda90ffabf56573fe9d7c79be5fbac11a8ed792feb62a    2018-03-13\n",
              "00000fd6641609c6ece5454664794f0340ad84dddce9a267a310b5ae68e9d8e5    2018-03-25\n",
              "00001b22f846c82c51f6e3958ccd81970162bae8b007e80662ef27519fcc18c1    2018-03-12\n",
              "000041bdba6ecadd89a52d11886e8eaaec9325906c9723355abb5ca523658edc    2018-03-29\n",
              "00007889e4fcd2614b6cbe7f8f3d2e5c728eca32d9eb8ad51ca8b8c4a24cefed    2018-03-30\n",
              "                                                                       ...    \n",
              "ffff41c8a52833b56430603969b9ca48d208e7c192c6a4081a6acc28cf4f8af7    2018-03-31\n",
              "ffff518bb2075e4816ee3fe9f3b152c57fc0e6f01bf7fdd3e5b57cfcbee30286    2018-03-22\n",
              "ffff9984b999fccb2b6127635ed0736dda94e544e67e026eee4d20f680639ff6    2018-03-07\n",
              "ffffa5c46bc8de74f5a4554e74e239c8dee6b9baf388145b2c3d01967fcce461    2018-03-23\n",
              "fffff1d38b785cef84adeace64f8f83db3a0c31e8d92eaba8b115f71cab04681    2018-03-14\n",
              "Name: S_2, Length: 458913, dtype: object"
            ]
          },
          "metadata": {},
          "execution_count": 45
        }
      ]
    },
    {
      "cell_type": "code",
      "source": [
        "tmp=train_df['S_2'].groupby(train_df['customer_ID']).groups\n",
        "tmp"
      ],
      "metadata": {
        "colab": {
          "base_uri": "https://localhost:8080/"
        },
        "id": "lkdtY5yVShFm",
        "outputId": "4754df81-606c-41bb-88c3-40b460438fb3"
      },
      "execution_count": 60,
      "outputs": [
        {
          "output_type": "execute_result",
          "data": {
            "text/plain": [
              "{'0000099d6bd597052cdcda90ffabf56573fe9d7c79be5fbac11a8ed792feb62a': [0, 1, 2, 3, 4, 5, 6, 7, 8, 9, 10, 11, 12], '00000fd6641609c6ece5454664794f0340ad84dddce9a267a310b5ae68e9d8e5': [13, 14, 15, 16, 17, 18, 19, 20, 21, 22, 23, 24, 25], '00001b22f846c82c51f6e3958ccd81970162bae8b007e80662ef27519fcc18c1': [26, 27, 28, 29, 30, 31, 32, 33, 34, 35, 36, 37, 38], '000041bdba6ecadd89a52d11886e8eaaec9325906c9723355abb5ca523658edc': [39, 40, 41, 42, 43, 44, 45, 46, 47, 48, 49, 50, 51], '00007889e4fcd2614b6cbe7f8f3d2e5c728eca32d9eb8ad51ca8b8c4a24cefed': [52, 53, 54, 55, 56, 57, 58, 59, 60, 61, 62, 63, 64], '000084e5023181993c2e1b665ac88dbb1ce9ef621ec5370150fc2f8bdca6202c': [65, 66, 67, 68, 69, 70, 71, 72, 73, 74, 75, 76, 77], '000098081fde4fd64bc4d503a5d6f86a0aedc425c96f5235f98b0f47c9d7d8d4': [78, 79, 80, 81, 82, 83, 84, 85, 86, 87, 88, 89, 90], '0000d17a1447b25a01e42e1ac56b091bb7cbb06317be4cb59b50fec59e0b6381': [91, 92, 93, 94, 95, 96, 97, 98, 99, 100, 101, 102, 103], '0000f99513770170a1aba690daeeb8a96da4a39f11fc27da5c30a79db61c1e85': [104, 105, 106, 107, 108, 109, 110, 111, 112, 113, 114, 115, 116], '00013181a0c5fc8f1ea38cd2b90fe8ad2fa8cad9d9f13e4063bdf6b0f7d51eb6': [117, 118, 119, 120, 121, 122, 123, 124, 125, 126, 127, 128, 129], '0001337ded4e1c2539d1a78ff44a457bd4a95caa55ba1730b2849b92ea687f9e': [130, 131, 132], '00013c6e1cec7c21bede7cb319f1e28eb994f5625257f479c53ad6e90c177f7c': [133, 134, 135, 136, 137, 138, 139, 140, 141, 142, 143, 144, 145], '0001812036f1558332e5c0880ecbad70b13a6f28ab04a8db6d83a26ef40aadb0': [146, 147, 148, 149, 150, 151, 152, 153, 154, 155, 156, 157, 158], '00018dd4932409baf6083519b52113c2ef58be59e1213e4681d28c7719a65ddf': [159, 160, 161, 162, 163, 164, 165, 166, 167, 168, 169, 170, 171], '000198b3dc70edd65dbf0d7eddbcb926c6d7dbd7986af19d91ef3992ae3ab896': [172, 173, 174, 175, 176, 177, 178, 179, 180, 181, 182, 183, 184], '000201146e53cacdde1c7e9d29f4d3c46fd4d9231a3744aa39fb9c6afa79b708': [185, 186, 187, 188, 189, 190, 191, 192, 193, 194, 195, 196, 197], '0002d381bdd8048d76719042cf1eb63caf53b636f8aacdba49365fd1ab7d0f36': [198, 199, 200, 201, 202, 203, 204, 205, 206, 207, 208, 209, 210], '0002e335892f7998f0feb3a59f32d652f0da7c85e535b99ea6f87fd317ed47f4': [211, 212, 213, 214, 215, 216, 217, 218, 219, 220, 221, 222, 223], '00031e8be98bc3411f6037cbd4d3eeaf24b3ae221682b77900533c9bb36ec41f': [224, 225, 226, 227, 228, 229, 230, 231, 232, 233, 234, 235, 236], '000333075fb8ec6d504539852eeeb762643562e701ac79b2101ab0f9471eeb5a': [237, 238, 239, 240, 241, 242, 243, 244, 245, 246, 247, 248, 249], '000391f219520dbca6c3c1c46e0fab569da163f79ee266b2cc95fb31029ce617': [250, 251, 252, 253], '00039533fe0b61bcf1ec0d1aefe6acb5469ea0f0d1b0ad59ae721e5b86db12f1': [254, 255, 256, 257, 258, 259, 260, 261, 262, 263, 264, 265, 266], '0003b7891c49786441d138c01f55f1712df645989dcd2a83106ab4a229fee72d': [267, 268, 269, 270, 271, 272, 273, 274, 275, 276, 277, 278, 279], '0003e58375faf90552b2861c1ccea4ee5757827cbb6ecd15a334e47e95774185': [280, 281, 282, 283, 284, 285, 286, 287, 288, 289, 290, 291, 292], '000445609ff2a39d2dd02484899affa5696210a95f6869f26390bd26eeb3b651': [293, 294, 295, 296, 297, 298, 299, 300, 301, 302, 303, 304, 305], '000473eb907b57c8c23f652bba40f87fe7261273dda47034d46fc46821017e50': [306, 307, 308, 309, 310, 311, 312, 313, 314, 315, 316, 317, 318], '0004837f0c785928a29a6f83f70f4a1c54caec483a773ff4b5b317ac251abda0': [319, 320, 321, 322, 323, 324, 325, 326, 327, 328, 329, 330, 331], '0004860c260168fcaad0734a1dfedb7ceb1a83aaac54e24c27244b77308fd8b7': [332, 333, 334, 335, 336, 337, 338, 339, 340], '0004b8596c4946866d1b27a8b40488ecf49c6eae9c7bf4afcb6a8642b321124c': [341, 342, 343, 344, 345, 346, 347, 348, 349, 350, 351, 352, 353], '0004e00358fc4dd633e491c8090a0794b6165ed9a7e60c02bdab9ac745f661c2': [354, 355, 356, 357, 358, 359, 360, 361, 362, 363, 364, 365, 366], '0004ec03ca1ab2adb9aa260c61ba5dce8185e19d3ab704029f989240c733b6d0': [367, 368, 369, 370, 371, 372, 373, 374, 375, 376, 377, 378, 379], '00050d84c6d26e26cd2b18c3eed83d3130c270e2361470ff272f9409103d067f': [380, 381, 382, 383, 384, 385, 386, 387, 388, 389, 390, 391, 392], '000548e99fa24cef8377e68e602e4bd70d30500a007999236e13f58ca8a259da': [393, 394, 395, 396, 397, 398, 399, 400, 401, 402, 403, 404, 405], '00055add5eaee481b27e40af3f47b8b24e82c1e550f6ab010000e7685692f281': [406, 407, 408, 409, 410, 411, 412, 413, 414, 415, 416, 417, 418], '00057576e6eab4633ec2893ca7e0ab76f2094ad2d43b1e3749db49d51e064ee9': [419, 420, 421, 422, 423, 424, 425, 426, 427, 428, 429, 430, 431], '00057c2d8d887fa3f777d97dc939700731575772e6c99025aaa0ab56870353ce': [432, 433, 434, 435], '0005a6ae24fd274640a237ea56c43b1ef9e32077ad168a90d464dcf2bd5976fb': [436, 437, 438, 439, 440, 441, 442, 443, 444, 445, 446, 447], '0005e52a3fa31b7eed49ceb576f011433ee2578833cd3f9d51c9dd9448a198ff': [448, 449, 450, 451, 452, 453, 454, 455], '0005ef1480ffe4f0e5908eae07db8e05f2e705bca6a57db3b97d1da2eb6c7cab': [456, 457], '0005f2ab0cc352cd64eac9e60b981ed8c3289d20fa5fcef78973c468916fdfc9': [458, 459, 460, 461, 462, 463, 464, 465, 466, 467, 468, 469, 470], '00062483fb33d6129dd4ee7e5a12f751d2e7010ac0df0178997c628883695603': [471, 472, 473, 474, 475, 476, 477, 478], '00062d39ff054c4e18d5dba3b988c94277246d2d4aee42e588c62bc8b3ac1f5b': [479, 480, 481, 482, 483, 484, 485, 486, 487, 488, 489, 490, 491], '000664572b701ea9833f05597f0c5347f471737baa925a3c2829c84df4606d46': [492, 493, 494, 495, 496, 497, 498, 499, 500, 501, 502, 503, 504], '000678921d09c5503d34055ab96b150a972f59a96471b987415c21ba1e86605a': [505, 506, 507, 508, 509, 510, 511, 512, 513, 514, 515, 516, 517], '00067cdd68211fdf71636823c827371a070c52417d4ab364309a0d9e5ebbd8cc': [518, 519, 520, 521, 522, 523, 524, 525, 526, 527, 528, 529, 530], '00067f4aed8cf43b16652c966860774f650420ef7a306fb9769f14858d87ba9f': [531, 532, 533, 534, 535, 536, 537, 538, 539, 540, 541, 542, 543], '00068f00a4ddaa53b75bc7235f13a42493eba75792850e49327f2cfaf1ae6791': [544, 545, 546, 547, 548, 549, 550, 551, 552, 553, 554, 555, 556], '0006a80d96aec1d178bf74adab6cbf9e4bf427a6ba264fefecd53a4c1233cd21': [557, 558, 559, 560, 561, 562, 563, 564, 565, 566, 567, 568, 569], '0007138953c25a3a7d8f48cf60dd6e9ca4a77d9e945a443f986062a95f795c4d': [570, 571, 572, 573, 574, 575, 576, 577, 578, 579, 580, 581, 582], '00073f1912e2151e987a71b78ded23870729d7fd0e6b94b217aa66dded29af8b': [583, 584, 585, 586, 587, 588, 589, 590, 591, 592, 593, 594, 595], '000772ede38fe3811dea0dff9dc50e2f8b7b577ab6f143c034b2dbccee197f57': [596, 597, 598, 599, 600, 601, 602, 603, 604, 605], '0007764443c6d098326549271e1d2613b111acafd039e96df124da7770e4fa70': [606, 607, 608, 609, 610, 611, 612, 613, 614, 615, 616, 617, 618], '000790f99df4c2a0eccd9ba5db78fd81e6a4b88b3d7f203ea9810d2e61bc1f5b': [619, 620, 621, 622, 623, 624, 625, 626, 627, 628, 629, 630, 631], '0007b7b197a68e10925e2b4abf89130323ea2a87deb8ada24159a249b6010516': [632, 633, 634, 635, 636, 637, 638, 639, 640, 641, 642, 643, 644], '0007ee1ac8edb6be588c6c8a158d2268e3228c49cf52773d168012076c118e5f': [645, 646, 647, 648, 649, 650, 651, 652, 653, 654, 655, 656, 657], '0008c2f297e1b00bf567c0d2c25f3e3b356f9a3088d2bf47aaaa724d26df8787': [658, 659, 660, 661, 662, 663, 664, 665, 666, 667, 668, 669, 670], '0008ef32824d3067b4d8ab70e7c79fa04c808f4d99194fe9c7827dac8bcf0b5c': [671, 672, 673, 674, 675, 676, 677, 678, 679, 680, 681, 682, 683], '000919ba92d9a04c28e1e49f6cd855ca36e1df7c79cc0583b60734da25265fb1': [684, 685, 686, 687, 688, 689, 690, 691, 692, 693, 694, 695, 696], '00093b69756b1afe3029c79b981e8d699b2a48bf4464a9d4c8432dc2bb45372e': [697, 698, 699, 700, 701, 702, 703, 704, 705, 706, 707, 708, 709], '000940eb997a3356d782e519274accd60c1f4f9af86dde67552d54ca4c619fe6': [710, 711, 712, 713, 714, 715, 716, 717, 718, 719, 720, 721, 722], '000962b331f602203d5b5fb41b915893e74db55534182d4968a3423c19258584': [723, 724, 725, 726, 727, 728, 729, 730, 731, 732, 733, 734, 735], '00098cc74b9a5113321817176656d2d75928c363cc45ab81502f7239cae2187b': [736, 737, 738, 739, 740, 741, 742, 743, 744, 745, 746, 747, 748], '0009a85feed29c69e41a1dfa6375ba7010870adbe7550e4ce2f1d4c564db1691': [749, 750, 751, 752, 753, 754, 755, 756, 757, 758, 759, 760, 761], '0009bd8871169b8d76a445e1f52079a6edc0b6f0bf021d5ec50ef6aa6487cc14': [762], '0009e1a505be8b131904d3908b9d6e149108859a37cd88d760349b52751fa2f5': [763, 764, 765, 766, 767, 768, 769, 770, 771, 772, 773, 774, 775], '000a1745b0fba14f100603038675e879651f9af9c729c523a81bbf93dacf0e57': [776, 777, 778, 779, 780, 781, 782, 783, 784, 785, 786, 787, 788], '000aaaf8dba0cf6b0853a317d5cd4a8d581b529e5d85119101c05b8ad16190b2': [789, 790, 791, 792, 793, 794, 795, 796, 797, 798, 799, 800, 801], '000ac434614bed68129738742263a6306192132f904a83fadac1553955d1f0fb': [802, 803, 804, 805, 806, 807, 808, 809, 810, 811, 812, 813, 814], '000adf2938f771f75a581b65107024eddeae70684778c0da9b94b261b836a940': [815, 816, 817, 818, 819, 820, 821, 822, 823, 824, 825, 826, 827], '000ae3818c26d56167678fde3b6238888d0f802c02f4bfa8352ab0c614df776a': [828, 829, 830, 831, 832, 833, 834, 835, 836, 837, 838, 839, 840], '000aeb78bae8b5dff7906f5d3a3805e24856f437c7e95d26bdae93e23aac47a0': [841, 842, 843, 844, 845, 846, 847, 848, 849, 850, 851, 852, 853], '000b30e00a2a37b5ae325fa3830c9b2b6365b0c17719c9d283d66c0fd2284f59': [854, 855, 856, 857, 858, 859, 860], '000b48231b7fad0e00ce78790df80ff94bd890eaaa8c6816fc897bf97505f7bd': [861, 862, 863, 864, 865, 866, 867, 868, 869, 870, 871, 872, 873], '000b6357c2a736700113519ea047bfe3d38a6dc2a89d798b86c184fd4673f802': [874, 875, 876, 877, 878, 879, 880, 881, 882, 883, 884, 885, 886], '000b789efc34ef75106b9e135dbeabd0408e0735fa8b2d046df6587c49ccbeed': [887, 888, 889, 890, 891, 892, 893, 894, 895, 896, 897, 898, 899], '000ba16037da23e8601c4914b8d638bf4bb834fc1c7b9a513927f1cb26b26204': [900, 901, 902, 903, 904, 905, 906, 907, 908, 909, 910, 911, 912], '000bbcea7cf6a9d74b2ff2f6fd4fa89a4ff4c419a8b569eb167717231edb7ccf': [913, 914, 915, 916, 917, 918, 919, 920, 921, 922, 923, 924, 925], '000c36f7b5130de63c1b7ee4bc902ba51aa8ae1f9cd1cee254892b0b06011cb4': [926, 927, 928, 929, 930, 931, 932, 933, 934, 935], '000c57a2ca053e6ddc51fa2eaac470ee96663c2b505916a73ba944878d20184d': [936, 937, 938, 939, 940, 941, 942, 943, 944, 945, 946, 947, 948], '000cba133a9f5634a0f3e56d439ae774a819292301329551531a54791169abc4': [949, 950, 951, 952, 953, 954, 955, 956, 957, 958, 959, 960, 961], '000cc41bf286c67da129d61340c7de52adf8636b42a4a74f1cc2129390ce348f': [962, 963, 964, 965, 966, 967, 968, 969, 970, 971, 972, 973, 974], '000cc98607442c5074d368870a7fa3cb1634147af647f1aec9c99175aaf0c7fa': [975, 976, 977, 978, 979, 980, 981, 982, 983, 984, 985, 986, 987], '000cfb5aac8db50185898fa111be535e4530149f341a9a4d7ad3bd9b7e14c281': [988, 989, 990, 991, 992, 993, 994, 995, 996, 997, 998, 999, 1000], '000d2c718af00d1b56d5717738b60f72766ae487b0eceacb17250c543e2c23a5': [1001, 1002, 1003, 1004, 1005, 1006, 1007, 1008, 1009, 1010, 1011, 1012, 1013], '000d31f624ba226a4ca7249b489c440abd793f30b3d2e3abe9f003fbfc157f1b': [1014, 1015, 1016, 1017, 1018, 1019, 1020, 1021, 1022, 1023, 1024, 1025, 1026], '000d4be985f5eb4f752ed9c0e3e4e11261b86f00e28082be1e4ca044485a9f24': [1027, 1028, 1029, 1030, 1031, 1032, 1033, 1034, 1035, 1036, 1037, 1038, 1039], '000d83d6da1c0d771f9ec471741b0dae476196bb05451bf29df0a8e0a089ef86': [1040, 1041, 1042, 1043, 1044, 1045, 1046, 1047, 1048, 1049, 1050, 1051, 1052], '000d848df79e239601299a543d77e5bf35edec39f53a49f449ca29c08079f535': [1053, 1054, 1055, 1056, 1057, 1058, 1059, 1060, 1061, 1062, 1063, 1064], '000dac810943ef22598f3e650b91f667517baf45cffe11886723512939905d14': [1065, 1066, 1067, 1068, 1069, 1070, 1071, 1072, 1073, 1074, 1075, 1076, 1077], '000de143ca96be8fa6362e55dffe94a0bdaf347d993160fb1e11208d7ecc0597': [1078, 1079, 1080, 1081, 1082, 1083, 1084, 1085, 1086, 1087, 1088, 1089], '000df7db33e45c5151ac69f400db5d4c283be4ca2bf72d101e49b50b72212ebf': [1090, 1091, 1092, 1093, 1094, 1095, 1096, 1097, 1098, 1099, 1100, 1101, 1102], '000e06b7ac3f3f4eff61b316fd02a4624f8d5196e18af0083f0e22ce70e9bf67': [1103, 1104, 1105, 1106, 1107, 1108, 1109, 1110, 1111, 1112, 1113, 1114, 1115], '000e2c816db921b0c4a6fea72e32af5d81f7f41f8b11e16cc2ac31fca793bdce': [1116, 1117, 1118, 1119, 1120, 1121, 1122, 1123, 1124, 1125, 1126, 1127, 1128], '000e6806ba7de2cf7f189c7a0719f13f4cf8e7925a3ebb0c86655bfa1f780087': [1129, 1130, 1131, 1132, 1133, 1134, 1135, 1136, 1137, 1138, 1139, 1140, 1141], '000e7954b7687713b64abced75597e6d20e65e805ff8b594efb579ef6b23b4cb': [1142, 1143, 1144, 1145, 1146, 1147, 1148, 1149, 1150, 1151, 1152, 1153, 1154], '000e95de2a94dd09611f0d330e65022ad27ec1dbe3adaa72525b3ebb4d3c8a81': [1155, 1156, 1157, 1158, 1159, 1160, 1161, 1162, 1163, 1164, 1165, 1166, 1167], '000ee46c042bfab551c28d92c93969f8a3539fe1e9fc9cd2d2e188f838f7d8ba': [1168, 1169, 1170, 1171, 1172, 1173, 1174, 1175, 1176, 1177, 1178, 1179, 1180], '000eee12732c9c7b790870c556bc33339d6d17725cbeb4a7da6b2a5d2c8386aa': [1181], '000f1c950ae4e388f44e9ba96dd6334dfa85d8be0416d9d0d30228301f2e4cc4': [1182, 1183, 1184, 1185, 1186, 1187, 1188, 1189, 1190, 1191, 1192, 1193, 1194], '000f446ef66e08fddf9fd852afe788386bee2e333a7d70a815ce7a7f1c88e504': [1195, 1196, 1197, 1198, 1199, 1200, 1201, 1202, 1203, 1204, 1205, 1206, 1207], ...}"
            ]
          },
          "metadata": {},
          "execution_count": 60
        }
      ]
    },
    {
      "cell_type": "code",
      "source": [
        "import gc\n",
        "gc.collect()"
      ],
      "metadata": {
        "colab": {
          "base_uri": "https://localhost:8080/"
        },
        "id": "pxsmKe9MbiEb",
        "outputId": "c27474a1-7b8f-4043-fb28-f3012f87664c"
      },
      "execution_count": 61,
      "outputs": [
        {
          "output_type": "execute_result",
          "data": {
            "text/plain": [
              "377"
            ]
          },
          "metadata": {},
          "execution_count": 61
        }
      ]
    },
    {
      "cell_type": "code",
      "source": [
        "train_df['S_2']=train_df['S_2'].astype('datetime64')"
      ],
      "metadata": {
        "id": "TMbf6P0HdcWp"
      },
      "execution_count": 65,
      "outputs": []
    },
    {
      "cell_type": "code",
      "source": [
        "temp=train_df['S_2'].groupby(train_df['customer_ID']).max()\n",
        "plt.figure(figsize=(16,4))#freq='d'で毎日\n",
        "plt.hist(temp,bins=pd.date_range(\"2018-03-01\",\"2018-04-01\",freq='d'),rwidth=0.8,color='yellow')\n",
        "plt.title('When did the train customers get their last statements?',fontsize=20)\n",
        "plt.xlabel('Last statement date per customer')\n",
        "plt.ylabel('Count')\n",
        "plt.gca().set_facecolor('blue') #get current axis　実質ax.set_facecolor(背景色)\n",
        "plt.show()\n",
        "del temp"
      ],
      "metadata": {
        "colab": {
          "base_uri": "https://localhost:8080/",
          "height": 300
        },
        "id": "Op68zWCDUCgC",
        "outputId": "e0eadf8e-eb81-46de-e1da-928ea6d401c9"
      },
      "execution_count": 66,
      "outputs": [
        {
          "output_type": "display_data",
          "data": {
            "text/plain": [
              "<Figure size 1152x288 with 1 Axes>"
            ],
            "image/png": "[encoded data removed]"
          },
          "metadata": {
            "needs_background": "light"
          }
        }
      ]
    },
    {
      "cell_type": "code",
      "source": [
        "test_df['S_2']=test_df['S_2'].astype('datetime64')\n",
        "temp=test_df['S_2'].groupby(test_df['customer_ID']).max()\n",
        "plt.figure(figsize=(16,4))\n",
        "plt.hist(temp,bins=pd.date_range(\"2019-04-01\",\"2019-11-01\",freq='d'),rwidth=0.74,color='yellow')\n",
        "plt.title('When did the test customers get their last statements?',fontsize=20)\n",
        "plt.xlabel('Last statement date per customer')\n",
        "plt.ylabel('Counts')\n",
        "plt.gca().set_facecolor('blue')\n",
        "plt.show()\n",
        "del temp"
      ],
      "metadata": {
        "colab": {
          "base_uri": "https://localhost:8080/",
          "height": 300
        },
        "id": "07i9vlYRcfJ2",
        "outputId": "f771efb2-55dd-49c5-d018-6bd43e789baf"
      },
      "execution_count": 67,
      "outputs": [
        {
          "output_type": "display_data",
          "data": {
            "text/plain": [
              "<Figure size 1152x288 with 1 Axes>"
            ],
            "image/png": "[encoded data removed]"
          },
          "metadata": {
            "needs_background": "light"
          }
        }
      ]
    },
    {
      "cell_type": "markdown",
      "source": [
        "* 全てのtrainが同じ月に起こっているからTimeSplit Validationができない"
      ],
      "metadata": {
        "id": "Hd3Wc-MTfvUa"
      }
    },
    {
      "cell_type": "code",
      "source": [
        "cat_features=['B_30','B_38','D_114','D_117','D_120','D_126','D_63','D_64',\n",
        "'D_64','D_66','D_68']"
      ],
      "metadata": {
        "id": "xprbPvhekYug"
      },
      "execution_count": 68,
      "outputs": []
    },
    {
      "cell_type": "code",
      "source": [
        "bin_features=['B_31','D_87']"
      ],
      "metadata": {
        "id": "k1Q1GAV-kzMO"
      },
      "execution_count": 69,
      "outputs": []
    },
    {
      "cell_type": "code",
      "source": [
        "numeric_features=[f for f in train_df.columns if f not in cat_features+bin_features+['customer_ID','target']]\n",
        "print(len(numeric_features))"
      ],
      "metadata": {
        "colab": {
          "base_uri": "https://localhost:8080/"
        },
        "id": "wj1rGOTsiKt0",
        "outputId": "84d86068-e0db-4f3e-fc35-b6fa7a67a681"
      },
      "execution_count": 71,
      "outputs": [
        {
          "output_type": "stream",
          "name": "stdout",
          "text": [
            "177\n"
          ]
        }
      ]
    },
    {
      "cell_type": "code",
      "source": [
        "#ncols=4\n",
        "#for i,f in enumerate(numeric_features):\n",
        "  #if i% ncols ==0: #左から4番目ならplt.show()をする\n",
        "    #if i>0:plt.show()\n",
        "    #plt.figure(figsize=(16,3))\n",
        "    #if i==0:plt.suptitle('Continuous features',fontsize=20,y=1.02)\n",
        "    #plt.subplot(1,ncols,i%ncols+1)\n",
        "    #plt.hist(train_df[f],bins=200)\n",
        "    #plt.xlabel(f)\n",
        "#plt.show()"
      ],
      "metadata": {
        "id": "kz5RA-zNlL9w"
      },
      "execution_count": 72,
      "outputs": []
    },
    {
      "cell_type": "code",
      "source": [
        ""
      ],
      "metadata": {
        "id": "-cgfuPCWmenx"
      },
      "execution_count": null,
      "outputs": []
    }
  ]
}